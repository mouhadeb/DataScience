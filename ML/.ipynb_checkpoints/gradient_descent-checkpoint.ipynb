{
 "cells": [
  {
   "cell_type": "markdown",
   "metadata": {},
   "source": [
    "# Gradient Descent\n",
    "\n",
    "<img src=\"https://i2.wp.com/lh6.ggpht.com/-5RFMcz2bzWI/VA9NuUkB_vI/AAAAAAAAAdM/_DqqYO0nbX4/im2_thumb%25255B1%25255D.png\"></img>\n",
    "\n",
    "Gradient descent is the most important algorithm in machine learning (ML). It is used in almost all the ML models and is what differentiate traditional statistics from ML. By optimizing the parameters of the gradient descent we optimize the predictive model.\n",
    " \n",
    "To understand gradient descent, we need to define some important concepts.\n",
    " \n",
    "## Loss function\n",
    "\n",
    "The loss function, also known as the cost function, is the measure we will use to calibrate the model. There are many types of loss functions. The selection of the loss function depends on the algorithm we want to run, and the question we want to answer (how we want to model the Y).\n",
    " \n",
    "One of the most commonly used loss function is the Mean Squared Error (MSE). The formula of the MSE is:\n",
    " \n",
    "<b> \n",
    " MSE = Σ(y – pred)² / n\n",
    "</b> \n",
    " \n",
    "This mean that we take difference between the real y and the predicted-y, square each of them, and sum all and divide by the number of rows in the dataset.\n"
   ]
  },
  {
   "cell_type": "code",
   "execution_count": 3,
   "metadata": {},
   "outputs": [],
   "source": [
    "loss_function <- function(y,pred) {# the pred is the y-hat \n",
    "    return( sum((y - pred)^2)/length(y) ) # ( sum((y - pred)^2)/length(y) )  in order to calculate the MSE\n",
    "}"
   ]
  },
  {
   "cell_type": "markdown",
   "metadata": {},
   "source": [
    "\n",
    "## Global Minima\n",
    "The global minima of the loss function is defined as the smallest value of the loss function. In other words, we find the global minima when we reduce the error at the lowest possible value.\n",
    "\n",
    "<img src=\"https://cdn-images-1.medium.com/max/602/0*gWBpMIJ7yRVAaAIA.\"></img>\n",
    "\n",
    "## Learning rate\n",
    " \n",
    "The learning rate can be defined as the number of 'jumps' we make when trying to reduce the global minima while calculating the optimal values for the weights. We have to be careful with this parameter because a high value may miss out the global minima, while a very low value will increase a lot the calculation time. The learning rate parameter in many functions is called as <b> alpha </b>.\n",
    "\n",
    "<table><tr>\n",
    "    <td cols=\"2\"> \n",
    "        <h2> Problems caused by too low or high learning rates </h2> \n",
    "    </td>\n",
    "    </tr><tr>\n",
    "    <td> \n",
    "        <img src=\"https://encrypted-tbn0.gstatic.com/images?q=tbn:ANd9GcSDZHOlr8UTVvLoA3adcxB7FQsVPusBU7lPSsVB-lunzaEPwahAQg\" width=\"400\" height=\"200\"></img> \n",
    "        <br> <h4> High Learning Rate </h4>\n",
    "    </td>\n",
    "    <td> \n",
    "        <img src=\"https://www.oreilly.com/library/view/hands-on-machine-learning/9781491962282/assets/mlst_0403.png\" width=\"400\" height=\"200\"></img> \n",
    "        <br> <h4> Low Learning Rate </h4>\n",
    "    </td>\n",
    "</tr></table>"
   ]
  },
  {
   "cell_type": "markdown",
   "metadata": {},
   "source": [
    "## Gradient Descent\n",
    " \n",
    "The formula for the calculation of the gradient descent is:\n",
    " \n",
    "<img src=\"https://i2.wp.com/2.bp.blogspot.com/-ZxJ87cWjPJ8/TtLtwqv0hCI/AAAAAAAAAV0/9FYqcxJ6dNY/s320/gradient+descent+algorithm+OLS.png?zoom=1.25&resize=320%2C181\"></img>\n",
    " \n",
    "This means that the values of the weights (called theta or ϴ) are calculated using the loss function (Jϴ).\n",
    " \n",
    "The initial theta values are generated randomly and the loss function is calculated using them. The calculation is made as follows:\n",
    " \n",
    " \n",
    "<center>\n",
    "    Y-hat = ϴ<sub>0</sub> + x<sub>1</sub>ϴ<sub>1</sub> + … + x<sub>n</sub>ϴ<sub>n</sub>\n",
    "</center>\n",
    " \n",
    "Then the loss function is calculated. If the model did not converged (the global minima was not reached), we increase/decrease theta by the learning rate, and recalculate the newly predicted Y (Y-hat). This is repeated until the global minima is reached.\n",
    " \n"
   ]
  },
  {
   "cell_type": "markdown",
   "metadata": {},
   "source": [
    "ϴ1 is m and ϴ0 is b"
   ]
  },
  {
   "cell_type": "code",
   "execution_count": 4,
   "metadata": {},
   "outputs": [],
   "source": [
    "### The gradient descent requires two values: learning rate and number of iterations.\n",
    "# seed=1 - we have to put the seed cause otherwize we will not be able to return the good result. we can put any num we want\n",
    "gradientDesc <- function(x, y, learn_rate=1e-6, max_iter=1e3, seed=1) {#max_iter is the num of interactions\n",
    "  #plot(x, y, col = \"blue\", pch = 20)\n",
    "  conv_threshold <- 1e-4 # conv_threshold is the minimum error which is very close to the zero. we can change it\n",
    "  n <- length(y) # the size of rows\n",
    "  m <- runif(1, 0, 1) # we chose a random number give me one number , between 0 to 1\n",
    "  c <- runif(1, 0, 1) # the c is b\n",
    "  yhat <- m * x + c\n",
    "# sum((y - pred)^2)/length(y)\n",
    "  MSE <- loss_function(y,yhat)\n",
    "  converged = F\n",
    "  iterations = 0 # because we start with 0\n",
    "  while(converged == F) {\n",
    "    ## Implement the gradient descent algorithm\n",
    "    m_new <- m - learn_rate * ((1 / n) * (sum((yhat - y) * x))) # (sum((yhat - y) is the error\n",
    "    c_new <- c - learn_rate * ((1 / n) * (sum(yhat - y)))\n",
    "    m <- m_new\n",
    "    c <- c_new\n",
    "    yhat <- m * x + c\n",
    "    MSE_new <- loss_function(y,yhat)\n",
    "    if(MSE - MSE_new <= conv_threshold) {\n",
    "      #abline(c, m) \n",
    "      converged = T\n",
    "      print(paste(\"Optimal intercept:\", c, \"Optimal slope:\", m))\n",
    "      return(data.frame(w=m,b=c,loss=MSE_new))\n",
    "    }\n",
    "    iterations = iterations + 1\n",
    "    if(iterations > max_iter) { \n",
    "      #abline(c, m) \n",
    "      converged = T\n",
    "      print(paste(\"Optimal intercept:\", c, \"Optimal slope:\", m))\n",
    "      return(data.frame(w=m,b=c,loss=MSE_new))\n",
    "    }\n",
    "  }\n",
    "}\n",
    "\n",
    "\n"
   ]
  },
  {
   "cell_type": "code",
   "execution_count": 5,
   "metadata": {},
   "outputs": [
    {
     "name": "stdout",
     "output_type": "stream",
     "text": [
      "[1] \"Optimal intercept: 29.5993351730611 Optimal slope: -0.0412133599618851\"\n"
     ]
    },
    {
     "data": {
      "text/html": [
       "<table>\n",
       "<caption>A data.frame: 1 × 3</caption>\n",
       "<thead>\n",
       "\t<tr><th scope=col>w</th><th scope=col>b</th><th scope=col>loss</th></tr>\n",
       "\t<tr><th scope=col>&lt;dbl&gt;</th><th scope=col>&lt;dbl&gt;</th><th scope=col>&lt;dbl&gt;</th></tr>\n",
       "</thead>\n",
       "<tbody>\n",
       "\t<tr><td>-0.04121336</td><td>29.59934</td><td>9.911209</td></tr>\n",
       "</tbody>\n",
       "</table>\n"
      ],
      "text/latex": [
       "A data.frame: 1 × 3\n",
       "\\begin{tabular}{r|lll}\n",
       " w & b & loss\\\\\n",
       " <dbl> & <dbl> & <dbl>\\\\\n",
       "\\hline\n",
       "\t -0.04121336 & 29.59934 & 9.911209\\\\\n",
       "\\end{tabular}\n"
      ],
      "text/markdown": [
       "\n",
       "A data.frame: 1 × 3\n",
       "\n",
       "| w &lt;dbl&gt; | b &lt;dbl&gt; | loss &lt;dbl&gt; |\n",
       "|---|---|---|\n",
       "| -0.04121336 | 29.59934 | 9.911209 |\n",
       "\n"
      ],
      "text/plain": [
       "  w           b        loss    \n",
       "1 -0.04121336 29.59934 9.911209"
      ]
     },
     "metadata": {},
     "output_type": "display_data"
    }
   ],
   "source": [
    "gradientDesc(mtcars$disp, mtcars$mpg, 0.00002, 2500000)"
   ]
  },
  {
   "cell_type": "code",
   "execution_count": 6,
   "metadata": {},
   "outputs": [
    {
     "data": {
      "text/html": [
       "<dl class=dl-horizontal>\n",
       "\t<dt>(Intercept)</dt>\n",
       "\t\t<dd>29.5998547561639</dd>\n",
       "\t<dt>mtcars$disp</dt>\n",
       "\t\t<dd>-0.0412151199627861</dd>\n",
       "</dl>\n"
      ],
      "text/latex": [
       "\\begin{description*}\n",
       "\\item[(Intercept)] 29.5998547561639\n",
       "\\item[mtcars\\textbackslash{}\\$disp] -0.0412151199627861\n",
       "\\end{description*}\n"
      ],
      "text/markdown": [
       "(Intercept)\n",
       ":   29.5998547561639mtcars$disp\n",
       ":   -0.0412151199627861\n",
       "\n"
      ],
      "text/plain": [
       "(Intercept) mtcars$disp \n",
       "29.59985476 -0.04121512 "
      ]
     },
     "metadata": {},
     "output_type": "display_data"
    }
   ],
   "source": [
    "mod <- lm(mtcars$mpg ~ mtcars$disp) # lm does not use the gradient descenndt lm we canot improve the model. is the linear regretion that use lass squer error\n",
    "mod$coefficients"
   ]
  },
  {
   "cell_type": "code",
   "execution_count": null,
   "metadata": {},
   "outputs": [],
   "source": [
    "# now we try to change the numbers to see if we can get a better model"
   ]
  },
  {
   "cell_type": "code",
   "execution_count": 7,
   "metadata": {},
   "outputs": [
    {
     "name": "stdout",
     "output_type": "stream",
     "text": [
      "[1] \"Optimal intercept: 29.5997965395873 Optimal slope: -0.0412149227638649\"\n"
     ]
    },
    {
     "data": {
      "text/html": [
       "<table>\n",
       "<caption>A data.frame: 1 × 3</caption>\n",
       "<thead>\n",
       "\t<tr><th scope=col>w</th><th scope=col>b</th><th scope=col>loss</th></tr>\n",
       "\t<tr><th scope=col>&lt;dbl&gt;</th><th scope=col>&lt;dbl&gt;</th><th scope=col>&lt;dbl&gt;</th></tr>\n",
       "</thead>\n",
       "<tbody>\n",
       "\t<tr><td>-0.04121492</td><td>29.5998</td><td>9.911209</td></tr>\n",
       "</tbody>\n",
       "</table>\n"
      ],
      "text/latex": [
       "A data.frame: 1 × 3\n",
       "\\begin{tabular}{r|lll}\n",
       " w & b & loss\\\\\n",
       " <dbl> & <dbl> & <dbl>\\\\\n",
       "\\hline\n",
       "\t -0.04121492 & 29.5998 & 9.911209\\\\\n",
       "\\end{tabular}\n"
      ],
      "text/markdown": [
       "\n",
       "A data.frame: 1 × 3\n",
       "\n",
       "| w &lt;dbl&gt; | b &lt;dbl&gt; | loss &lt;dbl&gt; |\n",
       "|---|---|---|\n",
       "| -0.04121492 | 29.5998 | 9.911209 |\n",
       "\n"
      ],
      "text/plain": [
       "  w           b       loss    \n",
       "1 -0.04121492 29.5998 9.911209"
      ]
     },
     "metadata": {},
     "output_type": "display_data"
    }
   ],
   "source": [
    "gradientDesc(mtcars$disp, mtcars$mpg, 0.00002, 3000000)# it didnt change much so maybe we get to the minimum"
   ]
  },
  {
   "cell_type": "code",
   "execution_count": 8,
   "metadata": {},
   "outputs": [
    {
     "name": "stdout",
     "output_type": "stream",
     "text": [
      "[1] \"Optimal intercept: 29.5586979851803 Optimal slope: -0.0410757082813605\"\n"
     ]
    },
    {
     "data": {
      "text/html": [
       "<table>\n",
       "<caption>A data.frame: 1 × 3</caption>\n",
       "<thead>\n",
       "\t<tr><th scope=col>w</th><th scope=col>b</th><th scope=col>loss</th></tr>\n",
       "\t<tr><th scope=col>&lt;dbl&gt;</th><th scope=col>&lt;dbl&gt;</th><th scope=col>&lt;dbl&gt;</th></tr>\n",
       "</thead>\n",
       "<tbody>\n",
       "\t<tr><td>-0.04107571</td><td>29.5587</td><td>9.911579</td></tr>\n",
       "</tbody>\n",
       "</table>\n"
      ],
      "text/latex": [
       "A data.frame: 1 × 3\n",
       "\\begin{tabular}{r|lll}\n",
       " w & b & loss\\\\\n",
       " <dbl> & <dbl> & <dbl>\\\\\n",
       "\\hline\n",
       "\t -0.04107571 & 29.5587 & 9.911579\\\\\n",
       "\\end{tabular}\n"
      ],
      "text/markdown": [
       "\n",
       "A data.frame: 1 × 3\n",
       "\n",
       "| w &lt;dbl&gt; | b &lt;dbl&gt; | loss &lt;dbl&gt; |\n",
       "|---|---|---|\n",
       "| -0.04107571 | 29.5587 | 9.911579 |\n",
       "\n"
      ],
      "text/plain": [
       "  w           b       loss    \n",
       "1 -0.04107571 29.5587 9.911579"
      ]
     },
     "metadata": {},
     "output_type": "display_data"
    }
   ],
   "source": [
    "gradientDesc(mtcars$disp, mtcars$mpg, 0.00001, 3000000)# it didnt change much so maybe we get to the minimum"
   ]
  },
  {
   "cell_type": "code",
   "execution_count": null,
   "metadata": {},
   "outputs": [],
   "source": [
    "# to calculate the MSE of lm: mod=lm(y~x), y-hat=predict(mod), so MSE is the (y-hat - y). our goal is to get to a minimum loos_function = minimum MSE. and we can see that the MSE of the lm and the loss of the gradientDesc is almost the same"
   ]
  },
  {
   "cell_type": "code",
   "execution_count": null,
   "metadata": {},
   "outputs": [],
   "source": [
    "# this model is less recommended cause we cannot change any parameter"
   ]
  },
  {
   "cell_type": "code",
   "execution_count": 10,
   "metadata": {},
   "outputs": [
    {
     "data": {
      "text/html": [
       "9.91120904006827"
      ],
      "text/latex": [
       "9.91120904006827"
      ],
      "text/markdown": [
       "9.91120904006827"
      ],
      "text/plain": [
       "[1] 9.911209"
      ]
     },
     "metadata": {},
     "output_type": "display_data"
    }
   ],
   "source": [
    "mod=lm(mtcars$mpg ~ mtcars$disp)\n",
    "y_hat=predict(mod)\n",
    "MSE = loss_function(mtcars$mpg, y_hat)\n",
    "MSE"
   ]
  },
  {
   "cell_type": "code",
   "execution_count": 11,
   "metadata": {},
   "outputs": [
    {
     "name": "stderr",
     "output_type": "stream",
     "text": [
      "\n",
      "Attaching package: ‘dplyr’\n",
      "\n",
      "\n",
      "The following objects are masked from ‘package:stats’:\n",
      "\n",
      "    filter, lag\n",
      "\n",
      "\n",
      "The following objects are masked from ‘package:base’:\n",
      "\n",
      "    intersect, setdiff, setequal, union\n",
      "\n",
      "\n"
     ]
    },
    {
     "name": "stdout",
     "output_type": "stream",
     "text": [
      "[1] \"Optimal intercept: -5.71289237042052 Optimal slope: -2090.81848182588\"\n",
      "[1] \"Optimal intercept: -8.22479630343107 Optimal slope: -2563.66224126419\"\n",
      "[1] \"Optimal intercept: -1.11823355962936 Optimal slope: -520.121500199364\"\n",
      "[1] \"Optimal intercept: 0.674254398861947 Optimal slope: -17.077786106388\"\n",
      "[1] \"Optimal intercept: 0.107416195477904 Optimal slope: 3.80474225843254\"\n",
      "[1] \"Optimal intercept: 0.210883203658533 Optimal slope: -9.33999395152552\"\n",
      "[1] \"Optimal intercept: 0.912828472653274 Optimal slope: -0.0105297569944471\"\n",
      "[1] \"Optimal intercept: 0.754381746144768 Optimal slope: -0.471343814104538\"\n",
      "[1] \"Optimal intercept: 29.478342109344 Optimal slope: -0.0408035161852601\"\n",
      "[1] \"Optimal intercept: 27.69753171833 Optimal slope: -0.0347713186882788\"\n",
      "[1] \"Optimal intercept: 12.4995353130847 Optimal slope: 0.0167093534469784\"\n"
     ]
    }
   ],
   "source": [
    "## iterating with the learning rate. the \"Optimal intercept is the cutting point with y. the Optimal slope is the slope. \n",
    "library(dplyr)\n",
    "res <- NULL\n",
    "learning_rate <- c(1e-1,5e-2,1e-2,5e-3,1e-3,5e-4,1e-4,5e-5,1e-5,5e-6,1e-6)\n",
    "for (lr in learning_rate) {\n",
    "    gd <- gradientDesc(mtcars$disp, mtcars$mpg, lr, 2500000)\n",
    "    res <- rbind(res, data.frame(cbind(learning_rate=lr, gd)))\n",
    "}\n"
   ]
  },
  {
   "cell_type": "code",
   "execution_count": 13,
   "metadata": {},
   "outputs": [
    {
     "data": {
      "text/html": [
       "<table>\n",
       "<caption>A data.frame: 11 × 4</caption>\n",
       "<thead>\n",
       "\t<tr><th scope=col>learning_rate</th><th scope=col>w</th><th scope=col>b</th><th scope=col>loss</th></tr>\n",
       "\t<tr><th scope=col>&lt;dbl&gt;</th><th scope=col>&lt;dbl&gt;</th><th scope=col>&lt;dbl&gt;</th><th scope=col>&lt;dbl&gt;</th></tr>\n",
       "</thead>\n",
       "<tbody>\n",
       "\t<tr><td>1e-01</td><td>-2.090818e+03</td><td>-5.7128924</td><td>2.977814e+11</td></tr>\n",
       "\t<tr><td>5e-02</td><td>-2.563662e+03</td><td>-8.2247963</td><td>4.476961e+11</td></tr>\n",
       "\t<tr><td>1e-02</td><td>-5.201215e+02</td><td>-1.1182336</td><td>1.843091e+10</td></tr>\n",
       "\t<tr><td>5e-03</td><td>-1.707779e+01</td><td> 0.6742544</td><td>1.999779e+07</td></tr>\n",
       "\t<tr><td>1e-03</td><td> 3.804742e+00</td><td> 0.1074162</td><td>9.560308e+05</td></tr>\n",
       "\t<tr><td>5e-04</td><td>-9.339994e+00</td><td> 0.2108832</td><td>6.016555e+06</td></tr>\n",
       "\t<tr><td>1e-04</td><td>-1.052976e-02</td><td> 0.9128285</td><td>4.907957e+02</td></tr>\n",
       "\t<tr><td>5e-05</td><td>-4.713438e-01</td><td> 0.7543817</td><td>1.916893e+04</td></tr>\n",
       "\t<tr><td>1e-05</td><td>-4.080352e-02</td><td>29.4783421</td><td>9.914435e+00</td></tr>\n",
       "\t<tr><td>5e-06</td><td>-3.477132e-02</td><td>27.6975317</td><td>1.070182e+01</td></tr>\n",
       "\t<tr><td>1e-06</td><td> 1.670935e-02</td><td>12.4995353</td><td>7.379662e+01</td></tr>\n",
       "</tbody>\n",
       "</table>\n"
      ],
      "text/latex": [
       "A data.frame: 11 × 4\n",
       "\\begin{tabular}{r|llll}\n",
       " learning\\_rate & w & b & loss\\\\\n",
       " <dbl> & <dbl> & <dbl> & <dbl>\\\\\n",
       "\\hline\n",
       "\t 1e-01 & -2.090818e+03 & -5.7128924 & 2.977814e+11\\\\\n",
       "\t 5e-02 & -2.563662e+03 & -8.2247963 & 4.476961e+11\\\\\n",
       "\t 1e-02 & -5.201215e+02 & -1.1182336 & 1.843091e+10\\\\\n",
       "\t 5e-03 & -1.707779e+01 &  0.6742544 & 1.999779e+07\\\\\n",
       "\t 1e-03 &  3.804742e+00 &  0.1074162 & 9.560308e+05\\\\\n",
       "\t 5e-04 & -9.339994e+00 &  0.2108832 & 6.016555e+06\\\\\n",
       "\t 1e-04 & -1.052976e-02 &  0.9128285 & 4.907957e+02\\\\\n",
       "\t 5e-05 & -4.713438e-01 &  0.7543817 & 1.916893e+04\\\\\n",
       "\t 1e-05 & -4.080352e-02 & 29.4783421 & 9.914435e+00\\\\\n",
       "\t 5e-06 & -3.477132e-02 & 27.6975317 & 1.070182e+01\\\\\n",
       "\t 1e-06 &  1.670935e-02 & 12.4995353 & 7.379662e+01\\\\\n",
       "\\end{tabular}\n"
      ],
      "text/markdown": [
       "\n",
       "A data.frame: 11 × 4\n",
       "\n",
       "| learning_rate &lt;dbl&gt; | w &lt;dbl&gt; | b &lt;dbl&gt; | loss &lt;dbl&gt; |\n",
       "|---|---|---|---|\n",
       "| 1e-01 | -2.090818e+03 | -5.7128924 | 2.977814e+11 |\n",
       "| 5e-02 | -2.563662e+03 | -8.2247963 | 4.476961e+11 |\n",
       "| 1e-02 | -5.201215e+02 | -1.1182336 | 1.843091e+10 |\n",
       "| 5e-03 | -1.707779e+01 |  0.6742544 | 1.999779e+07 |\n",
       "| 1e-03 |  3.804742e+00 |  0.1074162 | 9.560308e+05 |\n",
       "| 5e-04 | -9.339994e+00 |  0.2108832 | 6.016555e+06 |\n",
       "| 1e-04 | -1.052976e-02 |  0.9128285 | 4.907957e+02 |\n",
       "| 5e-05 | -4.713438e-01 |  0.7543817 | 1.916893e+04 |\n",
       "| 1e-05 | -4.080352e-02 | 29.4783421 | 9.914435e+00 |\n",
       "| 5e-06 | -3.477132e-02 | 27.6975317 | 1.070182e+01 |\n",
       "| 1e-06 |  1.670935e-02 | 12.4995353 | 7.379662e+01 |\n",
       "\n"
      ],
      "text/plain": [
       "   learning_rate w             b          loss        \n",
       "1  1e-01         -2.090818e+03 -5.7128924 2.977814e+11\n",
       "2  5e-02         -2.563662e+03 -8.2247963 4.476961e+11\n",
       "3  1e-02         -5.201215e+02 -1.1182336 1.843091e+10\n",
       "4  5e-03         -1.707779e+01  0.6742544 1.999779e+07\n",
       "5  1e-03          3.804742e+00  0.1074162 9.560308e+05\n",
       "6  5e-04         -9.339994e+00  0.2108832 6.016555e+06\n",
       "7  1e-04         -1.052976e-02  0.9128285 4.907957e+02\n",
       "8  5e-05         -4.713438e-01  0.7543817 1.916893e+04\n",
       "9  1e-05         -4.080352e-02 29.4783421 9.914435e+00\n",
       "10 5e-06         -3.477132e-02 27.6975317 1.070182e+01\n",
       "11 1e-06          1.670935e-02 12.4995353 7.379662e+01"
      ]
     },
     "metadata": {},
     "output_type": "display_data"
    },
    {
     "data": {
      "image/png": "[encoded data removed]",
      "text/plain": [
       "plot without title"
      ]
     },
     "metadata": {
      "image/png": {
       "height": 180,
       "width": 240
      },
      "text/plain": {
       "height": 180,
       "width": 240
      }
     },
     "output_type": "display_data"
    },
    {
     "data": {
      "image/png": "[encoded data removed]",
      "text/plain": [
       "plot without title"
      ]
     },
     "metadata": {
      "image/png": {
       "height": 180,
       "width": 240
      },
      "text/plain": {
       "height": 180,
       "width": 240
      }
     },
     "output_type": "display_data"
    }
   ],
   "source": [
    "options(repr.plot.width = 4, repr.plot.height = 3)# we look at the loos and chose the sall number and then we look at the learning_rate and chose the smallest\n",
    "res <- res %>% arrange(desc(learning_rate))\n",
    "res\n",
    "plot(res$loss ~ res$learning_rate, type=\"l\",\n",
    "     xlab=\"Learning rate\", ylab=\"Loss (MSE)\",\n",
    "     xlim = rev(range(res$learning_rate)))\n",
    "plot(log10(res$loss) ~ log10(res$learning_rate), type=\"l\",\n",
    "     xlab=\"Learning rate\", ylab=\"Loss (MSE)\",\n",
    "     xlim = rev(range(log10(res$learning_rate)))) # we are looking for the minimal loss\n"
   ]
  },
  {
   "cell_type": "code",
   "execution_count": null,
   "metadata": {},
   "outputs": [],
   "source": [
    "# now we will choose set of num wich have smallest intervals"
   ]
  },
  {
   "cell_type": "code",
   "execution_count": 14,
   "metadata": {},
   "outputs": [
    {
     "data": {
      "text/html": [
       "<ol class=list-inline>\n",
       "\t<li>1e-05</li>\n",
       "\t<li>2e-05</li>\n",
       "\t<li>3e-05</li>\n",
       "\t<li>5e-05</li>\n",
       "\t<li>6e-05</li>\n",
       "\t<li>7e-05</li>\n",
       "\t<li>8e-05</li>\n",
       "\t<li>9e-05</li>\n",
       "\t<li>1e-04</li>\n",
       "\t<li>2e-04</li>\n",
       "\t<li>3e-04</li>\n",
       "\t<li>5e-04</li>\n",
       "\t<li>6e-04</li>\n",
       "\t<li>7e-04</li>\n",
       "\t<li>8e-04</li>\n",
       "\t<li>9e-04</li>\n",
       "\t<li>0.001</li>\n",
       "</ol>\n"
      ],
      "text/latex": [
       "\\begin{enumerate*}\n",
       "\\item 1e-05\n",
       "\\item 2e-05\n",
       "\\item 3e-05\n",
       "\\item 5e-05\n",
       "\\item 6e-05\n",
       "\\item 7e-05\n",
       "\\item 8e-05\n",
       "\\item 9e-05\n",
       "\\item 1e-04\n",
       "\\item 2e-04\n",
       "\\item 3e-04\n",
       "\\item 5e-04\n",
       "\\item 6e-04\n",
       "\\item 7e-04\n",
       "\\item 8e-04\n",
       "\\item 9e-04\n",
       "\\item 0.001\n",
       "\\end{enumerate*}\n"
      ],
      "text/markdown": [
       "1. 1e-05\n",
       "2. 2e-05\n",
       "3. 3e-05\n",
       "4. 5e-05\n",
       "5. 6e-05\n",
       "6. 7e-05\n",
       "7. 8e-05\n",
       "8. 9e-05\n",
       "9. 1e-04\n",
       "10. 2e-04\n",
       "11. 3e-04\n",
       "12. 5e-04\n",
       "13. 6e-04\n",
       "14. 7e-04\n",
       "15. 8e-04\n",
       "16. 9e-04\n",
       "17. 0.001\n",
       "\n",
       "\n"
      ],
      "text/plain": [
       " [1] 1e-05 2e-05 3e-05 5e-05 6e-05 7e-05 8e-05 9e-05 1e-04 2e-04 3e-04 5e-04\n",
       "[13] 6e-04 7e-04 8e-04 9e-04 1e-03"
      ]
     },
     "metadata": {},
     "output_type": "display_data"
    }
   ],
   "source": [
    "learning_rate <- c(1e-5,2e-5,3e-5,5e-5,6e-5,7e-5,8e-5,9e-5,1e-4,2e-4,3e-4,5e-4,6e-4,7e-4,8e-4,9e-4,1e-3)\n",
    "learning_rate\n"
   ]
  },
  {
   "cell_type": "code",
   "execution_count": 89,
   "metadata": {},
   "outputs": [
    {
     "name": "stdout",
     "output_type": "stream",
     "text": [
      "[1] \"Optimal intercept: 29.4775524682693 Optimal slope: -0.040800841408126\"\n",
      "[1] \"Optimal intercept: 29.5993282707597 Optimal slope: -0.0412133365814933\"\n",
      "[1] \"Optimal intercept: 0.590402216497878 Optimal slope: -0.161234815945529\"\n",
      "[1] \"Optimal intercept: 0.598766403881814 Optimal slope: -1.10591330921019\"\n",
      "[1] \"Optimal intercept: 0.273428865037896 Optimal slope: -1.42368231460248\"\n",
      "[1] \"Optimal intercept: 0.173742219499142 Optimal slope: -2.58654965319555\"\n",
      "[1] \"Optimal intercept: 0.548354903090342 Optimal slope: -1.06114689789342\"\n",
      "[1] \"Optimal intercept: 0.524383086701292 Optimal slope: -4.75462396099102\"\n",
      "[1] \"Optimal intercept: 0.980731419248987 Optimal slope: -3.26968322223671\"\n",
      "[1] \"Optimal intercept: 0.573609151067134 Optimal slope: -10.6617019293539\"\n",
      "[1] \"Optimal intercept: 0.737601734287558 Optimal slope: -17.5910608532805\"\n",
      "[1] \"Optimal intercept: 0.59630778221597 Optimal slope: -16.6792057027658\"\n",
      "[1] \"Optimal intercept: 0.442632175636116 Optimal slope: -1.26872669169546\"\n",
      "[1] \"Optimal intercept: 0.357437052165266 Optimal slope: -9.54213851496046\"\n",
      "[1] \"Optimal intercept: 0.0585271189708373 Optimal slope: -1.98626390405164\"\n",
      "[1] \"Optimal intercept: 0.562814378787595 Optimal slope: -45.3317473021862\"\n",
      "[1] \"Optimal intercept: 0.718019919026888 Optimal slope: -36.0499943037796\"\n"
     ]
    }
   ],
   "source": [
    "res <- NULL\n",
    "for (lr in learning_rate) {\n",
    "    gd <- gradientDesc(mtcars$disp, mtcars$mpg, lr, 2500000)\n",
    "    res <- rbind(res, data.frame(cbind(learning_rate=lr, gd)))\n",
    "}\n"
   ]
  },
  {
   "cell_type": "code",
   "execution_count": 90,
   "metadata": {},
   "outputs": [
    {
     "data": {
      "text/html": [
       "<table>\n",
       "<thead><tr><th scope=col>learning_rate</th><th scope=col>w</th><th scope=col>b</th><th scope=col>loss</th></tr></thead>\n",
       "<tbody>\n",
       "\t<tr><td>1e-05       </td><td> -0.04080084</td><td>29.47755247 </td><td>9.914477e+00</td></tr>\n",
       "\t<tr><td>2e-05       </td><td> -0.04121334</td><td>29.59932827 </td><td>9.911209e+00</td></tr>\n",
       "\t<tr><td>3e-05       </td><td> -0.16123482</td><td> 0.59040222 </td><td>3.439225e+03</td></tr>\n",
       "\t<tr><td>5e-05       </td><td> -1.10591331</td><td> 0.59876640 </td><td>9.231125e+04</td></tr>\n",
       "\t<tr><td>6e-05       </td><td> -1.42368231</td><td> 0.27342887 </td><td>1.497575e+05</td></tr>\n",
       "\t<tr><td>7e-05       </td><td> -2.58654965</td><td> 0.17374222 </td><td>4.767255e+05</td></tr>\n",
       "\t<tr><td>8e-05       </td><td> -1.06114690</td><td> 0.54835490 </td><td>8.538239e+04</td></tr>\n",
       "\t<tr><td>9e-05       </td><td> -4.75462396</td><td> 0.52438309 </td><td>1.577315e+06</td></tr>\n",
       "\t<tr><td>1e-04       </td><td> -3.26968322</td><td> 0.98073142 </td><td>7.534105e+05</td></tr>\n",
       "\t<tr><td>2e-04       </td><td>-10.66170193</td><td> 0.57360915 </td><td>7.825932e+06</td></tr>\n",
       "\t<tr><td>3e-04       </td><td>-17.59106085</td><td> 0.73760173 </td><td>2.121329e+07</td></tr>\n",
       "\t<tr><td>5e-04       </td><td>-16.67920570</td><td> 0.59630778 </td><td>1.907885e+07</td></tr>\n",
       "\t<tr><td>6e-04       </td><td> -1.26872669</td><td> 0.44263218 </td><td>1.200077e+05</td></tr>\n",
       "\t<tr><td>7e-04       </td><td> -9.54213851</td><td> 0.35743705 </td><td>6.277494e+06</td></tr>\n",
       "\t<tr><td>8e-04       </td><td> -1.98626390</td><td> 0.05852712 </td><td>2.850843e+05</td></tr>\n",
       "\t<tr><td>9e-04       </td><td>-45.33174730</td><td> 0.56281438 </td><td>1.403240e+08</td></tr>\n",
       "\t<tr><td>1e-03       </td><td>-36.04999430</td><td> 0.71801992 </td><td>8.879872e+07</td></tr>\n",
       "</tbody>\n",
       "</table>\n"
      ],
      "text/latex": [
       "\\begin{tabular}{r|llll}\n",
       " learning\\_rate & w & b & loss\\\\\n",
       "\\hline\n",
       "\t 1e-05        &  -0.04080084 & 29.47755247  & 9.914477e+00\\\\\n",
       "\t 2e-05        &  -0.04121334 & 29.59932827  & 9.911209e+00\\\\\n",
       "\t 3e-05        &  -0.16123482 &  0.59040222  & 3.439225e+03\\\\\n",
       "\t 5e-05        &  -1.10591331 &  0.59876640  & 9.231125e+04\\\\\n",
       "\t 6e-05        &  -1.42368231 &  0.27342887  & 1.497575e+05\\\\\n",
       "\t 7e-05        &  -2.58654965 &  0.17374222  & 4.767255e+05\\\\\n",
       "\t 8e-05        &  -1.06114690 &  0.54835490  & 8.538239e+04\\\\\n",
       "\t 9e-05        &  -4.75462396 &  0.52438309  & 1.577315e+06\\\\\n",
       "\t 1e-04        &  -3.26968322 &  0.98073142  & 7.534105e+05\\\\\n",
       "\t 2e-04        & -10.66170193 &  0.57360915  & 7.825932e+06\\\\\n",
       "\t 3e-04        & -17.59106085 &  0.73760173  & 2.121329e+07\\\\\n",
       "\t 5e-04        & -16.67920570 &  0.59630778  & 1.907885e+07\\\\\n",
       "\t 6e-04        &  -1.26872669 &  0.44263218  & 1.200077e+05\\\\\n",
       "\t 7e-04        &  -9.54213851 &  0.35743705  & 6.277494e+06\\\\\n",
       "\t 8e-04        &  -1.98626390 &  0.05852712  & 2.850843e+05\\\\\n",
       "\t 9e-04        & -45.33174730 &  0.56281438  & 1.403240e+08\\\\\n",
       "\t 1e-03        & -36.04999430 &  0.71801992  & 8.879872e+07\\\\\n",
       "\\end{tabular}\n"
      ],
      "text/markdown": [
       "\n",
       "learning_rate | w | b | loss | \n",
       "|---|---|---|---|---|---|---|---|---|---|---|---|---|---|---|---|---|\n",
       "| 1e-05        |  -0.04080084 | 29.47755247  | 9.914477e+00 | \n",
       "| 2e-05        |  -0.04121334 | 29.59932827  | 9.911209e+00 | \n",
       "| 3e-05        |  -0.16123482 |  0.59040222  | 3.439225e+03 | \n",
       "| 5e-05        |  -1.10591331 |  0.59876640  | 9.231125e+04 | \n",
       "| 6e-05        |  -1.42368231 |  0.27342887  | 1.497575e+05 | \n",
       "| 7e-05        |  -2.58654965 |  0.17374222  | 4.767255e+05 | \n",
       "| 8e-05        |  -1.06114690 |  0.54835490  | 8.538239e+04 | \n",
       "| 9e-05        |  -4.75462396 |  0.52438309  | 1.577315e+06 | \n",
       "| 1e-04        |  -3.26968322 |  0.98073142  | 7.534105e+05 | \n",
       "| 2e-04        | -10.66170193 |  0.57360915  | 7.825932e+06 | \n",
       "| 3e-04        | -17.59106085 |  0.73760173  | 2.121329e+07 | \n",
       "| 5e-04        | -16.67920570 |  0.59630778  | 1.907885e+07 | \n",
       "| 6e-04        |  -1.26872669 |  0.44263218  | 1.200077e+05 | \n",
       "| 7e-04        |  -9.54213851 |  0.35743705  | 6.277494e+06 | \n",
       "| 8e-04        |  -1.98626390 |  0.05852712  | 2.850843e+05 | \n",
       "| 9e-04        | -45.33174730 |  0.56281438  | 1.403240e+08 | \n",
       "| 1e-03        | -36.04999430 |  0.71801992  | 8.879872e+07 | \n",
       "\n",
       "\n"
      ],
      "text/plain": [
       "   learning_rate w            b           loss        \n",
       "1  1e-05          -0.04080084 29.47755247 9.914477e+00\n",
       "2  2e-05          -0.04121334 29.59932827 9.911209e+00\n",
       "3  3e-05          -0.16123482  0.59040222 3.439225e+03\n",
       "4  5e-05          -1.10591331  0.59876640 9.231125e+04\n",
       "5  6e-05          -1.42368231  0.27342887 1.497575e+05\n",
       "6  7e-05          -2.58654965  0.17374222 4.767255e+05\n",
       "7  8e-05          -1.06114690  0.54835490 8.538239e+04\n",
       "8  9e-05          -4.75462396  0.52438309 1.577315e+06\n",
       "9  1e-04          -3.26968322  0.98073142 7.534105e+05\n",
       "10 2e-04         -10.66170193  0.57360915 7.825932e+06\n",
       "11 3e-04         -17.59106085  0.73760173 2.121329e+07\n",
       "12 5e-04         -16.67920570  0.59630778 1.907885e+07\n",
       "13 6e-04          -1.26872669  0.44263218 1.200077e+05\n",
       "14 7e-04          -9.54213851  0.35743705 6.277494e+06\n",
       "15 8e-04          -1.98626390  0.05852712 2.850843e+05\n",
       "16 9e-04         -45.33174730  0.56281438 1.403240e+08\n",
       "17 1e-03         -36.04999430  0.71801992 8.879872e+07"
      ]
     },
     "metadata": {},
     "output_type": "display_data"
    },
    {
     "data": {
      "image/png": "[encoded data removed]",
      "text/plain": [
       "plot without title"
      ]
     },
     "metadata": {},
     "output_type": "display_data"
    },
    {
     "data": {
      "image/png": "[encoded data removed]",
      "text/plain": [
       "plot without title"
      ]
     },
     "metadata": {},
     "output_type": "display_data"
    }
   ],
   "source": [
    "library(dplyr)\n",
    "res <- res %>% arrange(learning_rate) \n",
    "res\n",
    "options(repr.plot.width = 6, repr.plot.height = 4)\n",
    "plot(res$loss ~ res$learning_rate, type=\"l\",\n",
    "     xlab=\"Learning rate\", ylab=\"Loss (MSE)\",\n",
    "     xlim = rev(range(res$learning_rate)))\n",
    "plot(log10(res$loss) ~ log10(res$learning_rate), type=\"l\",\n",
    "     xlab=\"Learning rate\", ylab=\"Loss (MSE)\",\n",
    "     xlim = rev(range(log10(res$learning_rate))))"
   ]
  },
  {
   "cell_type": "code",
   "execution_count": null,
   "metadata": {},
   "outputs": [],
   "source": [
    "# now we will do the interaction with the number_iterations insteed of the learning rate "
   ]
  },
  {
   "cell_type": "code",
   "execution_count": 83,
   "metadata": {},
   "outputs": [
    {
     "name": "stdout",
     "output_type": "stream",
     "text": [
      "[1] \"Optimal intercept: 0.861303488308978 Optimal slope: 0.0561343030152594\"\n",
      "[1] \"Optimal intercept: 0.409777218775862 Optimal slope: 0.057661387916001\"\n",
      "[1] \"Optimal intercept: 0.089956265155533 Optimal slope: 0.0587447279311118\"\n",
      "[1] \"Optimal intercept: 0.75143963443057 Optimal slope: 0.0565040635995411\"\n",
      "[1] \"Optimal intercept: 0.808024184643905 Optimal slope: 0.0563123928950758\"\n",
      "[1] \"Optimal intercept: 3.64745901596276 Optimal slope: 0.046694282079488\"\n",
      "[1] \"Optimal intercept: 0.913314645020955 Optimal slope: 0.0559557390622212\"\n",
      "[1] \"Optimal intercept: 19.9340522831491 Optimal slope: -0.00847382994210306\"\n",
      "[1] \"Optimal intercept: 5.985573604854 Optimal slope: 0.0387743097781503\"\n",
      "[1] \"Optimal intercept: 29.5993340817854 Optimal slope: -0.0412133562653714\"\n",
      "[1] \"Optimal intercept: 26.3713838830542 Optimal slope: -0.0302792145917712\"\n",
      "[1] \"Optimal intercept: 29.5993257131288 Optimal slope: -0.041213327917946\"\n",
      "[1] \"Optimal intercept: 29.5998547467984 Optimal slope: -0.0412151199310621\"\n"
     ]
    }
   ],
   "source": [
    "## iterating with the number of iterations\n",
    "library(dplyr)\n",
    "res <- NULL\n",
    "number_iterations <- c(1e1,5e2,1e2,5e3,1e3,5e4,1e4,5e5,1e5,5e6,1e6,5e6,1e7)\n",
    "for (iter in number_iterations) {\n",
    "    gd <- gradientDesc(mtcars$disp, mtcars$mpg, 1e-5, iter)\n",
    "    res <- rbind(res, data.frame(cbind(num_iter=iter, gd)))\n",
    "}\n"
   ]
  },
  {
   "cell_type": "code",
   "execution_count": 85,
   "metadata": {},
   "outputs": [
    {
     "data": {
      "text/html": [
       "<table>\n",
       "<thead><tr><th scope=col>num_iter</th><th scope=col>w</th><th scope=col>b</th><th scope=col>loss</th></tr></thead>\n",
       "<tbody>\n",
       "\t<tr><td>1e+01      </td><td> 0.05613430</td><td> 0.86130349</td><td>190.347127 </td></tr>\n",
       "\t<tr><td>1e+02      </td><td> 0.05874473</td><td> 0.08995627</td><td>200.162969 </td></tr>\n",
       "\t<tr><td>5e+02      </td><td> 0.05766139</td><td> 0.40977722</td><td>196.061512 </td></tr>\n",
       "\t<tr><td>1e+03      </td><td> 0.05631239</td><td> 0.80802418</td><td>191.016779 </td></tr>\n",
       "\t<tr><td>5e+03      </td><td> 0.05650406</td><td> 0.75143963</td><td>191.729331 </td></tr>\n",
       "\t<tr><td>1e+04      </td><td> 0.05595574</td><td> 0.91331465</td><td>189.694611 </td></tr>\n",
       "\t<tr><td>5e+04      </td><td> 0.04669428</td><td> 3.64745902</td><td>157.057107 </td></tr>\n",
       "\t<tr><td>1e+05      </td><td> 0.03877431</td><td> 5.98557360</td><td>131.737974 </td></tr>\n",
       "\t<tr><td>5e+05      </td><td>-0.00847383</td><td>19.93405228</td><td> 30.322435 </td></tr>\n",
       "\t<tr><td>1e+06      </td><td>-0.03027921</td><td>26.37138388</td><td> 12.188335 </td></tr>\n",
       "\t<tr><td>5e+06      </td><td>-0.04121336</td><td>29.59933408</td><td>  9.911209 </td></tr>\n",
       "\t<tr><td>5e+06      </td><td>-0.04121333</td><td>29.59932571</td><td>  9.911209 </td></tr>\n",
       "\t<tr><td>1e+07      </td><td>-0.04121512</td><td>29.59985475</td><td>  9.911209 </td></tr>\n",
       "</tbody>\n",
       "</table>\n"
      ],
      "text/latex": [
       "\\begin{tabular}{r|llll}\n",
       " num\\_iter & w & b & loss\\\\\n",
       "\\hline\n",
       "\t 1e+01       &  0.05613430 &  0.86130349 & 190.347127 \\\\\n",
       "\t 1e+02       &  0.05874473 &  0.08995627 & 200.162969 \\\\\n",
       "\t 5e+02       &  0.05766139 &  0.40977722 & 196.061512 \\\\\n",
       "\t 1e+03       &  0.05631239 &  0.80802418 & 191.016779 \\\\\n",
       "\t 5e+03       &  0.05650406 &  0.75143963 & 191.729331 \\\\\n",
       "\t 1e+04       &  0.05595574 &  0.91331465 & 189.694611 \\\\\n",
       "\t 5e+04       &  0.04669428 &  3.64745902 & 157.057107 \\\\\n",
       "\t 1e+05       &  0.03877431 &  5.98557360 & 131.737974 \\\\\n",
       "\t 5e+05       & -0.00847383 & 19.93405228 &  30.322435 \\\\\n",
       "\t 1e+06       & -0.03027921 & 26.37138388 &  12.188335 \\\\\n",
       "\t 5e+06       & -0.04121336 & 29.59933408 &   9.911209 \\\\\n",
       "\t 5e+06       & -0.04121333 & 29.59932571 &   9.911209 \\\\\n",
       "\t 1e+07       & -0.04121512 & 29.59985475 &   9.911209 \\\\\n",
       "\\end{tabular}\n"
      ],
      "text/markdown": [
       "\n",
       "num_iter | w | b | loss | \n",
       "|---|---|---|---|---|---|---|---|---|---|---|---|---|\n",
       "| 1e+01       |  0.05613430 |  0.86130349 | 190.347127  | \n",
       "| 1e+02       |  0.05874473 |  0.08995627 | 200.162969  | \n",
       "| 5e+02       |  0.05766139 |  0.40977722 | 196.061512  | \n",
       "| 1e+03       |  0.05631239 |  0.80802418 | 191.016779  | \n",
       "| 5e+03       |  0.05650406 |  0.75143963 | 191.729331  | \n",
       "| 1e+04       |  0.05595574 |  0.91331465 | 189.694611  | \n",
       "| 5e+04       |  0.04669428 |  3.64745902 | 157.057107  | \n",
       "| 1e+05       |  0.03877431 |  5.98557360 | 131.737974  | \n",
       "| 5e+05       | -0.00847383 | 19.93405228 |  30.322435  | \n",
       "| 1e+06       | -0.03027921 | 26.37138388 |  12.188335  | \n",
       "| 5e+06       | -0.04121336 | 29.59933408 |   9.911209  | \n",
       "| 5e+06       | -0.04121333 | 29.59932571 |   9.911209  | \n",
       "| 1e+07       | -0.04121512 | 29.59985475 |   9.911209  | \n",
       "\n",
       "\n"
      ],
      "text/plain": [
       "   num_iter w           b           loss      \n",
       "1  1e+01     0.05613430  0.86130349 190.347127\n",
       "2  1e+02     0.05874473  0.08995627 200.162969\n",
       "3  5e+02     0.05766139  0.40977722 196.061512\n",
       "4  1e+03     0.05631239  0.80802418 191.016779\n",
       "5  5e+03     0.05650406  0.75143963 191.729331\n",
       "6  1e+04     0.05595574  0.91331465 189.694611\n",
       "7  5e+04     0.04669428  3.64745902 157.057107\n",
       "8  1e+05     0.03877431  5.98557360 131.737974\n",
       "9  5e+05    -0.00847383 19.93405228  30.322435\n",
       "10 1e+06    -0.03027921 26.37138388  12.188335\n",
       "11 5e+06    -0.04121336 29.59933408   9.911209\n",
       "12 5e+06    -0.04121333 29.59932571   9.911209\n",
       "13 1e+07    -0.04121512 29.59985475   9.911209"
      ]
     },
     "metadata": {},
     "output_type": "display_data"
    },
    {
     "data": {
      "image/png": "[encoded data removed]",
      "text/plain": [
       "plot without title"
      ]
     },
     "metadata": {},
     "output_type": "display_data"
    },
    {
     "data": {
      "image/png": "[encoded data removed]",
      "text/plain": [
       "plot without title"
      ]
     },
     "metadata": {},
     "output_type": "display_data"
    }
   ],
   "source": [
    "res <- res %>% arrange(num_iter)# we look at the loos and chose the sall number and then we look at the num_inter and chose the smallest\n",
    "res\n",
    "options(repr.plot.width = 6, repr.plot.height = 4)\n",
    "plot(res$loss ~ res$num_iter, type=\"l\",xlab=\"Number of iterations\", ylab=\"Loss (MSE)\")\n",
    "plot(log10(res$loss) ~ log10(res$num_iter), type=\"l\",xlab=\"Number of iterations\", ylab=\"Loss (MSE)\")\n",
    "\n",
    "# the w is the m and the b is the slope"
   ]
  },
  {
   "cell_type": "code",
   "execution_count": null,
   "metadata": {},
   "outputs": [],
   "source": [
    "# we wanted  to see how the disp interat with the mpg \n",
    "# y_hat(mpg)= -0.04 disp(x) + 29.6. in this example we used a linear model "
   ]
  }
 ],
 "metadata": {
  "kernelspec": {
   "display_name": "R",
   "language": "R",
   "name": "ir"
  },
  "language_info": {
   "codemirror_mode": "r",
   "file_extension": ".r",
   "mimetype": "text/x-r-source",
   "name": "R",
   "pygments_lexer": "r",
   "version": "3.6.1"
  }
 },
 "nbformat": 4,
 "nbformat_minor": 2
}
