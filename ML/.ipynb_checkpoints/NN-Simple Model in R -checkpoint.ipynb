{
 "cells": [
  {
   "cell_type": "markdown",
   "metadata": {},
   "source": [
    "# Neural Networks\n",
    " \n",
    "Today we will build a neural network (NN) from scratch. \n",
    "\n",
    "The structure of the NN is shown in the following image:\n",
    "  \n",
    "<img src=\"https://i1.wp.com/res.cloudinary.com/dxqnb8xjb/image/upload/v1539018324/nn_diagram_d7gs7e.png?w=456&ssl=1\" />\n",
    " \n",
    " \n",
    "This NN have three layers: \n",
    "\n",
    "- Input layer: this layer is constitute the input data\n",
    "- Hidden layer: this is the most internal layer. This layer is not visible to the user that is why NN are considered black boxes. \n",
    "- Output layer: this layer will contain our output ($\\hat{y}$)\n",
    "\n",
    "\n",
    "<img src=\"https://cdnpythonmachinelearning.azureedge.net/wp-content/uploads/2017/09/Single-Perceptron.png?x31195\" width=\"600\" height=\"400\" />\n",
    " \n",
    " \n",
    "We proceed with the input layer and calculate the weights and the bias for each of the input (X's):\n",
    " \n",
    "$$ z = W_{i1}^{T}X + b_1 $$\n",
    "\n",
    "This is called the <b> Transfer Function </b>. After that, the resulting vector (z) is passed through an <b> Activation Function </b>. There are many types of activation functions, one of them we yet know, the <b>sigmoid function </b>:\n",
    " \n",
    "$$   \\sigma = 1 / (1 + exp^{-z})  $$\n",
    "\n",
    "Lets code this functions:\n"
   ]
  },
  {
   "cell_type": "markdown",
   "metadata": {},
   "source": [
    "## Activation function"
   ]
  },
  {
   "cell_type": "code",
   "execution_count": 1,
   "metadata": {},
   "outputs": [],
   "source": [
    "#' the activation function is the sigmoid\n",
    "sigmoid <- function(x) {\n",
    "  1.0 / (1.0 + exp(-x))\n",
    "}\n"
   ]
  },
  {
   "cell_type": "markdown",
   "metadata": {},
   "source": [
    "## Feedforward\n",
    " \n",
    "The transfer and activation functions are applyed to the first layer (input layer) and the resuts are passed to the following layer (hidden layer) and both functions are now applied to it. Then the reult is passed to the output layer. Those passes are known as feedforward step. Now we will define this function:"
   ]
  },
  {
   "cell_type": "code",
   "execution_count": 2,
   "metadata": {},
   "outputs": [],
   "source": [
    "### Feedforward\n",
    "feedforward <- function(nn) {\n",
    "  ## activation of the first layer\n",
    "  nn$layer1 <- sigmoid(nn$input %*% nn$weights1)\n",
    "  ## activation of the following layer\n",
    "  nn$output <- sigmoid(nn$layer1 %*% nn$weights2)\n",
    "  return(nn)\n",
    "}\n"
   ]
  },
  {
   "cell_type": "markdown",
   "metadata": {},
   "source": [
    "At the end, the final feedforward function for our network looks as follows:\n",
    " \n",
    "$$ \\hat{y} = \\sigma(W_2^{T}(\\sigma(W_1^{T}X) + b_1) + b_2 )  $$\n",
    " \n",
    "\n",
    "## Backpropagation\n",
    " \n",
    "The resulting output of the feedforward step gives a result that has a high error (loss). To reduce this error, the weight and bias are corrected by going backwards. This step is known as backpropagation. This is done by the following function:\n",
    " \n",
    "$$  2(y - \\hat{y}) * z(1-z) * X $$\n",
    " \n",
    "where z is\n",
    "\n",
    "$$  z = (W^{T}X + b) $$\n",
    "\n",
    "and $ z(1-z) $ is known as the <b>derivative of the sigmoid function</b>.\n",
    "\n",
    "Now we add the code for the backpropagation function:\n"
   ]
  },
  {
   "cell_type": "code",
   "execution_count": 3,
   "metadata": {},
   "outputs": [],
   "source": [
    "#' the derivative of the activation function\n",
    "sigmoid_derivative <- function(x) {\n",
    "  return(x * (1.0 - x))\n",
    "}\n",
    "\n",
    "## Backpropagation\n",
    "backprop <- function(nn) {\n",
    "  # application of the chain rule to find derivative of the loss function with \n",
    "  # respect to weights2 and weights1\n",
    "    \n",
    "  # `2 * (nn$y - nn$output)` is the derivative of the sigmoid loss function\n",
    "  d_weights2 <- ( t(nn$layer1) %*% (2 * (nn$y - nn$output) * sigmoid_derivative(nn$output)) )\n",
    "\n",
    "  d_weights1 <- ( 2 * (nn$y - nn$output) * sigmoid_derivative(nn$output)) %*% t(nn$weights2)\n",
    "    \n",
    "  d_weights1 <- d_weights1 * sigmoid_derivative(nn$layer1)\n",
    "    \n",
    "  d_weights1 <- t(nn$input) %*% d_weights1\n",
    "  \n",
    "  # update the weights using the derivative (slope) of the loss function\n",
    "  nn$weights1 <- nn$weights1 + d_weights1\n",
    "  nn$weights2 <- nn$weights2 + d_weights2\n",
    "\n",
    "  return(nn)\n",
    "}\n"
   ]
  },
  {
   "cell_type": "markdown",
   "metadata": {},
   "source": [
    "## Loss function\n",
    " \n",
    "Now that we have all the needed functions for our NN, we have to define the loss function. We will use the Sum of Squared Error: \n",
    "\n",
    "$$  cost = \\sum_{i=1}^{n} {(y - \\hat{y})^{2}} $$\n"
   ]
  },
  {
   "cell_type": "code",
   "execution_count": 4,
   "metadata": {},
   "outputs": [],
   "source": [
    "### Loss function: SSE\n",
    "loss_function <- function(nn) {\n",
    "  return(sum((nn$y - nn$output) ^ 2))\n",
    "}\n"
   ]
  },
  {
   "cell_type": "markdown",
   "metadata": {},
   "source": [
    "And  we define the gradient descent function by running the network (feed)fordward and backward (backpropagation) while recalculating the loss function:"
   ]
  },
  {
   "cell_type": "code",
   "execution_count": 5,
   "metadata": {},
   "outputs": [],
   "source": [
    "GD <- function(nnet, num_iter=100) { # GD if the gradient descend\n",
    "    n <- num_iter\n",
    "\n",
    "    # data frame to store the results of the loss function.\n",
    "    # this data frame is used to produce the plot in the \n",
    "    # next code chunk\n",
    "    loss_df <- data.frame(iteration = 1:n+1, loss = vector(\"numeric\", length = n) )\n",
    "\n",
    "    for (i in seq_len(num_iter)) {\n",
    "      nnet <- feedforward(nnet)\n",
    "      nnet <- backprop(nnet)\n",
    "\n",
    "      # store the result of the loss function.  We will plot this later\n",
    "      loss_df$loss[i] <- loss_function(nnet)\n",
    "    }\n",
    "    # print the predicted outcome next to the actual outcome\n",
    "    yhat <- data.frame(\"Predicted\" = round(nnet$output, 3), \"Actual\" = y)\n",
    "    res <- list(yhat=yhat, loss=loss_df)\n",
    "    return(res)\n",
    "}"
   ]
  },
  {
   "cell_type": "code",
   "execution_count": 6,
   "metadata": {},
   "outputs": [],
   "source": [
    "\n",
    "NeuralNetwork <- function(X, y, num_nodes, num_iter=100) {\n",
    "    # generate a random value between 0 and 1 for each\n",
    "    # element in X.  This will be used as our initial weights\n",
    "    # for layer 1\n",
    "    rand_vector <- runif(ncol(X) * nrow(X))\n",
    "\n",
    "    # convert above vector into a matrix\n",
    "    rand_matrix <- matrix(rand_vector, nrow = ncol(X), ncol = nrow(X), byrow = TRUE)\n",
    "\n",
    "    # this list stores the state of our neural net as it is trained\n",
    "    nnet <- list(input = X,                              # predictor variables\n",
    "                  weights1 = rand_matrix,                 # weights for layer 1\n",
    "                  weights2 = matrix(runif(num_nodes), ncol = 1),  # weights for layer 2\n",
    "                  y = y,                                  # actual observed\n",
    "                  output = matrix(rep(0, times = num_nodes), ncol = 1)   # stores the predicted outcome\n",
    "                 )\n",
    "    return(GD(nnet, num_iter))\n",
    "}\n"
   ]
  },
  {
   "cell_type": "code",
   "execution_count": 7,
   "metadata": {},
   "outputs": [],
   "source": [
    "#First, we create the data to train the neural network.\n",
    "\n",
    "# predictor variables\n",
    "X <- matrix(c(\n",
    "  0,0,1,\n",
    "  0,1,1,\n",
    "  1,0,1,\n",
    "  1,1,1\n",
    "), ncol = 3, byrow = TRUE )"
   ]
  },
  {
   "cell_type": "code",
   "execution_count": null,
   "metadata": {},
   "outputs": [],
   "source": [
    "y <- c(0,1,1,0)"
   ]
  },
  {
   "cell_type": "code",
   "execution_count": 15,
   "metadata": {},
   "outputs": [
    {
     "ename": "ERROR",
     "evalue": "Error in nn$input %*% nn$weights1: requires numeric/complex matrix/vector arguments\n",
     "output_type": "error",
     "traceback": [
      "Error in nn$input %*% nn$weights1: requires numeric/complex matrix/vector arguments\nTraceback:\n",
      "1. NeuralNetwork(X, y, num_nodes = 4, num_iter = 1000)",
      "2. GD(nnet, num_iter)   # at line 18 of file <text>",
      "3. feedforward(nnet)   # at line 10 of file <text>",
      "4. sigmoid(nn$input %*% nn$weights1)   # at line 4 of file <text>"
     ]
    }
   ],
   "source": [
    "nn <- NeuralNetwork(X,y,num_nodes=4, num_iter=1000)#the number of nodes and interactions and learning rate and layers depend on us\n"
   ]
  },
  {
   "cell_type": "code",
   "execution_count": 11,
   "metadata": {},
   "outputs": [
    {
     "data": {
      "text/html": [
       "<table>\n",
       "<caption>A data.frame: 4 × 2</caption>\n",
       "<thead>\n",
       "\t<tr><th scope=col>Predicted</th><th scope=col>Actual</th></tr>\n",
       "\t<tr><th scope=col>&lt;dbl&gt;</th><th scope=col>&lt;dbl&gt;</th></tr>\n",
       "</thead>\n",
       "<tbody>\n",
       "\t<tr><td>0.014</td><td>0</td></tr>\n",
       "\t<tr><td>0.963</td><td>1</td></tr>\n",
       "\t<tr><td>0.961</td><td>1</td></tr>\n",
       "\t<tr><td>0.047</td><td>0</td></tr>\n",
       "</tbody>\n",
       "</table>\n"
      ],
      "text/latex": [
       "A data.frame: 4 × 2\n",
       "\\begin{tabular}{r|ll}\n",
       " Predicted & Actual\\\\\n",
       " <dbl> & <dbl>\\\\\n",
       "\\hline\n",
       "\t 0.014 & 0\\\\\n",
       "\t 0.963 & 1\\\\\n",
       "\t 0.961 & 1\\\\\n",
       "\t 0.047 & 0\\\\\n",
       "\\end{tabular}\n"
      ],
      "text/markdown": [
       "\n",
       "A data.frame: 4 × 2\n",
       "\n",
       "| Predicted &lt;dbl&gt; | Actual &lt;dbl&gt; |\n",
       "|---|---|\n",
       "| 0.014 | 0 |\n",
       "| 0.963 | 1 |\n",
       "| 0.961 | 1 |\n",
       "| 0.047 | 0 |\n",
       "\n"
      ],
      "text/plain": [
       "  Predicted Actual\n",
       "1 0.014     0     \n",
       "2 0.963     1     \n",
       "3 0.961     1     \n",
       "4 0.047     0     "
      ]
     },
     "metadata": {},
     "output_type": "display_data"
    },
    {
     "data": {
      "text/html": [
       "<table>\n",
       "<caption>A data.frame: 6 × 2</caption>\n",
       "<thead>\n",
       "\t<tr><th scope=col>iteration</th><th scope=col>loss</th></tr>\n",
       "\t<tr><th scope=col>&lt;dbl&gt;</th><th scope=col>&lt;dbl&gt;</th></tr>\n",
       "</thead>\n",
       "<tbody>\n",
       "\t<tr><td>2</td><td>1.4510233</td></tr>\n",
       "\t<tr><td>3</td><td>1.1752769</td></tr>\n",
       "\t<tr><td>4</td><td>1.0071065</td></tr>\n",
       "\t<tr><td>5</td><td>0.9970509</td></tr>\n",
       "\t<tr><td>6</td><td>0.9969139</td></tr>\n",
       "\t<tr><td>7</td><td>0.9967774</td></tr>\n",
       "</tbody>\n",
       "</table>\n"
      ],
      "text/latex": [
       "A data.frame: 6 × 2\n",
       "\\begin{tabular}{r|ll}\n",
       " iteration & loss\\\\\n",
       " <dbl> & <dbl>\\\\\n",
       "\\hline\n",
       "\t 2 & 1.4510233\\\\\n",
       "\t 3 & 1.1752769\\\\\n",
       "\t 4 & 1.0071065\\\\\n",
       "\t 5 & 0.9970509\\\\\n",
       "\t 6 & 0.9969139\\\\\n",
       "\t 7 & 0.9967774\\\\\n",
       "\\end{tabular}\n"
      ],
      "text/markdown": [
       "\n",
       "A data.frame: 6 × 2\n",
       "\n",
       "| iteration &lt;dbl&gt; | loss &lt;dbl&gt; |\n",
       "|---|---|\n",
       "| 2 | 1.4510233 |\n",
       "| 3 | 1.1752769 |\n",
       "| 4 | 1.0071065 |\n",
       "| 5 | 0.9970509 |\n",
       "| 6 | 0.9969139 |\n",
       "| 7 | 0.9967774 |\n",
       "\n"
      ],
      "text/plain": [
       "  iteration loss     \n",
       "1 2         1.4510233\n",
       "2 3         1.1752769\n",
       "3 4         1.0071065\n",
       "4 5         0.9970509\n",
       "5 6         0.9969139\n",
       "6 7         0.9967774"
      ]
     },
     "metadata": {},
     "output_type": "display_data"
    },
    {
     "data": {
      "text/html": [
       "<table>\n",
       "<caption>A data.frame: 6 × 2</caption>\n",
       "<thead>\n",
       "\t<tr><th></th><th scope=col>iteration</th><th scope=col>loss</th></tr>\n",
       "\t<tr><th></th><th scope=col>&lt;dbl&gt;</th><th scope=col>&lt;dbl&gt;</th></tr>\n",
       "</thead>\n",
       "<tbody>\n",
       "\t<tr><th scope=row>995</th><td> 996</td><td>0.005292026</td></tr>\n",
       "\t<tr><th scope=row>996</th><td> 997</td><td>0.005284726</td></tr>\n",
       "\t<tr><th scope=row>997</th><td> 998</td><td>0.005277444</td></tr>\n",
       "\t<tr><th scope=row>998</th><td> 999</td><td>0.005270181</td></tr>\n",
       "\t<tr><th scope=row>999</th><td>1000</td><td>0.005262938</td></tr>\n",
       "\t<tr><th scope=row>1000</th><td>1001</td><td>0.005255713</td></tr>\n",
       "</tbody>\n",
       "</table>\n"
      ],
      "text/latex": [
       "A data.frame: 6 × 2\n",
       "\\begin{tabular}{r|ll}\n",
       "  & iteration & loss\\\\\n",
       "  & <dbl> & <dbl>\\\\\n",
       "\\hline\n",
       "\t995 &  996 & 0.005292026\\\\\n",
       "\t996 &  997 & 0.005284726\\\\\n",
       "\t997 &  998 & 0.005277444\\\\\n",
       "\t998 &  999 & 0.005270181\\\\\n",
       "\t999 & 1000 & 0.005262938\\\\\n",
       "\t1000 & 1001 & 0.005255713\\\\\n",
       "\\end{tabular}\n"
      ],
      "text/markdown": [
       "\n",
       "A data.frame: 6 × 2\n",
       "\n",
       "| <!--/--> | iteration &lt;dbl&gt; | loss &lt;dbl&gt; |\n",
       "|---|---|---|\n",
       "| 995 |  996 | 0.005292026 |\n",
       "| 996 |  997 | 0.005284726 |\n",
       "| 997 |  998 | 0.005277444 |\n",
       "| 998 |  999 | 0.005270181 |\n",
       "| 999 | 1000 | 0.005262938 |\n",
       "| 1000 | 1001 | 0.005255713 |\n",
       "\n"
      ],
      "text/plain": [
       "     iteration loss       \n",
       "995   996      0.005292026\n",
       "996   997      0.005284726\n",
       "997   998      0.005277444\n",
       "998   999      0.005270181\n",
       "999  1000      0.005262938\n",
       "1000 1001      0.005255713"
      ]
     },
     "metadata": {},
     "output_type": "display_data"
    }
   ],
   "source": [
    "nn$yhat # the predicted gives us the probability to get 1\n",
    "head(nn$loss)# the loss is the error\n",
    "tail(nn$loss)"
   ]
  },
  {
   "cell_type": "code",
   "execution_count": 12,
   "metadata": {},
   "outputs": [
    {
     "data": {
      "image/png": "[encoded data removed]",
      "text/plain": [
       "plot without title"
      ]
     },
     "metadata": {
      "image/png": {
       "height": 240,
       "width": 240
      },
      "text/plain": {
       "height": 240,
       "width": 240
      }
     },
     "output_type": "display_data"
    }
   ],
   "source": [
    "options(repr.plot.width = 4, repr.plot.height = 4)\n",
    "\n",
    "# plot the cost\n",
    "library(ggplot2)\n",
    "\n",
    "ggplot(data = nn$loss, aes(x = iteration, y = loss)) +\n",
    "  geom_line()\n",
    "# we can see that after 250 interactions there is no more decrasing values "
   ]
  },
  {
   "cell_type": "code",
   "execution_count": null,
   "metadata": {},
   "outputs": [],
   "source": []
  }
 ],
 "metadata": {
  "kernelspec": {
   "display_name": "R",
   "language": "R",
   "name": "ir"
  },
  "language_info": {
   "codemirror_mode": "r",
   "file_extension": ".r",
   "mimetype": "text/x-r-source",
   "name": "R",
   "pygments_lexer": "r",
   "version": "3.6.1"
  }
 },
 "nbformat": 4,
 "nbformat_minor": 2
}
