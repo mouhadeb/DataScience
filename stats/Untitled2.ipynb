{
 "cells": [
  {
   "cell_type": "code",
   "execution_count": 1,
   "metadata": {},
   "outputs": [
    {
     "name": "stderr",
     "output_type": "stream",
     "text": [
      "\n",
      "Attaching package: 'dplyr'\n",
      "\n",
      "\n",
      "The following objects are masked from 'package:stats':\n",
      "\n",
      "    filter, lag\n",
      "\n",
      "\n",
      "The following objects are masked from 'package:base':\n",
      "\n",
      "    intersect, setdiff, setequal, union\n",
      "\n",
      "\n"
     ]
    }
   ],
   "source": [
    "library(DBI)\n",
    "library(RSQLite)\n",
    "library(dplyr)\n",
    "library(ggplot2)"
   ]
  },
  {
   "cell_type": "code",
   "execution_count": 2,
   "metadata": {},
   "outputs": [],
   "source": [
    "con <- dbConnect(RSQLite::SQLite(),\"C:/Users/meir/Documents/DataScience/data/BoxOffice.db\") "
   ]
  },
  {
   "cell_type": "code",
   "execution_count": 3,
   "metadata": {},
   "outputs": [],
   "source": [
    "movies <- dbReadTable(con, \"movies\")"
   ]
  },
  {
   "cell_type": "code",
   "execution_count": 4,
   "metadata": {},
   "outputs": [
    {
     "data": {
      "text/html": [
       "<table>\n",
       "<caption>A data.frame: 6 × 13</caption>\n",
       "<thead>\n",
       "\t<tr><th></th><th scope=col>id</th><th scope=col>budget</th><th scope=col>homepage</th><th scope=col>imdb_id</th><th scope=col>original_language</th><th scope=col>original_title</th><th scope=col>popularity</th><th scope=col>poster_path</th><th scope=col>release_date</th><th scope=col>runtime</th><th scope=col>status</th><th scope=col>tagline</th><th scope=col>revenue</th></tr>\n",
       "\t<tr><th></th><th scope=col>&lt;int&gt;</th><th scope=col>&lt;int&gt;</th><th scope=col>&lt;chr&gt;</th><th scope=col>&lt;chr&gt;</th><th scope=col>&lt;chr&gt;</th><th scope=col>&lt;chr&gt;</th><th scope=col>&lt;dbl&gt;</th><th scope=col>&lt;chr&gt;</th><th scope=col>&lt;chr&gt;</th><th scope=col>&lt;dbl&gt;</th><th scope=col>&lt;chr&gt;</th><th scope=col>&lt;chr&gt;</th><th scope=col>&lt;int&gt;</th></tr>\n",
       "</thead>\n",
       "<tbody>\n",
       "\t<tr><th scope=row>1</th><td>1</td><td>14000000</td><td>NA                               </td><td>tt2637294</td><td>en</td><td>Hot Tub Time Machine 2                  </td><td> 6.575393</td><td>/tQtWuwvMf0hCc2QR2tkolwl7c3c.jpg</td><td>2/20/15 </td><td> 93</td><td>Released</td><td>The Laws of Space and Time are About to be Violated.        </td><td>12314651</td></tr>\n",
       "\t<tr><th scope=row>2</th><td>2</td><td>40000000</td><td>NA                               </td><td>tt0368933</td><td>en</td><td>The Princess Diaries 2: Royal Engagement</td><td> 8.248895</td><td>/w9Z7A0GHEhIp7etpj0vyKOeU1Wx.jpg</td><td>8/6/04  </td><td>113</td><td>Released</td><td>It can take a lifetime to find true love; she's got 30 days!</td><td>95149435</td></tr>\n",
       "\t<tr><th scope=row>3</th><td>3</td><td> 3300000</td><td>http://sonyclassics.com/whiplash/</td><td>tt2582802</td><td>en</td><td>Whiplash                                </td><td>64.299990</td><td>/lIv1QinFqz4dlp5U4lQ6HaiskOZ.jpg</td><td>10/10/14</td><td>105</td><td>Released</td><td>The road to greatness can take you to the edge.             </td><td>13092000</td></tr>\n",
       "\t<tr><th scope=row>4</th><td>4</td><td> 1200000</td><td>http://kahaanithefilm.com/       </td><td>tt1821480</td><td>hi</td><td>Kahaani                                 </td><td> 3.174936</td><td>/aTXRaPrWSinhcmCrcfJK17urp3F.jpg</td><td>3/9/12  </td><td>122</td><td>Released</td><td>NA                                                          </td><td>16000000</td></tr>\n",
       "\t<tr><th scope=row>5</th><td>5</td><td><span style=white-space:pre-wrap>       0</span></td><td><span style=white-space:pre-wrap>NA                               </span></td><td>tt1380152</td><td>ko</td><td><span style=white-space:pre-wrap>&lt;U+B9C8&gt;&lt;U+B9B0&gt;&lt;U+BCF4&gt;&lt;U+C774&gt;        </span></td><td> 1.148070</td><td>/m22s7zvkVFDU9ir56PiiqIEWFdT.jpg</td><td><span style=white-space:pre-wrap>2/5/09  </span></td><td>118</td><td>Released</td><td><span style=white-space:pre-wrap>NA                                                          </span></td><td> 3923970</td></tr>\n",
       "\t<tr><th scope=row>6</th><td>6</td><td> 8000000</td><td>NA                               </td><td>tt0093743</td><td>en</td><td>Pinocchio and the Emperor of the Night  </td><td> 0.743274</td><td>/6IDqA1D2NBIVhzEEaMMRL28iBrq.jpg</td><td>8/6/87  </td><td> 83</td><td>Released</td><td>NA                                                          </td><td> 3261638</td></tr>\n",
       "</tbody>\n",
       "</table>\n"
      ],
      "text/latex": [
       "A data.frame: 6 × 13\n",
       "\\begin{tabular}{r|lllllllllllll}\n",
       "  & id & budget & homepage & imdb\\_id & original\\_language & original\\_title & popularity & poster\\_path & release\\_date & runtime & status & tagline & revenue\\\\\n",
       "  & <int> & <int> & <chr> & <chr> & <chr> & <chr> & <dbl> & <chr> & <chr> & <dbl> & <chr> & <chr> & <int>\\\\\n",
       "\\hline\n",
       "\t1 & 1 & 14000000 & NA                                & tt2637294 & en & Hot Tub Time Machine 2                   &  6.575393 & /tQtWuwvMf0hCc2QR2tkolwl7c3c.jpg & 2/20/15  &  93 & Released & The Laws of Space and Time are About to be Violated.         & 12314651\\\\\n",
       "\t2 & 2 & 40000000 & NA                                & tt0368933 & en & The Princess Diaries 2: Royal Engagement &  8.248895 & /w9Z7A0GHEhIp7etpj0vyKOeU1Wx.jpg & 8/6/04   & 113 & Released & It can take a lifetime to find true love; she's got 30 days! & 95149435\\\\\n",
       "\t3 & 3 &  3300000 & http://sonyclassics.com/whiplash/ & tt2582802 & en & Whiplash                                 & 64.299990 & /lIv1QinFqz4dlp5U4lQ6HaiskOZ.jpg & 10/10/14 & 105 & Released & The road to greatness can take you to the edge.              & 13092000\\\\\n",
       "\t4 & 4 &  1200000 & http://kahaanithefilm.com/        & tt1821480 & hi & Kahaani                                  &  3.174936 & /aTXRaPrWSinhcmCrcfJK17urp3F.jpg & 3/9/12   & 122 & Released & NA                                                           & 16000000\\\\\n",
       "\t5 & 5 &        0 & NA                                & tt1380152 & ko & <U+B9C8><U+B9B0><U+BCF4><U+C774>         &  1.148070 & /m22s7zvkVFDU9ir56PiiqIEWFdT.jpg & 2/5/09   & 118 & Released & NA                                                           &  3923970\\\\\n",
       "\t6 & 6 &  8000000 & NA                                & tt0093743 & en & Pinocchio and the Emperor of the Night   &  0.743274 & /6IDqA1D2NBIVhzEEaMMRL28iBrq.jpg & 8/6/87   &  83 & Released & NA                                                           &  3261638\\\\\n",
       "\\end{tabular}\n"
      ],
      "text/markdown": [
       "\n",
       "A data.frame: 6 × 13\n",
       "\n",
       "| <!--/--> | id &lt;int&gt; | budget &lt;int&gt; | homepage &lt;chr&gt; | imdb_id &lt;chr&gt; | original_language &lt;chr&gt; | original_title &lt;chr&gt; | popularity &lt;dbl&gt; | poster_path &lt;chr&gt; | release_date &lt;chr&gt; | runtime &lt;dbl&gt; | status &lt;chr&gt; | tagline &lt;chr&gt; | revenue &lt;int&gt; |\n",
       "|---|---|---|---|---|---|---|---|---|---|---|---|---|---|\n",
       "| 1 | 1 | 14000000 | NA                                | tt2637294 | en | Hot Tub Time Machine 2                   |  6.575393 | /tQtWuwvMf0hCc2QR2tkolwl7c3c.jpg | 2/20/15  |  93 | Released | The Laws of Space and Time are About to be Violated.         | 12314651 |\n",
       "| 2 | 2 | 40000000 | NA                                | tt0368933 | en | The Princess Diaries 2: Royal Engagement |  8.248895 | /w9Z7A0GHEhIp7etpj0vyKOeU1Wx.jpg | 8/6/04   | 113 | Released | It can take a lifetime to find true love; she's got 30 days! | 95149435 |\n",
       "| 3 | 3 |  3300000 | http://sonyclassics.com/whiplash/ | tt2582802 | en | Whiplash                                 | 64.299990 | /lIv1QinFqz4dlp5U4lQ6HaiskOZ.jpg | 10/10/14 | 105 | Released | The road to greatness can take you to the edge.              | 13092000 |\n",
       "| 4 | 4 |  1200000 | http://kahaanithefilm.com/        | tt1821480 | hi | Kahaani                                  |  3.174936 | /aTXRaPrWSinhcmCrcfJK17urp3F.jpg | 3/9/12   | 122 | Released | NA                                                           | 16000000 |\n",
       "| 5 | 5 |        0 | NA                                | tt1380152 | ko | &lt;U+B9C8&gt;&lt;U+B9B0&gt;&lt;U+BCF4&gt;&lt;U+C774&gt;         |  1.148070 | /m22s7zvkVFDU9ir56PiiqIEWFdT.jpg | 2/5/09   | 118 | Released | NA                                                           |  3923970 |\n",
       "| 6 | 6 |  8000000 | NA                                | tt0093743 | en | Pinocchio and the Emperor of the Night   |  0.743274 | /6IDqA1D2NBIVhzEEaMMRL28iBrq.jpg | 8/6/87   |  83 | Released | NA                                                           |  3261638 |\n",
       "\n"
      ],
      "text/plain": [
       "  id budget   homepage                          imdb_id   original_language\n",
       "1 1  14000000 NA                                tt2637294 en               \n",
       "2 2  40000000 NA                                tt0368933 en               \n",
       "3 3   3300000 http://sonyclassics.com/whiplash/ tt2582802 en               \n",
       "4 4   1200000 http://kahaanithefilm.com/        tt1821480 hi               \n",
       "5 5         0 NA                                tt1380152 ko               \n",
       "6 6   8000000 NA                                tt0093743 en               \n",
       "  original_title                           popularity\n",
       "1 Hot Tub Time Machine 2                    6.575393 \n",
       "2 The Princess Diaries 2: Royal Engagement  8.248895 \n",
       "3 Whiplash                                 64.299990 \n",
       "4 Kahaani                                   3.174936 \n",
       "5 <U+B9C8><U+B9B0><U+BCF4><U+C774>          1.148070 \n",
       "6 Pinocchio and the Emperor of the Night    0.743274 \n",
       "  poster_path                      release_date runtime status  \n",
       "1 /tQtWuwvMf0hCc2QR2tkolwl7c3c.jpg 2/20/15       93     Released\n",
       "2 /w9Z7A0GHEhIp7etpj0vyKOeU1Wx.jpg 8/6/04       113     Released\n",
       "3 /lIv1QinFqz4dlp5U4lQ6HaiskOZ.jpg 10/10/14     105     Released\n",
       "4 /aTXRaPrWSinhcmCrcfJK17urp3F.jpg 3/9/12       122     Released\n",
       "5 /m22s7zvkVFDU9ir56PiiqIEWFdT.jpg 2/5/09       118     Released\n",
       "6 /6IDqA1D2NBIVhzEEaMMRL28iBrq.jpg 8/6/87        83     Released\n",
       "  tagline                                                      revenue \n",
       "1 The Laws of Space and Time are About to be Violated.         12314651\n",
       "2 It can take a lifetime to find true love; she's got 30 days! 95149435\n",
       "3 The road to greatness can take you to the edge.              13092000\n",
       "4 NA                                                           16000000\n",
       "5 NA                                                            3923970\n",
       "6 NA                                                            3261638"
      ]
     },
     "metadata": {},
     "output_type": "display_data"
    }
   ],
   "source": [
    "head(movies)"
   ]
  },
  {
   "cell_type": "code",
   "execution_count": null,
   "metadata": {},
   "outputs": [],
   "source": [
    "head(movies_ff_v)"
   ]
  }
 ],
 "metadata": {
  "kernelspec": {
   "display_name": "R",
   "language": "R",
   "name": "ir"
  },
  "language_info": {
   "codemirror_mode": "r",
   "file_extension": ".r",
   "mimetype": "text/x-r-source",
   "name": "R",
   "pygments_lexer": "r",
   "version": "3.6.1"
  }
 },
 "nbformat": 4,
 "nbformat_minor": 2
}
