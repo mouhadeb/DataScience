{
 "cells": [
  {
   "cell_type": "code",
   "execution_count": 1,
   "metadata": {},
   "outputs": [],
   "source": [
    "library(DBI)\n",
    "con <- dbConnect(odbc::odbc(), DSN=\"BoxOffice;Trusted_Connection=yes;\")"
   ]
  },
  {
   "cell_type": "code",
   "execution_count": 6,
   "metadata": {},
   "outputs": [
    {
     "ename": "ERROR",
     "evalue": "Error in new_result(connection@ptr, statement): external pointer is not valid\n",
     "output_type": "error",
     "traceback": [
      "Error in new_result(connection@ptr, statement): external pointer is not valid\nTraceback:\n",
      "1. dbReadTable(con, \"crew_dim\")",
      "2. dbReadTable(con, \"crew_dim\")",
      "3. .local(conn, name, ...)",
      "4. dbGetQuery(conn, paste0(\"SELECT * FROM \", sql_name))",
      "5. dbGetQuery(conn, paste0(\"SELECT * FROM \", sql_name))",
      "6. .local(conn, statement, ...)",
      "7. dbSendQuery(conn, statement, ...)",
      "8. dbSendQuery(conn, statement, ...)",
      "9. OdbcResult(connection = conn, statement = statement)",
      "10. new_result(connection@ptr, statement)"
     ]
    }
   ],
   "source": [
    "movies <- dbReadTable(con, \"crew_dim\")"
   ]
  },
  {
   "cell_type": "code",
   "execution_count": 3,
   "metadata": {},
   "outputs": [],
   "source": [
    "dbDisconnect(con)"
   ]
  },
  {
   "cell_type": "code",
   "execution_count": 4,
   "metadata": {},
   "outputs": [
    {
     "ename": "ERROR",
     "evalue": "Error in head(movies): object 'movies' not found\n",
     "output_type": "error",
     "traceback": [
      "Error in head(movies): object 'movies' not found\nTraceback:\n",
      "1. head(movies)"
     ]
    }
   ],
   "source": [
    "head(movies)"
   ]
  },
  {
   "cell_type": "code",
   "execution_count": null,
   "metadata": {},
   "outputs": [],
   "source": []
  }
 ],
 "metadata": {
  "kernelspec": {
   "display_name": "R",
   "language": "R",
   "name": "ir"
  },
  "language_info": {
   "codemirror_mode": "r",
   "file_extension": ".r",
   "mimetype": "text/x-r-source",
   "name": "R",
   "pygments_lexer": "r",
   "version": "3.6.1"
  }
 },
 "nbformat": 4,
 "nbformat_minor": 2
}
