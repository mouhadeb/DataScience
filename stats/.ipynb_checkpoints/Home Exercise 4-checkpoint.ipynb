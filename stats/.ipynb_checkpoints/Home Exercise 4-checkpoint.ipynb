{
 "cells": [
  {
   "cell_type": "code",
   "execution_count": 6,
   "metadata": {},
   "outputs": [],
   "source": [
    "library(DBI)\n",
    "library(RSQLite)\n",
    "library(dplyr)\n",
    "library(ggplot2)"
   ]
  },
  {
   "cell_type": "code",
   "execution_count": 2,
   "metadata": {},
   "outputs": [],
   "source": [
    "con <- dbConnect(odbc::odbc(), DSN=\"BoxOffice;Trusted_Connection=yes;\")"
   ]
  },
  {
   "cell_type": "code",
   "execution_count": 3,
   "metadata": {},
   "outputs": [],
   "source": [
    "movies_ff_v <- dbReadTable(con, \"movies_ff_v\")"
   ]
  },
  {
   "cell_type": "code",
   "execution_count": 4,
   "metadata": {},
   "outputs": [],
   "source": [
    "save(movies_ff_v, file=\"C:/Users/meir/Documents/DataScience/data/BoxOffice_ff_v.RData\")"
   ]
  },
  {
   "cell_type": "code",
   "execution_count": 7,
   "metadata": {},
   "outputs": [],
   "source": [
    "load(\"C:/Users/meir/Documents/DataScience/data/BoxOffice_ff_v.RData\")"
   ]
  },
  {
   "cell_type": "code",
   "execution_count": 8,
   "metadata": {},
   "outputs": [
    {
     "data": {
      "text/html": [
       "<table>\n",
       "<caption>A data.frame: 6 × 85</caption>\n",
       "<thead>\n",
       "\t<tr><th></th><th scope=col>movie_id</th><th scope=col>budget</th><th scope=col>original_language</th><th scope=col>popularity</th><th scope=col>release_date</th><th scope=col>runtime</th><th scope=col>runtime_cat</th><th scope=col>revenue</th><th scope=col>sw_lang_en</th><th scope=col>sw_web_presence</th><th scope=col>...</th><th scope=col>depart_Camera_female</th><th scope=col>depart_Crew_female</th><th scope=col>depart_Custom_Mkup_female</th><th scope=col>depart_Directing_female</th><th scope=col>depart_Editing_female</th><th scope=col>depart_Lighting_female</th><th scope=col>depart_Production_female</th><th scope=col>depart_Sound_female</th><th scope=col>depart_Visual_Effects_female</th><th scope=col>depart_Writing_female</th></tr>\n",
       "\t<tr><th></th><th scope=col>&lt;int&gt;</th><th scope=col>&lt;int&gt;</th><th scope=col>&lt;chr&gt;</th><th scope=col>&lt;dbl&gt;</th><th scope=col>&lt;date&gt;</th><th scope=col>&lt;dbl&gt;</th><th scope=col>&lt;chr&gt;</th><th scope=col>&lt;int&gt;</th><th scope=col>&lt;int&gt;</th><th scope=col>&lt;int&gt;</th><th scope=col>...</th><th scope=col>&lt;int&gt;</th><th scope=col>&lt;int&gt;</th><th scope=col>&lt;int&gt;</th><th scope=col>&lt;int&gt;</th><th scope=col>&lt;int&gt;</th><th scope=col>&lt;int&gt;</th><th scope=col>&lt;int&gt;</th><th scope=col>&lt;int&gt;</th><th scope=col>&lt;int&gt;</th><th scope=col>&lt;int&gt;</th></tr>\n",
       "</thead>\n",
       "<tbody>\n",
       "\t<tr><th scope=row>1</th><td>1</td><td>14000000</td><td>en</td><td> 6.575393</td><td>2015-02-20</td><td> 93</td><td>Short </td><td>12314651</td><td>1</td><td>0</td><td>...</td><td>0</td><td>0</td><td>0</td><td>0</td><td>0</td><td>0</td><td>0</td><td>0</td><td>0</td><td>0</td></tr>\n",
       "\t<tr><th scope=row>2</th><td>2</td><td>40000000</td><td>en</td><td> 8.248895</td><td>2004-08-06</td><td>113</td><td>Medium</td><td>95149435</td><td>1</td><td>0</td><td>...</td><td>0</td><td>0</td><td>0</td><td>0</td><td>0</td><td>0</td><td>3</td><td>0</td><td>0</td><td>1</td></tr>\n",
       "\t<tr><th scope=row>3</th><td>3</td><td> 3300000</td><td>en</td><td>64.299990</td><td>2014-10-10</td><td>105</td><td>Medium</td><td>13092000</td><td>1</td><td>1</td><td>...</td><td>0</td><td>1</td><td>0</td><td>0</td><td>0</td><td>0</td><td>2</td><td>0</td><td>0</td><td>0</td></tr>\n",
       "\t<tr><th scope=row>4</th><td>4</td><td> 1200000</td><td>hi</td><td> 3.174936</td><td>2012-03-09</td><td>122</td><td>Large </td><td>16000000</td><td>0</td><td>1</td><td>...</td><td>0</td><td>0</td><td>0</td><td>0</td><td>0</td><td>0</td><td>0</td><td>0</td><td>0</td><td>0</td></tr>\n",
       "\t<tr><th scope=row>5</th><td>5</td><td>       0</td><td>ko</td><td> 1.148070</td><td>2009-02-05</td><td>118</td><td>Medium</td><td> 3923970</td><td>0</td><td>0</td><td>...</td><td>0</td><td>0</td><td>0</td><td>0</td><td>0</td><td>0</td><td>0</td><td>0</td><td>0</td><td>0</td></tr>\n",
       "\t<tr><th scope=row>6</th><td>6</td><td> 8000000</td><td>en</td><td> 0.743274</td><td>1987-08-06</td><td> 83</td><td>Short </td><td> 3261638</td><td>1</td><td>0</td><td>...</td><td>0</td><td>0</td><td>0</td><td>0</td><td>0</td><td>0</td><td>0</td><td>0</td><td>0</td><td>0</td></tr>\n",
       "</tbody>\n",
       "</table>\n"
      ],
      "text/latex": [
       "A data.frame: 6 × 85\n",
       "\\begin{tabular}{r|lllllllllllllllllllll}\n",
       "  & movie\\_id & budget & original\\_language & popularity & release\\_date & runtime & runtime\\_cat & revenue & sw\\_lang\\_en & sw\\_web\\_presence & ... & depart\\_Camera\\_female & depart\\_Crew\\_female & depart\\_Custom\\_Mkup\\_female & depart\\_Directing\\_female & depart\\_Editing\\_female & depart\\_Lighting\\_female & depart\\_Production\\_female & depart\\_Sound\\_female & depart\\_Visual\\_Effects\\_female & depart\\_Writing\\_female\\\\\n",
       "  & <int> & <int> & <chr> & <dbl> & <date> & <dbl> & <chr> & <int> & <int> & <int> & ... & <int> & <int> & <int> & <int> & <int> & <int> & <int> & <int> & <int> & <int>\\\\\n",
       "\\hline\n",
       "\t1 & 1 & 14000000 & en &  6.575393 & 2015-02-20 &  93 & Short  & 12314651 & 1 & 0 & ... & 0 & 0 & 0 & 0 & 0 & 0 & 0 & 0 & 0 & 0\\\\\n",
       "\t2 & 2 & 40000000 & en &  8.248895 & 2004-08-06 & 113 & Medium & 95149435 & 1 & 0 & ... & 0 & 0 & 0 & 0 & 0 & 0 & 3 & 0 & 0 & 1\\\\\n",
       "\t3 & 3 &  3300000 & en & 64.299990 & 2014-10-10 & 105 & Medium & 13092000 & 1 & 1 & ... & 0 & 1 & 0 & 0 & 0 & 0 & 2 & 0 & 0 & 0\\\\\n",
       "\t4 & 4 &  1200000 & hi &  3.174936 & 2012-03-09 & 122 & Large  & 16000000 & 0 & 1 & ... & 0 & 0 & 0 & 0 & 0 & 0 & 0 & 0 & 0 & 0\\\\\n",
       "\t5 & 5 &        0 & ko &  1.148070 & 2009-02-05 & 118 & Medium &  3923970 & 0 & 0 & ... & 0 & 0 & 0 & 0 & 0 & 0 & 0 & 0 & 0 & 0\\\\\n",
       "\t6 & 6 &  8000000 & en &  0.743274 & 1987-08-06 &  83 & Short  &  3261638 & 1 & 0 & ... & 0 & 0 & 0 & 0 & 0 & 0 & 0 & 0 & 0 & 0\\\\\n",
       "\\end{tabular}\n"
      ],
      "text/markdown": [
       "\n",
       "A data.frame: 6 × 85\n",
       "\n",
       "| <!--/--> | movie_id &lt;int&gt; | budget &lt;int&gt; | original_language &lt;chr&gt; | popularity &lt;dbl&gt; | release_date &lt;date&gt; | runtime &lt;dbl&gt; | runtime_cat &lt;chr&gt; | revenue &lt;int&gt; | sw_lang_en &lt;int&gt; | sw_web_presence &lt;int&gt; | ... ... | depart_Camera_female &lt;int&gt; | depart_Crew_female &lt;int&gt; | depart_Custom_Mkup_female &lt;int&gt; | depart_Directing_female &lt;int&gt; | depart_Editing_female &lt;int&gt; | depart_Lighting_female &lt;int&gt; | depart_Production_female &lt;int&gt; | depart_Sound_female &lt;int&gt; | depart_Visual_Effects_female &lt;int&gt; | depart_Writing_female &lt;int&gt; |\n",
       "|---|---|---|---|---|---|---|---|---|---|---|---|---|---|---|---|---|---|---|---|---|---|\n",
       "| 1 | 1 | 14000000 | en |  6.575393 | 2015-02-20 |  93 | Short  | 12314651 | 1 | 0 | ... | 0 | 0 | 0 | 0 | 0 | 0 | 0 | 0 | 0 | 0 |\n",
       "| 2 | 2 | 40000000 | en |  8.248895 | 2004-08-06 | 113 | Medium | 95149435 | 1 | 0 | ... | 0 | 0 | 0 | 0 | 0 | 0 | 3 | 0 | 0 | 1 |\n",
       "| 3 | 3 |  3300000 | en | 64.299990 | 2014-10-10 | 105 | Medium | 13092000 | 1 | 1 | ... | 0 | 1 | 0 | 0 | 0 | 0 | 2 | 0 | 0 | 0 |\n",
       "| 4 | 4 |  1200000 | hi |  3.174936 | 2012-03-09 | 122 | Large  | 16000000 | 0 | 1 | ... | 0 | 0 | 0 | 0 | 0 | 0 | 0 | 0 | 0 | 0 |\n",
       "| 5 | 5 |        0 | ko |  1.148070 | 2009-02-05 | 118 | Medium |  3923970 | 0 | 0 | ... | 0 | 0 | 0 | 0 | 0 | 0 | 0 | 0 | 0 | 0 |\n",
       "| 6 | 6 |  8000000 | en |  0.743274 | 1987-08-06 |  83 | Short  |  3261638 | 1 | 0 | ... | 0 | 0 | 0 | 0 | 0 | 0 | 0 | 0 | 0 | 0 |\n",
       "\n"
      ],
      "text/plain": [
       "  movie_id budget   original_language popularity release_date runtime\n",
       "1 1        14000000 en                 6.575393  2015-02-20    93    \n",
       "2 2        40000000 en                 8.248895  2004-08-06   113    \n",
       "3 3         3300000 en                64.299990  2014-10-10   105    \n",
       "4 4         1200000 hi                 3.174936  2012-03-09   122    \n",
       "5 5               0 ko                 1.148070  2009-02-05   118    \n",
       "6 6         8000000 en                 0.743274  1987-08-06    83    \n",
       "  runtime_cat revenue  sw_lang_en sw_web_presence ... depart_Camera_female\n",
       "1 Short       12314651 1          0               ... 0                   \n",
       "2 Medium      95149435 1          0               ... 0                   \n",
       "3 Medium      13092000 1          1               ... 0                   \n",
       "4 Large       16000000 0          1               ... 0                   \n",
       "5 Medium       3923970 0          0               ... 0                   \n",
       "6 Short        3261638 1          0               ... 0                   \n",
       "  depart_Crew_female depart_Custom_Mkup_female depart_Directing_female\n",
       "1 0                  0                         0                      \n",
       "2 0                  0                         0                      \n",
       "3 1                  0                         0                      \n",
       "4 0                  0                         0                      \n",
       "5 0                  0                         0                      \n",
       "6 0                  0                         0                      \n",
       "  depart_Editing_female depart_Lighting_female depart_Production_female\n",
       "1 0                     0                      0                       \n",
       "2 0                     0                      3                       \n",
       "3 0                     0                      2                       \n",
       "4 0                     0                      0                       \n",
       "5 0                     0                      0                       \n",
       "6 0                     0                      0                       \n",
       "  depart_Sound_female depart_Visual_Effects_female depart_Writing_female\n",
       "1 0                   0                            0                    \n",
       "2 0                   0                            1                    \n",
       "3 0                   0                            0                    \n",
       "4 0                   0                            0                    \n",
       "5 0                   0                            0                    \n",
       "6 0                   0                            0                    "
      ]
     },
     "metadata": {},
     "output_type": "display_data"
    }
   ],
   "source": [
    "head(movies_ff_v)"
   ]
  },
  {
   "cell_type": "code",
   "execution_count": null,
   "metadata": {},
   "outputs": [],
   "source": []
  }
 ],
 "metadata": {
  "kernelspec": {
   "display_name": "R",
   "language": "R",
   "name": "ir"
  },
  "language_info": {
   "codemirror_mode": "r",
   "file_extension": ".r",
   "mimetype": "text/x-r-source",
   "name": "R",
   "pygments_lexer": "r",
   "version": "3.6.1"
  }
 },
 "nbformat": 4,
 "nbformat_minor": 2
}
