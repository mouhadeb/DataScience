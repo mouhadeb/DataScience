{
 "cells": [
  {
   "cell_type": "code",
   "execution_count": 2,
   "metadata": {},
   "outputs": [
    {
     "name": "stderr",
     "output_type": "stream",
     "text": [
      "Downloading GitHub repo karpatit/mechkar@master\n",
      "\n"
     ]
    },
    {
     "name": "stdout",
     "output_type": "stream",
     "text": [
      "pROC        (1.15.3 -> 1.16.0) [CRAN]\n",
      "curl        (NA     -> 4.3   ) [CRAN]\n",
      "openxlsx    (4.1.3  -> 4.1.4 ) [CRAN]\n",
      "hms         (0.5.2  -> 0.5.3 ) [CRAN]\n",
      "stringi     (1.4.3  -> 1.4.5 ) [CRAN]\n",
      "vctrs       (0.2.0  -> 0.2.1 ) [CRAN]\n",
      "prettyunits (1.0.2  -> 1.1.0 ) [CRAN]\n",
      "backports   (1.1.4  -> 1.1.5 ) [CRAN]\n",
      "farver      (NA     -> 2.0.1 ) [CRAN]\n",
      "xfun        (0.9    -> 0.11  ) [CRAN]\n",
      "mime        (0.7    -> 0.8   ) [CRAN]\n",
      "mvtnorm     (1.0-11 -> 1.0-12) [CRAN]\n"
     ]
    },
    {
     "name": "stderr",
     "output_type": "stream",
     "text": [
      "Installing 12 packages: pROC, curl, openxlsx, hms, stringi, vctrs, prettyunits, backports, farver, xfun, mime, mvtnorm\n",
      "\n",
      "Installing packages into 'C:/Users/meir/Documents/R/win-library/3.6'\n",
      "(as 'lib' is unspecified)\n",
      "\n"
     ]
    },
    {
     "name": "stdout",
     "output_type": "stream",
     "text": [
      "\n",
      "  There are binary versions available but the source versions are later:\n",
      "        binary source needs_compilation\n",
      "pROC    1.15.3 1.16.0              TRUE\n",
      "stringi  1.4.4  1.4.5              TRUE\n",
      "mvtnorm 1.0-11 1.0-12              TRUE\n",
      "\n",
      "package 'curl' successfully unpacked and MD5 sums checked\n"
     ]
    },
    {
     "ename": "ERROR",
     "evalue": "Error: Failed to install 'mechkar' from GitHub:\n  (converted from warning) cannot remove prior installation of package 'curl'\n",
     "output_type": "error",
     "traceback": [
      "Error: Failed to install 'mechkar' from GitHub:\n  (converted from warning) cannot remove prior installation of package 'curl'\nTraceback:\n",
      "1. install_github(\"karpatit/mechkar\")",
      "2. pkgbuild::with_build_tools({\n .     ellipsis::check_dots_used(action = getOption(\"devtools.ellipsis_action\", \n .         rlang::warn))\n .     {\n .         remotes <- lapply(repo, github_remote, ref = ref, subdir = subdir, \n .             auth_token = auth_token, host = host)\n .         install_remotes(remotes, auth_token = auth_token, host = host, \n .             dependencies = dependencies, upgrade = upgrade, force = force, \n .             quiet = quiet, build = build, build_opts = build_opts, \n .             build_manual = build_manual, build_vignettes = build_vignettes, \n .             repos = repos, type = type, ...)\n .     }\n . }, required = FALSE)",
      "3. withr::with_path(rtools_path(), code)",
      "4. force(code)",
      "5. install_remotes(remotes, auth_token = auth_token, host = host, \n .     dependencies = dependencies, upgrade = upgrade, force = force, \n .     quiet = quiet, build = build, build_opts = build_opts, build_manual = build_manual, \n .     build_vignettes = build_vignettes, repos = repos, type = type, \n .     ...)",
      "6. tryCatch(res[[i]] <- install_remote(remotes[[i]], ...), error = function(e) {\n .     stop(remote_install_error(remotes[[i]], e))\n . })",
      "7. tryCatchList(expr, classes, parentenv, handlers)",
      "8. tryCatchOne(expr, names, parentenv, handlers[[1L]])",
      "9. value[[3L]](cond)"
     ]
    }
   ],
   "source": [
    "library(devtools)\n",
    "install_github(\"karpatit/mechkar\")"
   ]
  },
  {
   "cell_type": "code",
   "execution_count": null,
   "metadata": {},
   "outputs": [],
   "source": []
  }
 ],
 "metadata": {
  "kernelspec": {
   "display_name": "R",
   "language": "R",
   "name": "ir"
  },
  "language_info": {
   "codemirror_mode": "r",
   "file_extension": ".r",
   "mimetype": "text/x-r-source",
   "name": "R",
   "pygments_lexer": "r",
   "version": "3.6.1"
  }
 },
 "nbformat": 4,
 "nbformat_minor": 2
}
