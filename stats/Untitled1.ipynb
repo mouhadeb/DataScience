{
 "cells": [
  {
   "cell_type": "code",
   "execution_count": 3,
   "metadata": {},
   "outputs": [],
   "source": [
    "library(DBI)\n",
    "con <- dbConnect(odbc::odbc(), DSN=\"College;Trusted_Connection=yes;\")"
   ]
  },
  {
   "cell_type": "code",
   "execution_count": 8,
   "metadata": {},
   "outputs": [],
   "source": [
    "students <- dbReadTable(con, \"students\")\n",
    "teachers <- dbReadTable(con, \"teachers\")\n",
    "classroom <- dbReadTable(con, \"classroom\")\n",
    "courses <- dbReadTable(con, \"courses\")\n",
    "departments <- dbReadTable(con, \"departments\")"
   ]
  },
  {
   "cell_type": "code",
   "execution_count": null,
   "metadata": {},
   "outputs": [],
   "source": []
  },
  {
   "cell_type": "code",
   "execution_count": null,
   "metadata": {},
   "outputs": [],
   "source": []
  },
  {
   "cell_type": "code",
   "execution_count": null,
   "metadata": {},
   "outputs": [],
   "source": []
  },
  {
   "cell_type": "code",
   "execution_count": null,
   "metadata": {},
   "outputs": [],
   "source": []
  },
  {
   "cell_type": "code",
   "execution_count": 5,
   "metadata": {},
   "outputs": [
    {
     "data": {
      "text/html": [
       "<table>\n",
       "<caption>A data.frame: 6 × 4</caption>\n",
       "<thead>\n",
       "\t<tr><th></th><th scope=col>Student_id</th><th scope=col>First_name</th><th scope=col>Last_name</th><th scope=col>Gender</th></tr>\n",
       "\t<tr><th></th><th scope=col>&lt;int&gt;</th><th scope=col>&lt;chr&gt;</th><th scope=col>&lt;chr&gt;</th><th scope=col>&lt;chr&gt;</th></tr>\n",
       "</thead>\n",
       "<tbody>\n",
       "\t<tr><th scope=row>1</th><td>162</td><td> Elmira  </td><td>Holston  </td><td>F</td></tr>\n",
       "\t<tr><th scope=row>2</th><td>154</td><td> Sierra  </td><td>Van Vorst</td><td>F</td></tr>\n",
       "\t<tr><th scope=row>3</th><td> 28</td><td> Mycah   </td><td>Bingham  </td><td>F</td></tr>\n",
       "\t<tr><th scope=row>4</th><td> 54</td><td> Alia    </td><td>Jones    </td><td>F</td></tr>\n",
       "\t<tr><th scope=row>5</th><td> 31</td><td> Chanda  </td><td>Fillmore </td><td>F</td></tr>\n",
       "\t<tr><th scope=row>6</th><td>272</td><td> Jennifer</td><td>Smith    </td><td>F</td></tr>\n",
       "</tbody>\n",
       "</table>\n"
      ],
      "text/latex": [
       "A data.frame: 6 × 4\n",
       "\\begin{tabular}{r|llll}\n",
       "  & Student\\_id & First\\_name & Last\\_name & Gender\\\\\n",
       "  & <int> & <chr> & <chr> & <chr>\\\\\n",
       "\\hline\n",
       "\t1 & 162 &  Elmira   & Holston   & F\\\\\n",
       "\t2 & 154 &  Sierra   & Van Vorst & F\\\\\n",
       "\t3 &  28 &  Mycah    & Bingham   & F\\\\\n",
       "\t4 &  54 &  Alia     & Jones     & F\\\\\n",
       "\t5 &  31 &  Chanda   & Fillmore  & F\\\\\n",
       "\t6 & 272 &  Jennifer & Smith     & F\\\\\n",
       "\\end{tabular}\n"
      ],
      "text/markdown": [
       "\n",
       "A data.frame: 6 × 4\n",
       "\n",
       "| <!--/--> | Student_id &lt;int&gt; | First_name &lt;chr&gt; | Last_name &lt;chr&gt; | Gender &lt;chr&gt; |\n",
       "|---|---|---|---|---|\n",
       "| 1 | 162 |  Elmira   | Holston   | F |\n",
       "| 2 | 154 |  Sierra   | Van Vorst | F |\n",
       "| 3 |  28 |  Mycah    | Bingham   | F |\n",
       "| 4 |  54 |  Alia     | Jones     | F |\n",
       "| 5 |  31 |  Chanda   | Fillmore  | F |\n",
       "| 6 | 272 |  Jennifer | Smith     | F |\n",
       "\n"
      ],
      "text/plain": [
       "  Student_id First_name Last_name Gender\n",
       "1 162         Elmira    Holston   F     \n",
       "2 154         Sierra    Van Vorst F     \n",
       "3  28         Mycah     Bingham   F     \n",
       "4  54         Alia      Jones     F     \n",
       "5  31         Chanda    Fillmore  F     \n",
       "6 272         Jennifer  Smith     F     "
      ]
     },
     "metadata": {},
     "output_type": "display_data"
    }
   ],
   "source": [
    "head(students)"
   ]
  },
  {
   "cell_type": "code",
   "execution_count": 6,
   "metadata": {},
   "outputs": [
    {
     "name": "stderr",
     "output_type": "stream",
     "text": [
      "\n",
      "Attaching package: 'dplyr'\n",
      "\n",
      "\n",
      "The following objects are masked from 'package:stats':\n",
      "\n",
      "    filter, lag\n",
      "\n",
      "\n",
      "The following objects are masked from 'package:base':\n",
      "\n",
      "    intersect, setdiff, setequal, union\n",
      "\n",
      "\n"
     ]
    }
   ],
   "source": [
    "library(dplyr)"
   ]
  },
  {
   "cell_type": "code",
   "execution_count": 9,
   "metadata": {},
   "outputs": [],
   "source": [
    "Sum_student_by_depart <- (classroom %>% \n",
    "                            left_join(courses, by = \"Course_id\") %>%  ##### joining courses + classroom \n",
    "                            left_join(departments, by = \"Department_id\")) %>%   ##### joining courses + classroom + departments\n",
    "  group_by(Department_id, Department_name) %>%   ##### grouping and counting  the sum students by departments\n",
    "  summarise(sum_student=n_distinct(Student_id))"
   ]
  },
  {
   "cell_type": "code",
   "execution_count": 10,
   "metadata": {},
   "outputs": [
    {
     "data": {
      "text/html": [
       "<table>\n",
       "<caption>A grouped_df: 4 × 3</caption>\n",
       "<thead>\n",
       "\t<tr><th scope=col>Department_id</th><th scope=col>Department_name</th><th scope=col>sum_student</th></tr>\n",
       "\t<tr><th scope=col>&lt;int&gt;</th><th scope=col>&lt;chr&gt;</th><th scope=col>&lt;int&gt;</th></tr>\n",
       "</thead>\n",
       "<tbody>\n",
       "\t<tr><td>1</td><td>English</td><td> 84</td></tr>\n",
       "\t<tr><td>2</td><td>Science</td><td>200</td></tr>\n",
       "\t<tr><td>3</td><td>Arts   </td><td>137</td></tr>\n",
       "\t<tr><td>4</td><td>Sport  </td><td> 81</td></tr>\n",
       "</tbody>\n",
       "</table>\n"
      ],
      "text/latex": [
       "A grouped\\_df: 4 × 3\n",
       "\\begin{tabular}{lll}\n",
       " Department\\_id & Department\\_name & sum\\_student\\\\\n",
       " <int> & <chr> & <int>\\\\\n",
       "\\hline\n",
       "\t 1 & English &  84\\\\\n",
       "\t 2 & Science & 200\\\\\n",
       "\t 3 & Arts    & 137\\\\\n",
       "\t 4 & Sport   &  81\\\\\n",
       "\\end{tabular}\n"
      ],
      "text/markdown": [
       "\n",
       "A grouped_df: 4 × 3\n",
       "\n",
       "| Department_id &lt;int&gt; | Department_name &lt;chr&gt; | sum_student &lt;int&gt; |\n",
       "|---|---|---|\n",
       "| 1 | English |  84 |\n",
       "| 2 | Science | 200 |\n",
       "| 3 | Arts    | 137 |\n",
       "| 4 | Sport   |  81 |\n",
       "\n"
      ],
      "text/plain": [
       "  Department_id Department_name sum_student\n",
       "1 1             English          84        \n",
       "2 2             Science         200        \n",
       "3 3             Arts            137        \n",
       "4 4             Sport            81        "
      ]
     },
     "metadata": {},
     "output_type": "display_data"
    }
   ],
   "source": [
    "Sum_student_by_depart"
   ]
  },
  {
   "cell_type": "code",
   "execution_count": null,
   "metadata": {},
   "outputs": [],
   "source": []
  }
 ],
 "metadata": {
  "kernelspec": {
   "display_name": "R",
   "language": "R",
   "name": "ir"
  },
  "language_info": {
   "codemirror_mode": "r",
   "file_extension": ".r",
   "mimetype": "text/x-r-source",
   "name": "R",
   "pygments_lexer": "r",
   "version": "3.6.1"
  }
 },
 "nbformat": 4,
 "nbformat_minor": 2
}
