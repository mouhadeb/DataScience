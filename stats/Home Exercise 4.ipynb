{
 "cells": [
  {
   "cell_type": "code",
   "execution_count": 12,
   "metadata": {},
   "outputs": [],
   "source": [
    "library(DBI)\n",
    "library(RSQLite)\n",
    "library(dplyr)\n",
    "library(ggplot2)\n",
    "library(odbc)"
   ]
  },
  {
   "cell_type": "code",
   "execution_count": 20,
   "metadata": {},
   "outputs": [],
   "source": [
    "#con <- dbConnect(odbc::odbc(), DSN=\"BoxOffice;Trusted_Connection=yes;\")"
   ]
  },
  {
   "cell_type": "code",
   "execution_count": 21,
   "metadata": {},
   "outputs": [],
   "source": [
    "#movies_ff_v <- dbReadTable(con, \"movies_ff_v\")"
   ]
  },
  {
   "cell_type": "code",
   "execution_count": 22,
   "metadata": {},
   "outputs": [],
   "source": [
    "#save(movies_ff_v, file=\"C:/Users/meir/Documents/DataScience/data/BoxOffice_ff_v.RData\")"
   ]
  },
  {
   "cell_type": "code",
   "execution_count": 2,
   "metadata": {},
   "outputs": [],
   "source": [
    "load(\"C:/Users/meir/Documents/DataScience/data/BoxOffice_ff_v.RData\")"
   ]
  },
  {
   "cell_type": "code",
   "execution_count": 9,
   "metadata": {},
   "outputs": [
    {
     "data": {
      "text/html": [
       "<table>\n",
       "<caption>A data.frame: 6 × 85</caption>\n",
       "<thead>\n",
       "\t<tr><th></th><th scope=col>movie_id</th><th scope=col>budget</th><th scope=col>original_language</th><th scope=col>popularity</th><th scope=col>release_date</th><th scope=col>runtime</th><th scope=col>runtime_cat</th><th scope=col>revenue</th><th scope=col>sw_lang_en</th><th scope=col>sw_web_presence</th><th scope=col>...</th><th scope=col>depart_Camera_female</th><th scope=col>depart_Crew_female</th><th scope=col>depart_Custom_Mkup_female</th><th scope=col>depart_Directing_female</th><th scope=col>depart_Editing_female</th><th scope=col>depart_Lighting_female</th><th scope=col>depart_Production_female</th><th scope=col>depart_Sound_female</th><th scope=col>depart_Visual_Effects_female</th><th scope=col>depart_Writing_female</th></tr>\n",
       "\t<tr><th></th><th scope=col>&lt;int&gt;</th><th scope=col>&lt;int&gt;</th><th scope=col>&lt;chr&gt;</th><th scope=col>&lt;dbl&gt;</th><th scope=col>&lt;date&gt;</th><th scope=col>&lt;dbl&gt;</th><th scope=col>&lt;chr&gt;</th><th scope=col>&lt;int&gt;</th><th scope=col>&lt;int&gt;</th><th scope=col>&lt;int&gt;</th><th scope=col>...</th><th scope=col>&lt;int&gt;</th><th scope=col>&lt;int&gt;</th><th scope=col>&lt;int&gt;</th><th scope=col>&lt;int&gt;</th><th scope=col>&lt;int&gt;</th><th scope=col>&lt;int&gt;</th><th scope=col>&lt;int&gt;</th><th scope=col>&lt;int&gt;</th><th scope=col>&lt;int&gt;</th><th scope=col>&lt;int&gt;</th></tr>\n",
       "</thead>\n",
       "<tbody>\n",
       "\t<tr><th scope=row>1</th><td>1</td><td>14000000</td><td>en</td><td> 6.575393</td><td>2015-02-20</td><td> 93</td><td>Short </td><td>12314651</td><td>1</td><td>0</td><td>...</td><td>0</td><td>0</td><td>0</td><td>0</td><td>0</td><td>0</td><td>0</td><td>0</td><td>0</td><td>0</td></tr>\n",
       "\t<tr><th scope=row>2</th><td>2</td><td>40000000</td><td>en</td><td> 8.248895</td><td>2004-08-06</td><td>113</td><td>Medium</td><td>95149435</td><td>1</td><td>0</td><td>...</td><td>0</td><td>0</td><td>0</td><td>0</td><td>0</td><td>0</td><td>3</td><td>0</td><td>0</td><td>1</td></tr>\n",
       "\t<tr><th scope=row>3</th><td>3</td><td> 3300000</td><td>en</td><td>64.299990</td><td>2014-10-10</td><td>105</td><td>Medium</td><td>13092000</td><td>1</td><td>1</td><td>...</td><td>0</td><td>1</td><td>0</td><td>0</td><td>0</td><td>0</td><td>2</td><td>0</td><td>0</td><td>0</td></tr>\n",
       "\t<tr><th scope=row>4</th><td>4</td><td> 1200000</td><td>hi</td><td> 3.174936</td><td>2012-03-09</td><td>122</td><td>Large </td><td>16000000</td><td>0</td><td>1</td><td>...</td><td>0</td><td>0</td><td>0</td><td>0</td><td>0</td><td>0</td><td>0</td><td>0</td><td>0</td><td>0</td></tr>\n",
       "\t<tr><th scope=row>5</th><td>5</td><td>       0</td><td>ko</td><td> 1.148070</td><td>2009-02-05</td><td>118</td><td>Medium</td><td> 3923970</td><td>0</td><td>0</td><td>...</td><td>0</td><td>0</td><td>0</td><td>0</td><td>0</td><td>0</td><td>0</td><td>0</td><td>0</td><td>0</td></tr>\n",
       "\t<tr><th scope=row>6</th><td>6</td><td> 8000000</td><td>en</td><td> 0.743274</td><td>1987-08-06</td><td> 83</td><td>Short </td><td> 3261638</td><td>1</td><td>0</td><td>...</td><td>0</td><td>0</td><td>0</td><td>0</td><td>0</td><td>0</td><td>0</td><td>0</td><td>0</td><td>0</td></tr>\n",
       "</tbody>\n",
       "</table>\n"
      ],
      "text/latex": [
       "A data.frame: 6 × 85\n",
       "\\begin{tabular}{r|lllllllllllllllllllll}\n",
       "  & movie\\_id & budget & original\\_language & popularity & release\\_date & runtime & runtime\\_cat & revenue & sw\\_lang\\_en & sw\\_web\\_presence & ... & depart\\_Camera\\_female & depart\\_Crew\\_female & depart\\_Custom\\_Mkup\\_female & depart\\_Directing\\_female & depart\\_Editing\\_female & depart\\_Lighting\\_female & depart\\_Production\\_female & depart\\_Sound\\_female & depart\\_Visual\\_Effects\\_female & depart\\_Writing\\_female\\\\\n",
       "  & <int> & <int> & <chr> & <dbl> & <date> & <dbl> & <chr> & <int> & <int> & <int> & ... & <int> & <int> & <int> & <int> & <int> & <int> & <int> & <int> & <int> & <int>\\\\\n",
       "\\hline\n",
       "\t1 & 1 & 14000000 & en &  6.575393 & 2015-02-20 &  93 & Short  & 12314651 & 1 & 0 & ... & 0 & 0 & 0 & 0 & 0 & 0 & 0 & 0 & 0 & 0\\\\\n",
       "\t2 & 2 & 40000000 & en &  8.248895 & 2004-08-06 & 113 & Medium & 95149435 & 1 & 0 & ... & 0 & 0 & 0 & 0 & 0 & 0 & 3 & 0 & 0 & 1\\\\\n",
       "\t3 & 3 &  3300000 & en & 64.299990 & 2014-10-10 & 105 & Medium & 13092000 & 1 & 1 & ... & 0 & 1 & 0 & 0 & 0 & 0 & 2 & 0 & 0 & 0\\\\\n",
       "\t4 & 4 &  1200000 & hi &  3.174936 & 2012-03-09 & 122 & Large  & 16000000 & 0 & 1 & ... & 0 & 0 & 0 & 0 & 0 & 0 & 0 & 0 & 0 & 0\\\\\n",
       "\t5 & 5 &        0 & ko &  1.148070 & 2009-02-05 & 118 & Medium &  3923970 & 0 & 0 & ... & 0 & 0 & 0 & 0 & 0 & 0 & 0 & 0 & 0 & 0\\\\\n",
       "\t6 & 6 &  8000000 & en &  0.743274 & 1987-08-06 &  83 & Short  &  3261638 & 1 & 0 & ... & 0 & 0 & 0 & 0 & 0 & 0 & 0 & 0 & 0 & 0\\\\\n",
       "\\end{tabular}\n"
      ],
      "text/markdown": [
       "\n",
       "A data.frame: 6 × 85\n",
       "\n",
       "| <!--/--> | movie_id &lt;int&gt; | budget &lt;int&gt; | original_language &lt;chr&gt; | popularity &lt;dbl&gt; | release_date &lt;date&gt; | runtime &lt;dbl&gt; | runtime_cat &lt;chr&gt; | revenue &lt;int&gt; | sw_lang_en &lt;int&gt; | sw_web_presence &lt;int&gt; | ... ... | depart_Camera_female &lt;int&gt; | depart_Crew_female &lt;int&gt; | depart_Custom_Mkup_female &lt;int&gt; | depart_Directing_female &lt;int&gt; | depart_Editing_female &lt;int&gt; | depart_Lighting_female &lt;int&gt; | depart_Production_female &lt;int&gt; | depart_Sound_female &lt;int&gt; | depart_Visual_Effects_female &lt;int&gt; | depart_Writing_female &lt;int&gt; |\n",
       "|---|---|---|---|---|---|---|---|---|---|---|---|---|---|---|---|---|---|---|---|---|---|\n",
       "| 1 | 1 | 14000000 | en |  6.575393 | 2015-02-20 |  93 | Short  | 12314651 | 1 | 0 | ... | 0 | 0 | 0 | 0 | 0 | 0 | 0 | 0 | 0 | 0 |\n",
       "| 2 | 2 | 40000000 | en |  8.248895 | 2004-08-06 | 113 | Medium | 95149435 | 1 | 0 | ... | 0 | 0 | 0 | 0 | 0 | 0 | 3 | 0 | 0 | 1 |\n",
       "| 3 | 3 |  3300000 | en | 64.299990 | 2014-10-10 | 105 | Medium | 13092000 | 1 | 1 | ... | 0 | 1 | 0 | 0 | 0 | 0 | 2 | 0 | 0 | 0 |\n",
       "| 4 | 4 |  1200000 | hi |  3.174936 | 2012-03-09 | 122 | Large  | 16000000 | 0 | 1 | ... | 0 | 0 | 0 | 0 | 0 | 0 | 0 | 0 | 0 | 0 |\n",
       "| 5 | 5 |        0 | ko |  1.148070 | 2009-02-05 | 118 | Medium |  3923970 | 0 | 0 | ... | 0 | 0 | 0 | 0 | 0 | 0 | 0 | 0 | 0 | 0 |\n",
       "| 6 | 6 |  8000000 | en |  0.743274 | 1987-08-06 |  83 | Short  |  3261638 | 1 | 0 | ... | 0 | 0 | 0 | 0 | 0 | 0 | 0 | 0 | 0 | 0 |\n",
       "\n"
      ],
      "text/plain": [
       "  movie_id budget   original_language popularity release_date runtime\n",
       "1 1        14000000 en                 6.575393  2015-02-20    93    \n",
       "2 2        40000000 en                 8.248895  2004-08-06   113    \n",
       "3 3         3300000 en                64.299990  2014-10-10   105    \n",
       "4 4         1200000 hi                 3.174936  2012-03-09   122    \n",
       "5 5               0 ko                 1.148070  2009-02-05   118    \n",
       "6 6         8000000 en                 0.743274  1987-08-06    83    \n",
       "  runtime_cat revenue  sw_lang_en sw_web_presence ... depart_Camera_female\n",
       "1 Short       12314651 1          0               ... 0                   \n",
       "2 Medium      95149435 1          0               ... 0                   \n",
       "3 Medium      13092000 1          1               ... 0                   \n",
       "4 Large       16000000 0          1               ... 0                   \n",
       "5 Medium       3923970 0          0               ... 0                   \n",
       "6 Short        3261638 1          0               ... 0                   \n",
       "  depart_Crew_female depart_Custom_Mkup_female depart_Directing_female\n",
       "1 0                  0                         0                      \n",
       "2 0                  0                         0                      \n",
       "3 1                  0                         0                      \n",
       "4 0                  0                         0                      \n",
       "5 0                  0                         0                      \n",
       "6 0                  0                         0                      \n",
       "  depart_Editing_female depart_Lighting_female depart_Production_female\n",
       "1 0                     0                      0                       \n",
       "2 0                     0                      3                       \n",
       "3 0                     0                      2                       \n",
       "4 0                     0                      0                       \n",
       "5 0                     0                      0                       \n",
       "6 0                     0                      0                       \n",
       "  depart_Sound_female depart_Visual_Effects_female depart_Writing_female\n",
       "1 0                   0                            0                    \n",
       "2 0                   0                            1                    \n",
       "3 0                   0                            0                    \n",
       "4 0                   0                            0                    \n",
       "5 0                   0                            0                    \n",
       "6 0                   0                            0                    "
      ]
     },
     "metadata": {},
     "output_type": "display_data"
    }
   ],
   "source": [
    "head(movies_ff_v)"
   ]
  },
  {
   "cell_type": "code",
   "execution_count": null,
   "metadata": {},
   "outputs": [],
   "source": [
    "zm1<- movies_ff_v %>% select(\"revenue\"\n",
    "         ,\"popularity\"\n",
    "         ,\"runtime\"\n",
    "         ,\"budget\"\n",
    "         ,\"seasonality\"\n",
    "         ,\"actor0_prev_revenue\"\n",
    "         ,\"actor1_prev_revenue\"\n",
    "         ,\"actor2_prev_revenue\"\n",
    "                            )"
   ]
  },
  {
   "cell_type": "code",
   "execution_count": 4,
   "metadata": {},
   "outputs": [],
   "source": [
    "zm <- movies_ff_v %>% select(\n",
    "\"revenue\"\n",
    ",\"popularity\"\n",
    ",\"runtime\"\n",
    ",\"budget\"\n",
    ",\"seasonality\"\n",
    ",\"actor0_prev_revenue\"\n",
    ",\"actor1_prev_revenue\"\n",
    ",\"actor2_prev_revenue\"\n",
    ",\"original_language\"\n",
    ",\"runtime_cat\"\n",
    ",\"sw_lang_en\"\n",
    ",\"sw_web_presence\"\n",
    ",\"sw_has_poster\"\n",
    ",\"sw_tagline\"\n",
    ",\"release_day\"\n",
    ",\"release_month\"\n",
    ",\"release_year\"    \n",
    ",\"high_release_month\"\n",
    ",\"lang_US\"\n",
    ",\"lang_FR\"\n",
    ",\"lang_RU\"\n",
    ",\"lang_ES\"\n",
    ",\"lang_JA\"\n",
    ",\"sw_female_actor0\"\n",
    ",\"sw_female_actor1\"\n",
    ",\"sw_female_actor2\"\n",
    ",\"sw_male_actor0\"\n",
    ",\"sw_male_actor1\"\n",
    ",\"sw_male_actor2\"\n",
    ",\"genre_adventure\"\n",
    ",\"genre_fantasy\"\n",
    ",\"genre_animation\"\n",
    ",\"genre_drama\"\n",
    ",\"genre_horror\"\n",
    ",\"genre_action\"\n",
    ",\"genre_comedy\"\n",
    ",\"genre_history\"\n",
    ",\"genre_western\"\n",
    ",\"genre_thriller\"\n",
    ",\"genre_crime\"\n",
    ",\"genre_documentary\"\n",
    ",\"genre_science_fiction\"\n",
    ",\"genre_mystery\"\n",
    ",\"genre_music\"\n",
    ",\"genre_romance\"\n",
    ",\"genre_family\"\n",
    ",\"genre_war\"\n",
    ",\"genre_foreign\"  \n",
    ",\"keyword_cnt\"\n",
    ",\"sw_collection\"\n",
    ",\"producers_cnt\"\n",
    ",\"countries_cnt\"\n",
    ",\"actor0_movies_cnt\"\n",
    ",\"actor0_movies_5y_cnt\"\n",
    ",\"actor1_movies_cnt\"\n",
    ",\"actor1_movies_5y_cnt\"\n",
    ",\"actor2_movies_cnt\"\n",
    ",\"actor2_movies_5y_cnt\"\n",
    ",\"director_movies_cnt\"\n",
    ",\"director_movies_5y_cnt\"\n",
    ",\"depart_Art\"\n",
    ",\"depart_Camera\"\n",
    ",\"depart_Crew\"\n",
    ",\"depart_Custom_Mkup\"\n",
    ",\"depart_Directing\"\n",
    ",\"depart_Editing\"\n",
    ",\"depart_Lighting\"\n",
    ",\"depart_Production\"\n",
    ",\"depart_Sound\"\n",
    ",\"depart_Visual_Effects\"\n",
    ",\"depart_Writing\"\n",
    ",\"depart_Art_female\"\n",
    ",\"depart_Camera_female\"\n",
    ",\"depart_Crew_female\"\n",
    ",\"depart_Custom_Mkup_female\"\n",
    ",\"depart_Directing_female\"\n",
    ",\"depart_Editing_female\"\n",
    ",\"depart_Lighting_female\"\n",
    ",\"depart_Production_female\"\n",
    ",\"depart_Sound_female\"\n",
    ",\"depart_Visual_Effects_female\"\n",
    ",\"depart_Writing_female\")"
   ]
  },
  {
   "cell_type": "code",
   "execution_count": 28,
   "metadata": {},
   "outputs": [
    {
     "name": "stderr",
     "output_type": "stream",
     "text": [
      "Warning message:\n",
      "\"Removed 1 rows containing missing values (geom_path).\"\n"
     ]
    },
    {
     "data": {
      "image/png": "[encoded data removed]",
      "text/plain": [
       "plot without title"
      ]
     },
     "metadata": {
      "image/png": {
       "height": 420,
       "width": 420
      }
     },
     "output_type": "display_data"
    }
   ],
   "source": [
    "ggplot(data=zm1, aes(x=popularity,y=revenue,colour=popularity))+geom_line()"
   ]
  },
  {
   "cell_type": "code",
   "execution_count": 25,
   "metadata": {},
   "outputs": [
    {
     "ename": "ERROR",
     "evalue": "Error in hist.default(zm1$revenue ~ ., data = zm1): 'x' must be numeric\n",
     "output_type": "error",
     "traceback": [
      "Error in hist.default(zm1$revenue ~ ., data = zm1): 'x' must be numeric\nTraceback:\n",
      "1. hist(zm1$revenue ~ ., data = zm1)",
      "2. hist.default(zm1$revenue ~ ., data = zm1)",
      "3. stop(\"'x' must be numeric\")"
     ]
    }
   ],
   "source": [
    "hist(zm1$revenue ~. ,data=zm1)"
   ]
  },
  {
   "cell_type": "code",
   "execution_count": 31,
   "metadata": {},
   "outputs": [],
   "source": [
    "movies_ff_v$original_language <- factor(movies_ff_v$original_language)"
   ]
  },
  {
   "cell_type": "code",
   "execution_count": 32,
   "metadata": {},
   "outputs": [],
   "source": [
    "movies_ff_v$runtime_cat <- factor(movies_ff_v$runtime_cat)"
   ]
  },
  {
   "cell_type": "code",
   "execution_count": 33,
   "metadata": {},
   "outputs": [],
   "source": [
    "zm2 <- c(\"revenue\",\"original_language\",\"runtime_cat\")"
   ]
  },
  {
   "cell_type": "code",
   "execution_count": null,
   "metadata": {},
   "outputs": [],
   "source": []
  },
  {
   "cell_type": "code",
   "execution_count": 19,
   "metadata": {},
   "outputs": [],
   "source": [
    "zm3 <- c(\"revenue\",\"sw_lang_en\"\n",
    "         ,\"sw_web_presence\"\n",
    "         ,\"sw_has_poster\"\n",
    "         ,\"sw_tagline\"\n",
    "                                  ,\"high_release_month\"\n",
    "                                    ,\"lang_US\"\n",
    "                                    ,\"lang_FR\"\n",
    "                                    ,\"lang_RU\"\n",
    "                                    ,\"lang_ES\"\n",
    "                                    ,\"lang_JA\"\n",
    "                                      ,\"sw_female_actor0\"\n",
    "                                      ,\"sw_female_actor1\"\n",
    "                                      ,\"sw_female_actor2\"\n",
    "                                      ,\"sw_male_actor0\"\n",
    "                                      ,\"sw_male_actor1\"\n",
    "                                      ,\"sw_male_actor2\"\n",
    "                                        ,\"genre_adventure\"\n",
    "                                        ,\"genre_fantasy\"\n",
    "                                        ,\"genre_animation\"\n",
    "                                        ,\"genre_drama\"\n",
    "                                        ,\"genre_horror\"\n",
    "                                        ,\"genre_action\"\n",
    "                                        ,\"genre_comedy\"\n",
    "                                        ,\"genre_history\"\n",
    "                                        ,\"genre_western\"\n",
    "                                        ,\"genre_thriller\"\n",
    "                                        ,\"genre_crime\"\n",
    "                                        ,\"genre_documentary\"\n",
    "                                        ,\"genre_science_fiction\"\n",
    "                                        ,\"genre_mystery\"\n",
    "                                        ,\"genre_music\"\n",
    "                                        ,\"genre_romance\"\n",
    "                                        ,\"genre_family\"\n",
    "                                        ,\"genre_war\"\n",
    "                                        ,\"genre_foreign\")"
   ]
  },
  {
   "cell_type": "code",
   "execution_count": 25,
   "metadata": {},
   "outputs": [],
   "source": [
    "zmmm<-c(\"revenue\",\n",
    "                                    \"lang_US\"\n",
    "                                    ,\"lang_FR\"\n",
    "                                    ,\"lang_RU\"\n",
    "                                    ,\"lang_ES\"\n",
    "                                    ,\"lang_JA\")"
   ]
  },
  {
   "cell_type": "code",
   "execution_count": 20,
   "metadata": {},
   "outputs": [],
   "source": [
    "zm4 <- c(\"release_day\",\"release_month\",\"release_year\")"
   ]
  },
  {
   "cell_type": "code",
   "execution_count": 21,
   "metadata": {},
   "outputs": [],
   "source": [
    "zm5 <- c(\"release_date\")\n"
   ]
  },
  {
   "cell_type": "code",
   "execution_count": 22,
   "metadata": {},
   "outputs": [],
   "source": [
    "zm6 <- c(\"keyword_cnt\"\n",
    "                              ,\"keyword_cnt\"\n",
    "                              ,\"sw_collection\"\n",
    "                              ,\"producers_cnt\"\n",
    "                              ,\"countries_cnt\"\n",
    "                                  ,\"actor0_movies_cnt\"\n",
    "                                  ,\"actor0_movies_5y_cnt\"\n",
    "                                  ,\"actor1_movies_cnt\"\n",
    "                                  ,\"actor1_movies_5y_cnt\"\n",
    "                                  ,\"actor2_movies_cnt\"\n",
    "                                  ,\"actor2_movies_5y_cnt\"\n",
    "                                  ,\"director_movies_cnt\"\n",
    "                                  ,\"director_movies_5y_cnt\"\n",
    "                                    ,\"depart_Art\"\n",
    "                                    ,\"depart_Camera\"\n",
    "                                    ,\"depart_Crew\"\n",
    "                                    ,\"depart_Custom_Mkup\"\n",
    "                                    ,\"depart_Directing\"\n",
    "                                    ,\"depart_Editing\"\n",
    "                                    ,\"depart_Lighting\"\n",
    "                                    ,\"depart_Production\"\n",
    "                                    ,\"depart_Sound\"\n",
    "                                    ,\"depart_Visual_Effects\"\n",
    "                                    ,\"depart_Writing\"\n",
    "                                    ,\"depart_Art_female\"\n",
    "                                    ,\"depart_Camera_female\"\n",
    "                                    ,\"depart_Crew_female\"\n",
    "                                    ,\"depart_Custom_Mkup_female\"\n",
    "                                    ,\"depart_Directing_female\"\n",
    "                                    ,\"depart_Editing_female\"\n",
    "                                    ,\"depart_Lighting_female\"\n",
    "                                    ,\"depart_Production_female\"\n",
    "                                    ,\"depart_Sound_female\"\n",
    "                                    ,\"depart_Visual_Effects_female\"\n",
    "                                    ,\"depart_Writing_female\")"
   ]
  },
  {
   "cell_type": "code",
   "execution_count": 11,
   "metadata": {},
   "outputs": [
    {
     "data": {
      "text/plain": [
       "    movie_id        budget          original_language    popularity     \n",
       " Min.   :   1   Min.   :        0   Length:7375        Min.   :  0.000  \n",
       " 1st Qu.:1848   1st Qu.:        0   Class :character   1st Qu.:  3.970  \n",
       " Median :3696   Median :  8000000   Mode  :character   Median :  7.456  \n",
       " Mean   :3698   Mean   : 22666657                      Mean   :  8.540  \n",
       " 3rd Qu.:5550   3rd Qu.: 29000000                      3rd Qu.: 10.932  \n",
       " Max.   :7398   Max.   :380000000                      Max.   :547.488  \n",
       "                                                                        \n",
       "  release_date           runtime      runtime_cat           revenue         \n",
       " Min.   :1918-08-01   Min.   :  0.0   Length:7375        Min.   :1.000e+00  \n",
       " 1st Qu.:1992-11-13   1st Qu.: 94.0   Class :character   1st Qu.:2.405e+06  \n",
       " Median :2004-07-29   Median :104.0   Mode  :character   Median :1.693e+07  \n",
       " Mean   :2000-03-15   Mean   :107.7                      Mean   :6.688e+07  \n",
       " 3rd Qu.:2011-06-27   3rd Qu.:118.0                      3rd Qu.:6.906e+07  \n",
       " Max.   :2017-08-11   Max.   :338.0                      Max.   :1.520e+09  \n",
       " NA's   :1            NA's   :5                          NA's   :4382       \n",
       "   sw_lang_en     sw_web_presence  sw_has_poster      sw_tagline    \n",
       " Min.   :0.0000   Min.   :0.0000   Min.   :0.0000   Min.   :0.0000  \n",
       " 1st Qu.:1.0000   1st Qu.:0.0000   1st Qu.:1.0000   1st Qu.:1.0000  \n",
       " Median :1.0000   Median :0.0000   Median :1.0000   Median :1.0000  \n",
       " Mean   :0.8591   Mean   :0.3204   Mean   :0.9997   Mean   :0.8045  \n",
       " 3rd Qu.:1.0000   3rd Qu.:1.0000   3rd Qu.:1.0000   3rd Qu.:1.0000  \n",
       " Max.   :1.0000   Max.   :1.0000   Max.   :1.0000   Max.   :1.0000  \n",
       "                                                                    \n",
       "  keyword_cnt       release_year  release_month    high_release_month\n",
       " Min.   :  0.000   Min.   :1918   Min.   : 1.000   Min.   :0.0000    \n",
       " 1st Qu.:  3.000   1st Qu.:1992   1st Qu.: 4.000   1st Qu.:0.0000    \n",
       " Median :  6.000   Median :2004   Median : 7.000   Median :0.0000    \n",
       " Mean   :  7.265   Mean   :2000   Mean   : 6.844   Mean   :0.3997    \n",
       " 3rd Qu.: 10.000   3rd Qu.:2011   3rd Qu.:10.000   3rd Qu.:1.0000    \n",
       " Max.   :149.000   Max.   :2017   Max.   :12.000   Max.   :1.0000    \n",
       "                   NA's   :1      NA's   :1                          \n",
       "  release_day     seasonality        sw_collection     producers_cnt   \n",
       " Min.   : 1.00   Min.   :-50746591   Min.   :0.00000   Min.   : 1.000  \n",
       " 1st Qu.: 8.00   1st Qu.:-33273015   1st Qu.:0.00000   1st Qu.: 1.000  \n",
       " Median :15.00   Median :-15309317   Median :0.00000   Median : 2.000  \n",
       " Mean   :15.25   Mean   : -1337484   Mean   :0.02942   Mean   : 2.908  \n",
       " 3rd Qu.:22.00   3rd Qu.: 32322910   3rd Qu.:0.00000   3rd Qu.: 4.000  \n",
       " Max.   :31.00   Max.   : 74205073   Max.   :2.00000   Max.   :26.000  \n",
       " NA's   :1       NA's   :1                             NA's   :395     \n",
       " countries_cnt       lang_US          lang_FR           lang_RU       \n",
       " Min.   : 0.000   Min.   :0.0000   Min.   :0.00000   Min.   :0.00000  \n",
       " 1st Qu.: 1.000   1st Qu.:1.0000   1st Qu.:0.00000   1st Qu.:0.00000  \n",
       " Median : 1.000   Median :1.0000   Median :0.00000   Median :0.00000  \n",
       " Mean   : 1.335   Mean   :0.8735   Mean   :0.09641   Mean   :0.04854  \n",
       " 3rd Qu.: 1.000   3rd Qu.:1.0000   3rd Qu.:0.00000   3rd Qu.:0.00000  \n",
       " Max.   :12.000   Max.   :1.0000   Max.   :1.00000   Max.   :1.00000  \n",
       "                                                                      \n",
       "    lang_ES          lang_JA         keywords_cnt     actor0_movies_cnt\n",
       " Min.   :0.0000   Min.   :0.00000   Min.   :  0.000   Min.   : 0.00    \n",
       " 1st Qu.:0.0000   1st Qu.:0.00000   1st Qu.:  3.000   1st Qu.: 0.00    \n",
       " Median :0.0000   Median :0.00000   Median :  6.000   Median : 4.00    \n",
       " Mean   :0.0758   Mean   :0.02766   Mean   :  7.265   Mean   : 7.19    \n",
       " 3rd Qu.:0.0000   3rd Qu.:0.00000   3rd Qu.: 10.000   3rd Qu.:11.00    \n",
       " Max.   :1.0000   Max.   :1.00000   Max.   :149.000   Max.   :65.00    \n",
       "                                                                       \n",
       " actor0_movies_5y_cnt actor1_movies_cnt actor1_movies_5y_cnt actor2_movies_cnt\n",
       " Min.   : 0.000       Min.   : 0.000    Min.   : 0.000       Min.   : 0.000   \n",
       " 1st Qu.: 0.000       1st Qu.: 0.000    1st Qu.: 0.000       1st Qu.: 0.000   \n",
       " Median : 2.000       Median : 2.000    Median : 1.000       Median : 2.000   \n",
       " Mean   : 2.769       Mean   : 5.405    Mean   : 2.261       Mean   : 4.773   \n",
       " 3rd Qu.: 5.000       3rd Qu.: 8.000    3rd Qu.: 4.000       3rd Qu.: 7.000   \n",
       " Max.   :16.000       Max.   :67.000    Max.   :17.000       Max.   :68.000   \n",
       "                                                                              \n",
       " actor2_movies_5y_cnt sw_female_actor0 sw_female_actor1 sw_female_actor2\n",
       " Min.   : 0.000       Min.   :0.0000   Min.   :0.0000   Min.   :0.0000  \n",
       " 1st Qu.: 0.000       1st Qu.:0.0000   1st Qu.:0.0000   1st Qu.:0.0000  \n",
       " Median : 1.000       Median :0.0000   Median :0.0000   Median :0.0000  \n",
       " Mean   : 1.915       Mean   :0.2333   Mean   :0.3792   Mean   :0.3379  \n",
       " 3rd Qu.: 3.000       3rd Qu.:0.0000   3rd Qu.:1.0000   3rd Qu.:1.0000  \n",
       " Max.   :15.000       Max.   :1.0000   Max.   :1.0000   Max.   :1.0000  \n",
       "                      NA's   :934      NA's   :782      NA's   :788     \n",
       " sw_male_actor0   sw_male_actor1   sw_male_actor2   actor0_prev_revenue\n",
       " Min.   :0.0000   Min.   :0.0000   Min.   :0.0000   Min.   :1.000e+00  \n",
       " 1st Qu.:0.0000   1st Qu.:0.0000   1st Qu.:0.0000   1st Qu.:4.426e+07  \n",
       " Median :1.0000   Median :1.0000   Median :1.0000   Median :1.515e+08  \n",
       " Mean   :0.6941   Mean   :0.5171   Mean   :0.5436   Mean   :2.233e+08  \n",
       " 3rd Qu.:1.0000   3rd Qu.:1.0000   3rd Qu.:1.0000   3rd Qu.:3.113e+08  \n",
       " Max.   :1.0000   Max.   :1.0000   Max.   :1.0000   Max.   :1.520e+09  \n",
       " NA's   :934      NA's   :782      NA's   :788      NA's   :2752       \n",
       " actor1_prev_revenue actor2_prev_revenue director_movies_cnt\n",
       " Min.   :1.000e+00   Min.   :1.000e+00   Min.   : 0.000     \n",
       " 1st Qu.:3.511e+07   1st Qu.:3.086e+07   1st Qu.: 0.000     \n",
       " Median :1.256e+08   Median :1.109e+08   Median : 1.000     \n",
       " Mean   :2.052e+08   Mean   :1.957e+08   Mean   : 1.952     \n",
       " 3rd Qu.:2.684e+08   3rd Qu.:2.506e+08   3rd Qu.: 3.000     \n",
       " Max.   :1.520e+09   Max.   :1.520e+09   Max.   :29.000     \n",
       " NA's   :3201        NA's   :3423                           \n",
       " director_movies_5y_cnt genre_adventure  genre_fantasy     genre_animation \n",
       " Min.   :0.0000         Min.   :0.0000   Min.   :0.00000   Min.   :0.0000  \n",
       " 1st Qu.:0.0000         1st Qu.:0.0000   1st Qu.:0.00000   1st Qu.:0.0000  \n",
       " Median :0.0000         Median :0.0000   Median :0.00000   Median :0.0000  \n",
       " Mean   :0.6496         Mean   :0.1513   Mean   :0.08515   Mean   :0.0518  \n",
       " 3rd Qu.:1.0000         3rd Qu.:0.0000   3rd Qu.:0.00000   3rd Qu.:0.0000  \n",
       " Max.   :6.0000         Max.   :1.0000   Max.   :1.00000   Max.   :1.0000  \n",
       "                                                                           \n",
       "  genre_drama      genre_horror      genre_action     genre_comedy   \n",
       " Min.   :0.0000   Min.   :0.00000   Min.   :0.0000   Min.   :0.0000  \n",
       " 1st Qu.:0.0000   1st Qu.:0.00000   1st Qu.:0.0000   1st Qu.:0.0000  \n",
       " Median :0.0000   Median :0.00000   Median :0.0000   Median :0.0000  \n",
       " Mean   :0.4984   Mean   :0.09966   Mean   :0.2353   Mean   :0.3532  \n",
       " 3rd Qu.:1.0000   3rd Qu.:0.00000   3rd Qu.:0.0000   3rd Qu.:1.0000  \n",
       " Max.   :1.0000   Max.   :1.00000   Max.   :1.0000   Max.   :1.0000  \n",
       "                                                                     \n",
       " genre_history  genre_western     genre_thriller    genre_crime   \n",
       " Min.   :0.00   Min.   :0.00000   Min.   :0.0000   Min.   :0.000  \n",
       " 1st Qu.:0.00   1st Qu.:0.00000   1st Qu.:0.0000   1st Qu.:0.000  \n",
       " Median :0.00   Median :0.00000   Median :0.0000   Median :0.000  \n",
       " Mean   :0.04   Mean   :0.01586   Mean   :0.2534   Mean   :0.147  \n",
       " 3rd Qu.:0.00   3rd Qu.:0.00000   3rd Qu.:1.0000   3rd Qu.:0.000  \n",
       " Max.   :1.00   Max.   :1.00000   Max.   :1.0000   Max.   :1.000  \n",
       "                                                                  \n",
       " genre_documentary genre_science_fiction genre_mystery      genre_music    \n",
       " Min.   :0.00000   Min.   :0.0000        Min.   :0.00000   Min.   :0.0000  \n",
       " 1st Qu.:0.00000   1st Qu.:0.0000        1st Qu.:0.00000   1st Qu.:0.0000  \n",
       " Median :0.00000   Median :0.0000        Median :0.00000   Median :0.0000  \n",
       " Mean   :0.02997   Mean   :0.1009        Mean   :0.07458   Mean   :0.0362  \n",
       " 3rd Qu.:0.00000   3rd Qu.:0.0000        3rd Qu.:0.00000   3rd Qu.:0.0000  \n",
       " Max.   :1.00000   Max.   :1.0000        Max.   :1.00000   Max.   :1.0000  \n",
       "                                                                           \n",
       " genre_romance     genre_family       genre_war       genre_foreign    \n",
       " Min.   :0.0000   Min.   :0.00000   Min.   :0.00000   Min.   :0.00000  \n",
       " 1st Qu.:0.0000   1st Qu.:0.00000   1st Qu.:0.00000   1st Qu.:0.00000  \n",
       " Median :0.0000   Median :0.00000   Median :0.00000   Median :0.00000  \n",
       " Mean   :0.1946   Mean   :0.09153   Mean   :0.03295   Mean   :0.01139  \n",
       " 3rd Qu.:0.0000   3rd Qu.:0.00000   3rd Qu.:0.00000   3rd Qu.:0.00000  \n",
       " Max.   :1.0000   Max.   :1.00000   Max.   :1.00000   Max.   :1.00000  \n",
       "                                                                       \n",
       "   depart_Art     depart_Camera     depart_Crew      depart_Custom_Mkup\n",
       " Min.   : 0.000   Min.   : 0.000   Min.   :  0.000   Min.   : 0.000    \n",
       " 1st Qu.: 0.000   1st Qu.: 0.000   1st Qu.:  0.000   1st Qu.: 0.000    \n",
       " Median : 1.000   Median : 1.000   Median :  0.000   Median : 1.000    \n",
       " Mean   : 2.707   Mean   : 1.802   Mean   :  2.388   Mean   : 2.074    \n",
       " 3rd Qu.: 3.000   3rd Qu.: 2.000   3rd Qu.:  2.000   3rd Qu.: 2.000    \n",
       " Max.   :36.000   Max.   :24.000   Max.   :119.000   Max.   :33.000    \n",
       " NA's   :34       NA's   :34       NA's   :34        NA's   :34        \n",
       " depart_Directing depart_Editing   depart_Lighting   depart_Production\n",
       " Min.   : 0.000   Min.   : 0.000   Min.   : 0.0000   Min.   : 0.000   \n",
       " 1st Qu.: 1.000   1st Qu.: 0.000   1st Qu.: 0.0000   1st Qu.: 1.000   \n",
       " Median : 1.000   Median : 1.000   Median : 0.0000   Median : 4.000   \n",
       " Mean   : 1.665   Mean   : 1.516   Mean   : 0.4262   Mean   : 5.301   \n",
       " 3rd Qu.: 2.000   3rd Qu.: 2.000   3rd Qu.: 0.0000   3rd Qu.: 8.000   \n",
       " Max.   :30.000   Max.   :21.000   Max.   :18.0000   Max.   :38.000   \n",
       " NA's   :34       NA's   :34       NA's   :34        NA's   :34       \n",
       "  depart_Sound    depart_Visual_Effects depart_Writing   depart_Art_female\n",
       " Min.   : 0.000   Min.   : 0.00         Min.   : 0.000   Min.   :0.0000   \n",
       " 1st Qu.: 1.000   1st Qu.: 0.00         1st Qu.: 1.000   1st Qu.:0.0000   \n",
       " Median : 1.000   Median : 0.00         Median : 2.000   Median :0.0000   \n",
       " Mean   : 3.064   Mean   : 1.29         Mean   : 2.222   Mean   :0.2351   \n",
       " 3rd Qu.: 3.000   3rd Qu.: 0.00         3rd Qu.: 3.000   3rd Qu.:0.0000   \n",
       " Max.   :40.000   Max.   :89.00         Max.   :23.000   Max.   :7.0000   \n",
       " NA's   :34       NA's   :34            NA's   :34       NA's   :34       \n",
       " depart_Camera_female depart_Crew_female depart_Custom_Mkup_female\n",
       " Min.   :0.00000      Min.   : 0.00000   Min.   :0.0000           \n",
       " 1st Qu.:0.00000      1st Qu.: 0.00000   1st Qu.:0.0000           \n",
       " Median :0.00000      Median : 0.00000   Median :0.0000           \n",
       " Mean   :0.02043      Mean   : 0.06443   Mean   :0.3535           \n",
       " 3rd Qu.:0.00000      3rd Qu.: 0.00000   3rd Qu.:1.0000           \n",
       " Max.   :3.00000      Max.   :10.00000   Max.   :6.0000           \n",
       " NA's   :34           NA's   :34         NA's   :34               \n",
       " depart_Directing_female depart_Editing_female depart_Lighting_female\n",
       " Min.   :0.0000          Min.   :0.0000        Min.   :0.00000       \n",
       " 1st Qu.:0.0000          1st Qu.:0.0000        1st Qu.:0.00000       \n",
       " Median :0.0000          Median :0.0000        Median :0.00000       \n",
       " Mean   :0.1535          Mean   :0.1216        Mean   :0.00068       \n",
       " 3rd Qu.:0.0000          3rd Qu.:0.0000        3rd Qu.:0.00000       \n",
       " Max.   :4.0000          Max.   :5.0000        Max.   :1.00000       \n",
       " NA's   :34              NA's   :34            NA's   :34            \n",
       " depart_Production_female depart_Sound_female depart_Visual_Effects_female\n",
       " Min.   : 0.0000          Min.   :0.00000     Min.   :0.00000             \n",
       " 1st Qu.: 0.0000          1st Qu.:0.00000     1st Qu.:0.00000             \n",
       " Median : 0.0000          Median :0.00000     Median :0.00000             \n",
       " Mean   : 0.9396          Mean   :0.07914     Mean   :0.00845             \n",
       " 3rd Qu.: 2.0000          3rd Qu.:0.00000     3rd Qu.:0.00000             \n",
       " Max.   :12.0000          Max.   :6.00000     Max.   :2.00000             \n",
       " NA's   :34               NA's   :34          NA's   :34                  \n",
       " depart_Writing_female\n",
       " Min.   :0.0000       \n",
       " 1st Qu.:0.0000       \n",
       " Median :0.0000       \n",
       " Mean   :0.1242       \n",
       " 3rd Qu.:0.0000       \n",
       " Max.   :5.0000       \n",
       " NA's   :34           "
      ]
     },
     "metadata": {},
     "output_type": "display_data"
    }
   ],
   "source": [
    "summary(movies_ff_v)"
   ]
  },
  {
   "cell_type": "code",
   "execution_count": 3,
   "metadata": {},
   "outputs": [],
   "source": [
    "############################################################################\n",
    "#####   Package mechkar                                                 ####\n",
    "#####   Author: Tomas Karpati M.D.                                      ####\n",
    "#####   Creation date: 2017-05-01                                       ####\n",
    "############################################################################\n",
    "\n",
    "############################################################################\n",
    "#####   DATA VISUALIZATION                                              ####\n",
    "#####   Author: Tomas Karpati M.D.                                      ####\n",
    "#####   Creation date: 2014-03-12                                       ####\n",
    "############################################################################\n",
    "\n",
    "###########  Functions   ##############################################\n",
    "\n",
    "###################################################\n",
    "\n",
    "exploreData <- function(y=NULL, data=data, factorSize=10, dir=\"report\", ...) {\n",
    "\n",
    "  get_computer_type <- function(){\n",
    "    # check if current R client is running on PC or on the server\n",
    "    if (Sys.info()[1] == \"Windows\") {\n",
    "      computer.type = \"pc\"\n",
    "    } else if (Sys.info()[1] == \"Linux\") {\n",
    "      computer.type = \"server\"\n",
    "    }\n",
    "    return(computer.type)\n",
    "  }\n",
    "\n",
    "  whatVarType <- function(var) {\n",
    "    suppressWarnings(if (var==\"integer\" | var==\"numeric\") {\n",
    "      return(1)\n",
    "    } else if (var==\"factor\" | var==\"character\") {\n",
    "      return(2)\n",
    "    } else if (var==\"Date\" | \"POSIXct\" %in% var[[1]]) {\n",
    "      return(3)\n",
    "    } else {\n",
    "      return(0)\n",
    "    })\n",
    "  }\n",
    "\n",
    "  drawHistogram <- function(imgname=imgname, x=x) {\n",
    "    d=stats::density(x, kernel = \"gaussian\",na.rm=TRUE)\n",
    "    breakstar=(max(x,na.rm=TRUE) -min(x,na.rm=TRUE))/d$bw\n",
    "    h=graphics::hist(x, breaks=breakstar)\n",
    "    graphics::plot(h,main=\"\",xlab=imgname)\n",
    "    yfit<-seq(min(x,na.rm=TRUE),max(x,na.rm=TRUE),length=40)\n",
    "    ffit<-stats::dnorm(yfit,mean=mean(x,na.rm=T),sd=stats::sd(x,na.rm=T))\n",
    "    ffit <- ffit*diff(h$mids[1:2])*length(x)\n",
    "    lines(yfit, ffit, col=\"blue\", lwd=2)\n",
    "  }\n",
    "\n",
    "  drawFakeGraph <- function(imgname=imgname) {\n",
    "    graphics::plot.window(xlim = c(0,0),ylim = c(0,0))\n",
    "  }\n",
    "\n",
    "  drawBars <- function(imgname=imgname, x=x) {\n",
    "    graphics::plot(x)\n",
    "  }\n",
    "\n",
    "  drawGraphOne <- function(imgname=imgname, numVar=x, vartype=1) {\n",
    "    if(vartype==1) {\n",
    "      drawHistogram(imgname,numVar)\n",
    "    } else if(vartype==2) {\n",
    "      drawBars(imgname,numVar)\n",
    "    } else {\n",
    "      drawFakeGraph(imgname)\n",
    "    }\n",
    "  }\n",
    "\n",
    "  getContinuousStats <- function(x) {\n",
    "    N <- length(x)\n",
    "    n <- length(x[which(is.na(x)==FALSE)])\n",
    "    pct <- formatC(n/N * 100)\n",
    "    nmiss <- length(x[which(is.na(x)==TRUE)])\n",
    "    npct <- formatC(nmiss/N *100)\n",
    "    ma <- mean(x, na.rm=TRUE)\n",
    "    s <- stats::sd(x, na.rm=TRUE)\n",
    "    me <- formatC(stats::median(x, na.rm=TRUE))\n",
    "    q1 <- formatC(stats::quantile(x,1/4, na.rm=TRUE))\n",
    "    q3 <- formatC(stats::quantile(x,3/4, na.rm=TRUE))\n",
    "    mn <- formatC(min(x, na.rm=TRUE))\n",
    "    mx <- formatC(max(x, na.rm=TRUE))\n",
    "    html <- paste(\"<div class='Cell' style='align: top;'> <u>Data type</u>: Continuous <p> <u>Data length</u>: \",n ,\"/\", N, \" (\", pct, \"%) <br> <u>Missing</u>: \",\n",
    "                  nmiss, \" (\", npct, \"%)<p> <u>Mean</u>: \", formatC(ma), \"\\t <u>StdDev</u>: \", formatC(s), \"<br><u>Median</u>: \",me,\n",
    "                  \"\\t <u>IQR</u>: \", q1, \"-\", q3, \"<br><u>Min</u>: \", mn, \"\\t <u>Max</u>: \", mx, \"</div>\")\n",
    "    return(html)\n",
    "  }\n",
    "\n",
    "  getCategortyStats <- function(x) {\n",
    "    N <- length(x)\n",
    "    n <- length(x[which(is.na(x)==FALSE)])\n",
    "    pct <- formatC(n/N * 100)\n",
    "    nmiss <- length(x[which(is.na(x)==TRUE)])\n",
    "    npct <- formatC(nmiss/N *100)\n",
    "    l <- levels(x)\n",
    "    s <- summary(x)\n",
    "    htm <- \"<ul>\"\n",
    "    if (length(l) < 5) {\n",
    "      for (lv in l) {\n",
    "        htm <- paste(htm, \"<li><u>\", lv, \"</u>: \", s[[lv]], \"</li>\")\n",
    "      }\n",
    "      htm <- paste(htm,\"</ul>\")\n",
    "    }\n",
    "    html <- paste(\"<div class='Cell'> <u>Data type</u>: Categorical Data <p> <u>Data length</u>: \",n, \"/\", N, \" (\", pct, \"%) <br> <u>Missing</u>: \",\n",
    "                  nmiss, \" (\", npct, \"%) <p> <u>Number of levels</u>: \", length(l), \"<br>\", htm, \"</div>\")\n",
    "    return(html)\n",
    "  }\n",
    "\n",
    "  getDatesStats <- function(x) {\n",
    "    N <- length(x)\n",
    "    n <- length(x[which(is.na(x)==FALSE)])\n",
    "    pct <- formatC(n/N * 100)\n",
    "    nmiss <- length(x[which(is.na(x)==TRUE)])\n",
    "    npct <- formatC(nmiss/N *100)\n",
    "    s <- summary(x)\n",
    "    html <- paste(\"<div class='Cell'> <u>Data type</u>: Date <p> <u>Data length</u>: \",n, \"/\", N, \" (\", pct, \"%) <br> <u>Missing</u>: \",\n",
    "                  nmiss, \" (\", npct, \"%) <p> <u>Min date</u>: \", min(x, na.rm=T), \"<br><u>Max date</u>:\",max(x, na.rm=T) , \"</div>\")\n",
    "    return(html)\n",
    "  }\n",
    "\n",
    "  getStats <- function(numVar=x, vartype=1) {\n",
    "    if(vartype==1) {\n",
    "      html <- getContinuousStats(numVar)\n",
    "    } else if(vartype==2) {\n",
    "      html <- getCategortyStats(numVar)\n",
    "    } else if (vartype==3) {\n",
    "      html <- getDatesStats(numVar)\n",
    "    } else {\n",
    "      html <- \"<div class='Cell'></div>\"\n",
    "    }\n",
    "    return(html)\n",
    "  }\n",
    "\n",
    "  getOutliers <- function(x) {\n",
    "    bp <- graphics::boxplot(x,plot=FALSE)\n",
    "    return(bp$out)\n",
    "  }\n",
    "\n",
    "  getOutlierGraph <- function(x) {\n",
    "    #  mod <- tryCatch({\n",
    "    outl <- getOutliers(x)\n",
    "    df <- data.frame(x=x, cl=1)\n",
    "    if(length(outl)>0) {\n",
    "      df$cl[which(df$x %in% outl)] <- 2\n",
    "    }\n",
    "    pl <- stats::scatter.smooth(df$x,col=df$cl)\n",
    "    ma <- mean(x, na.rm=TRUE)\n",
    "    s <- stats::sd(x, na.rm=TRUE)\n",
    "    graphics::abline(h=ma-(2*s), col=\"red\", lty=2)\n",
    "    graphics::abline(h=ma+(2*s), col=\"red\", lty=2)\n",
    "    #  }, error = function(e) {\n",
    "    #    pl <- drawFakeGraph(\"none\")\n",
    "    #  })\n",
    "    return(pl)\n",
    "  }\n",
    "\n",
    "  getScatterGraph <- function(df=data,x,y,dtype=1) {\n",
    "    #  mod <- tryCatch({\n",
    "    if(dtype==1) {\n",
    "      pl <- ggplot2::ggplot(df) + ggplot2::geom_smooth(aes(x=data[[x]], y=data[[y]]), method=\"loess\") + xlab(x) + ylab(y)\n",
    "    } else {\n",
    "      pl <- ggplot2::ggplot(df) + ggplot2::geom_boxplot(aes(y=data[[x]], color=data[[y]])) + xlab(x) + ylab(y) + labs(color=y)\n",
    "    }\n",
    "    return(pl)\n",
    "  }\n",
    "\n",
    "  getOutliersHtml <- function(imgname=imgname, x=x, srcdir=srcdir) {\n",
    "    bp <- getOutliers(x)\n",
    "    if (length(unique(bp)) > 10) {\n",
    "      xtrm <- paste(\"There are \", length(unique(bp)), \" outlier values\")\n",
    "    } else if (length(unique(bp)) == 0) {\n",
    "      xtrm <- \"No outlier values found\"\n",
    "    } else {\n",
    "      xtrm <- paste(formatC(bp), collapse=', ' )\n",
    "    }\n",
    "    imgsrc = paste(paste0(srcdir,\"/fig/\"),imgname, \"_2.png\",sep=\"\")\n",
    "    html <- paste0(\"<div class='Cell'><img class='origimg' src='\",imgsrc,\"' height='150' width='250'><br> <u>Outlier values</u>: <br> \", xtrm, \"</div>\")\n",
    "    return(html)\n",
    "  }\n",
    "  ################## Prepare for the report ###################\n",
    "  #report <- paste(mydir,\"/report\",sep=\"\")\n",
    "  report <- dir\n",
    "  if (!file.exists(report)) {\n",
    "    dir.create(report)\n",
    "  }\n",
    "  fig <- paste(report,\"/fig\",sep=\"\")\n",
    "  if (!file.exists(fig)) {\n",
    "    dir.create(fig)\n",
    "  }\n",
    "  if (get_computer_type()==\"pc\") {\n",
    "    srcdir <- paste0(getwd(),\"/\",report)\n",
    "  } else {\n",
    "    srcdir <- paste0(\"file_show?path=\",getwd(),\"/\",report)\n",
    "  }\n",
    "  # determine which columns are integer\n",
    "  int_col <- which(sapply(data, is.integer))\n",
    "  int_col <- c(int_col,(which(sapply(data, is.numeric))))\n",
    "  mi <- vector()\n",
    "  # find only those integers with less than 10 unique values and convert to factor\n",
    "  for (li in int_col) {\n",
    "    if (length(unique(data[,li])) < factorSize) {\n",
    "      mi <- c(mi,li)\n",
    "      if (is.factor(data[,li]) == FALSE) {\n",
    "        data[,li] <- factor(data[,li])\n",
    "      }\n",
    "    }\n",
    "  }\n",
    "\n",
    "  str_col <- which(sapply(data, is.character))\n",
    "  mi <- vector()\n",
    "  # find only those integers with less than 10 unique values and convert to factor\n",
    "  for (li in str_col) {\n",
    "    mi <- c(mi,li)\n",
    "    data[,li] <- factor(data[,li])\n",
    "  }\n",
    "\n",
    "  # create the html report page\n",
    "  myhtml <- paste(report,\"/report.html\",sep=\"\")\n",
    "  cat(\"<!DOCTYPE html>\n",
    "      <html>\n",
    "      <head>\n",
    "      <title>Data Visualization</title>\n",
    "      <meta http-equiv='Content-Type' content='text/html; charset=UTF-8' />\n",
    "      <link rel='stylesheet' href='http://code.jquery.com/mobile/1.4.5/jquery.mobile-1.4.5.min.css'>\n",
    "\n",
    "      <script src='http://code.jquery.com/jquery-1.10.2.js'></script>\n",
    "      <script>\n",
    "      $(document).ready(function(){\n",
    "      $('.onetoone').hide();\n",
    "      });\n",
    "\n",
    "      $(function() {\n",
    "      $('.origimg').click(function(e) {\n",
    "      $('#popup_img').attr('src',$(this).attr('src'));\n",
    "      $('#myContainer').hide();\n",
    "      var pos = $(document).scrollTop();\n",
    "      $('#myContainer').css({'top':pos+20,'left':250, 'position':'absolute', 'border':'1px solid black', 'padding':'0px'});\n",
    "      $('#myContainer').show();\n",
    "      });\n",
    "      $('#myContainer').click(function(e) {\n",
    "      $('#myContainer').hide();\n",
    "      });\n",
    "\n",
    "      $('#myform2').submit(function(e) {\n",
    "      e.preventDefault();\n",
    "      });\n",
    "\n",
    "      $('#onetoone').on('click',function() {\n",
    "      console.log('onetone button - 1');\n",
    "      $('#onetoone').hide();\n",
    "      $('#aslist').show();\n",
    "      // To show only individual rows:\n",
    "      $('.Row').hide();\n",
    "      $('.onetoone').show();\n",
    "      // then we iterate\n",
    "      var i = $('.Row').length;\n",
    "      // Then we iterate\n",
    "      var nxt = $('#idx').val();\n",
    "      if (nxt < i & nxt >0) {\n",
    "      $('.Row').hide();\n",
    "      $('.Row').eq(0).show();\n",
    "      $('.Row').eq(nxt).show();\n",
    "      } else {\n",
    "      $('#idx').val(1)\n",
    "      }\n",
    "      console.log('onetone button - 2');\n",
    "      });\n",
    "\n",
    "      $('#aslist').on('click',function() {\n",
    "      console.log('aslist button - 1');\n",
    "      $('#onetoone').show();\n",
    "      $('#aslist').hide();\n",
    "      $('.onetoone').hide();\n",
    "      $('.Row').show();\n",
    "      console.log('aslist button - 2');\n",
    "      });\n",
    "\n",
    "      $('#less').on('click',function(){\n",
    "      console.log('less button - 1');\n",
    "      var i = $('.Row').length;\n",
    "      var nxt = parseInt($('#idx').val(),10) - 1;\n",
    "      if (nxt < i & nxt >0) {\n",
    "      $('#idx').val(nxt)\n",
    "      $('.Row').hide();\n",
    "      $('.Row').eq(0).show();\n",
    "      $('.Row').eq(nxt).show();\n",
    "      } else {\n",
    "      $('#idx').val(1)\n",
    "      }\n",
    "      console.log('less button - 2');\n",
    "      });\n",
    "\n",
    "      $('#more').on('click',function(){\n",
    "      console.log('more button - 1');\n",
    "      var i = $('.Row').length;\n",
    "      var nxt = parseInt($('#idx').val(),10) + 1;\n",
    "      if (nxt < i & nxt >0) {\n",
    "      $('#idx').val(nxt)\n",
    "      $('.Row').hide();\n",
    "      $('.Row').eq(0).show();\n",
    "      $('.Row').eq(nxt).show();\n",
    "      } else {\n",
    "      $('#idx').val(i)\n",
    "      }\n",
    "      console.log('more button - 2');\n",
    "      });\n",
    "\n",
    "      $('#idx').on('change', function(){\n",
    "      console.log('idx changed - 1');\n",
    "      var i = $('.Row').length;\n",
    "      var nxt = $('#idx').val();\n",
    "      if (nxt < i & nxt >0) {\n",
    "      $('#idx').val(nxt)\n",
    "      $('.Row').hide();\n",
    "      $('.Row').eq(0).show();\n",
    "      $('.Row').eq(nxt).show();\n",
    "      } else {\n",
    "      $('#idx').val(i)\n",
    "      }\n",
    "      console.log('idx changed - 2');\n",
    "      });\n",
    "      });\n",
    "\n",
    "      </script>\n",
    "\n",
    "      <style type='text/css'>\n",
    "      .Table\n",
    "      {\n",
    "      display: table;\n",
    "      }\n",
    "      .Title\n",
    "      {\n",
    "      display: table-caption;\n",
    "      text-align: center;\n",
    "      font-weight: bold;\n",
    "      font-size: larger;\n",
    "      }\n",
    "      .Row\n",
    "      {\n",
    "      display: table-row;\n",
    "      }\n",
    "      .Cell\n",
    "      {\n",
    "      display: table-cell;\n",
    "      border: solid;\n",
    "      border-width: thin;\n",
    "      padding-left: 5px;\n",
    "      padding-right: 5px;\n",
    "      vertical-align: top;\n",
    "      font-family: 'arial';\n",
    "      font-size: 14px;\n",
    "      }\n",
    "      </style>\n",
    "\n",
    "      </head>\n",
    "\n",
    "      <body>\n",
    "      <div id='pageone' data-role='main' class='ui-content'>\n",
    "      \", file = myhtml, sep='\\n',append=FALSE)\n",
    "\n",
    "  html <- paste(\"<p><p><h1> Data Visualization & Exploration </h1>\n",
    "                <form>\n",
    "                <input type='button' id='onetoone' value='Show as Cards'>\n",
    "                <input type='button' id='aslist' class='onetoone' value='Show as List'>\n",
    "                </form>\n",
    "                <p>\n",
    "                \")\n",
    "  cat(html, file = myhtml, sep='\\n', append=TRUE)\n",
    "  # begin table\n",
    "  alt1 <- ifelse(is.null(y)== TRUE, \"\", \"<div class='Cell Title'> Dependent <br> Variable <br> Distribution </div>\")\n",
    "  html <- paste(\"<p><p>\n",
    "                <div class='Table'>\n",
    "                <div class='Row'>\n",
    "                <div class='Cell Title'> Variable </div>\n",
    "                <div class='Cell Title'> Distribution </div>\n",
    "                <div class='Cell Title'> Descriptive <br> Statistics</div>\n",
    "                <div class='Cell Title'> Outliers </div>\"\n",
    "                , alt1,\n",
    "                \"</div>\")\n",
    "  cat(html, file = myhtml, sep='\\n', append=TRUE)\n",
    "\n",
    "  #### determinate the type of each variable...\n",
    "  data_types <- sapply(sapply(data, class), whatVarType)\n",
    "\n",
    "  for(x in names(data)) {\n",
    "    print(x)\n",
    "    html <- paste(\"<div class='Row'><div class='Cell'><b>\",x,\"</b></div>\")\n",
    "    cat(html, file = myhtml, sep='\\n', append=TRUE)\n",
    "    #### initialize the first graph\n",
    "    imgname = paste(fig,\"/\",x, \"_1.png\",sep=\"\")\n",
    "    imgsrc = paste(paste0(srcdir,\"/fig/\"),x, \"_1.png\",sep=\"\")\n",
    "    ### send the data with the type to generate the correct graph..\n",
    "    grDevices::png(imgname)\n",
    "    drawGraphOne(x, data[[x]], data_types[x])\n",
    "    grDevices::dev.off()\n",
    "    html <- paste0(\"<div class='Cell'><img class='origimg'  src='\",imgsrc,\"' height='150' width='150'><br></div>\")\n",
    "    cat(html, file = myhtml, sep='\\n', append=TRUE)\n",
    "\n",
    "    # second, show the statistics\n",
    "    html <- getStats(data[[x]],data_types[x])\n",
    "    cat(html, file = myhtml, sep='\\n', append=TRUE)\n",
    "\n",
    "    # third, determine the outliers\n",
    "    imgname = paste(fig,\"/\",x, \"_2.png\",sep=\"\")\n",
    "    if(data_types[x]==1) {\n",
    "      grDevices::png(imgname)\n",
    "      getOutlierGraph(data[[x]])\n",
    "      grDevices::dev.off()\n",
    "      html <- getOutliersHtml(x,data[[x]],srcdir)\n",
    "    } else {\n",
    "      html <- \"<div class='Cell'></div>\"\n",
    "    }\n",
    "    cat(html, file = myhtml, sep='\\n', append=TRUE)\n",
    "\n",
    "    # fourth, if y is assigned, make a corresponding plot\n",
    "    if(is.null(y)==FALSE) {\n",
    "      imgname = paste(fig,\"/\",x, \"_3.png\",sep=\"\")\n",
    "      imgsrc = paste(paste0(srcdir,\"/fig/\"),x, \"_3.png\",sep=\"\")\n",
    "      #print(imgname)\n",
    "      grDevices::png(imgname)\n",
    "      ### scatter.smooth(data[[x]] ~ data[[y]])\n",
    "      #suppressWarnings(getScatterGraph(data,x,y,data_types[y]))\n",
    "      plot(getScatterGraph(data,x,y,data_types[y]))\n",
    "      grDevices::dev.off()\n",
    "      html <- paste0(\"<div class='Cell'><img class='origimg' src='\",imgsrc,\"' height='150' width='150'><br></div>\")\n",
    "      cat(html, file = myhtml, sep='\\n', append=TRUE)\n",
    "    }\n",
    "    html <- paste(\"</div>\")\n",
    "    cat(html, file = myhtml, sep='\\n', append=TRUE)\n",
    "  }\n",
    "  html <- paste(\"</div>\")\n",
    "  cat(html, file = myhtml, sep='\\n', append=TRUE)\n",
    "  # end table\n",
    "  html <- paste(\"</div>\n",
    "                <div data-role='popup' id='myContainer' style='display: none;'>\n",
    "                <img id='popup_img' src='' />\n",
    "                </div>\n",
    "                </div>\n",
    "                </div>\n",
    "                </div>\n",
    "                <p>\n",
    "                <div class='onetoone'>\n",
    "                <form id='myform2'>\n",
    "                <span> <input type='button' id='less' value=' << '> </span>\n",
    "                <span> <input id='idx' name='idx' value='1'></input></span>\n",
    "                <span> <input type='button' id='more' value=' >> '> </span>\n",
    "                </form>\n",
    "                </div>\n",
    "                <p>\n",
    "                </body></html>\n",
    "                \")\n",
    "  cat(html, file = myhtml, sep='\\n', append=TRUE)\n",
    "  if(.Platform$OS.type == \"unix\") {\n",
    "    system(paste(\"start /b \", myhtml))\n",
    "  } else {\n",
    "    shell(paste(\"explorer \", gsub(\"/\", \"\\\\\\\\\", myhtml) ), intern=TRUE)\n",
    "  }\n",
    "}\n",
    "\n",
    "###################### END exploreData ###############\n",
    "\n",
    "############################################################################\n",
    "#####   TABLE 1                                                         ####\n",
    "#####   Author: Tomas Karpati M.D.                                      ####\n",
    "#####   Creation date: 2016-03-09                                       ####\n",
    "#####   Last Modified: 2018-12-19                                       ####\n",
    "############################################################################\n",
    "\n",
    "####################  FUNCTIONS  ###########################################\n",
    "#### Usage:\n",
    "####   x: character vector with the name of the variables\n",
    "####   y: the name of the strata variable (optional)\n",
    "####   rn: character vector with the text we want to replace the variable names\n",
    "####   data: the dataset to be used\n",
    "####   miss: include missing statistics: [0=none, 1=only for categorical variables, 2=for all variables]\n",
    "####   excel: export the table to excel [0=no, 1=yes]\n",
    "####   excel_file: the name of the excel file we want to save the table (optional)\n",
    "####\n",
    "###################\n",
    "\n",
    "Table1 <- function (x=NULL, y=NULL, rn=NULL, data=NULL, miss=3, catmiss=TRUE, formatted=TRUE, categorize=FALSE,\n",
    "                    factorVars=NULL, maxcat=10, delzero=TRUE, decimals=1, messages=TRUE, excel=0, excel_file=NULL) {\n",
    "  ### define sub-functions\n",
    "  options(warn=-1)\n",
    "  Del <- NULL\n",
    "  Pop <- NULL\n",
    "  n <- NULL\n",
    "  g1 <- function(var)c(Mean=mean(var,na.rm=TRUE), SD=stats::sd(var,na.rm=TRUE))\n",
    "  g2 <- function(var)c(Median=stats::median(var,na.rm=TRUE), IQR=stats::quantile(var,c(0.25,0.75),na.rm=TRUE))\n",
    "  msg <- NULL\n",
    "\n",
    "  ### function for transforming variables to factors\n",
    "  setFactors <- function(data=data, factorVars=factorVars, catmiss=catmiss, maxcat=maxcat) {\n",
    "    #print(factorVars)\n",
    "    if(is.null(factorVars)==T) {\n",
    "      aa <- sapply(sapply(data, unique), length)\n",
    "      factorVars <- names(which(aa <= maxcat))\n",
    "    }\n",
    "    #print(factorVars)\n",
    "    for (v in factorVars) {\n",
    "      ct <- ifelse( ((is.null(factorVars)==F & (v %in% factorVars)) | (is.null(factorVars)==T & length(unique(data[[v]])) <= maxcat)),1,0)\n",
    "      if (ct == 1) {\n",
    "        data[[v]] <- factor(data[[v]])\n",
    "        if(catmiss == T & sum(is.na(data[[v]])==T) > 0) {\n",
    "          data[[v]] <- factor(data[[v]],levels=c(levels(data[[v]]),\"Missing\"))\n",
    "          data[[v]][which(is.na(data[[v]])==T)] <- \"Missing\"\n",
    "        }\n",
    "      }\n",
    "    }\n",
    "    return(data)\n",
    "  }\n",
    "  ### proceed to convert varibles to factors\n",
    "  if (categorize == T | is.null(factorVars)==F ) {\n",
    "    data <- setFactors(data, factorVars, catmiss, maxcat)\n",
    "  }\n",
    "\n",
    "  getSimpleTable  <- function(x=x, rn=rn, data=data, miss=miss, catmiss=catmiss,formatted=formatted,\n",
    "                              categorize=categorize,maxcat=maxcat, delzero=delzero) {\n",
    "    if (is.null(x)==TRUE) { x <- names(data)}\n",
    "    if (is.null(rn)==TRUE) { rn <- x}\n",
    "    ln <- length(x)\n",
    "    pb <- utils::txtProgressBar(min=0,max=ln,style=3)\n",
    "    msg <- NULL\n",
    "    ### define the column names\n",
    "    tableaaaa <- cbind(Del=\"Del\",V1=\"Variables\",V2=\"Categories\",n=\"n\",\"Population\")\n",
    "    tablebbbb <- cbind(Del=\"Del\",V1=\"Variables\",V2=\"Categories\",n=\"n\",val1=\"val1\",val2=\"val2\",val3=\"val3\")\n",
    "    tbl1 <- cbind(0,\"Individuals\",\"n\",n=1, nrow(data))\n",
    "    tbl2 <- cbind(0,\"Individuals\",\"n\",n=1, nrow(data),NA,NA)\n",
    "    tableaaaa <- rbind(tableaaaa,tbl1)\n",
    "    tablebbbb <- rbind(tablebbbb,tbl2)\n",
    "    q <- 1\n",
    "    n <- 1\n",
    "    ii <- 1\n",
    "    for (v in x)\n",
    "    {\n",
    "      if (v %in% names(data)) {\n",
    "        ### define if the actual variable has to be treated as numeric or factor\n",
    "        ct <- ifelse(is.numeric(data[[v]])==T & categorize==T &\n",
    "                       ((is.null(factorVars)==F & (v %in% factorVars)) |\n",
    "                          (is.null(factorVars)==T & length(unique(data[[v]])) <= maxcat)),1,0)\n",
    "        ### treat as numeric\n",
    "        if (length(unique(data[v]))==0) {\n",
    "          if (messages==T) {\n",
    "            #print(paste(\"The variable\",v,\"has no data... avoided\"))\n",
    "            msg <- c(msg, paste(\"The variable\",v,\"has no data... avoided\"))\n",
    "          }\n",
    "        } else if (inherits(data[[v]], \"Date\")==TRUE) {\n",
    "          if (messages==T) {\n",
    "            msg <- c(msg, paste(\"The variable\",v,\"is a date. Dates are not allowed in Table1... avoided\"))\n",
    "          }\n",
    "        } else if (is.numeric(data[[v]])==T & ct==0) {\n",
    "          ## report mean and standard deviation\n",
    "          t_n <- g1(data[[v]])\n",
    "          tp <- paste(format(round(t_n[1],decimals),nsmall=1,big.mark=\",\"),\" (\", format(round(t_n[2],decimals),nsmall=1,big.mark=\",\"),\")\",sep=\"\")\n",
    "          tbl1 <- cbind(0,rn[q],\"Mean (SD)\",n=1, tp)\n",
    "          tbl2 <- cbind(0,rn[q],\"Mean (SD)\",n=1,t_n[1],t_n[2],NA)\n",
    "          tableaaaa <- rbind(tableaaaa,tbl1)\n",
    "          tablebbbb <- rbind(tablebbbb,tbl2)\n",
    "          ## report median and Interquartile ranges (25%,75%)\n",
    "          t_n <- g2(data[[v]])\n",
    "          tp <- paste(format(round(t_n[1],decimals),nsmall=1,big.mark=\",\"),\" (\", format(round(t_n[2],decimals),nsmall=1,big.mark=\",\"),\"-\", format(round(t_n[3],decimals),nsmall=1,big.mark=\",\"), \")\",sep=\"\")\n",
    "          tbl1 <- cbind(0,rn[q],\"Median (IQR)\",n=2, format(tp,big.mark=\",\"))\n",
    "          tbl2 <- cbind(0,rn[q],\"Median (IQR)\",n=2,t_n[1],t_n[2],t_n[3])\n",
    "          tableaaaa <- rbind(tableaaaa,tbl1)\n",
    "          tablebbbb <- rbind(tablebbbb,tbl2)\n",
    "          ## report number and percent of missing\n",
    "          if (miss >= 1) {\n",
    "            datams <- subset(data,is.na(data[[v]])==T)\n",
    "            if (nrow(datams)>0) {\n",
    "              data$cnt <- 1\n",
    "              datams$cnt <- 1\n",
    "              t_n <- table(data$cnt)\n",
    "              t_m <- sum(datams$cnt)\n",
    "              tp <- paste(format(t_m,big.mark=\",\"),\" (\",format(round((t_m/t_n)*100,decimals),nsmall=1,big.mark=\",\"),\"%)\",sep=\"\")\n",
    "              tbl1 <- cbind(0,rn[q],\"Missing (%)\",n=3, tp)\n",
    "              tbl2 <- cbind(0,rn[q],\"Missing (%)\",n=3, t_m, (t_m/t_n)*100, NA)\n",
    "            } else {\n",
    "              tbl1 <- cbind(1,rn[q],\"Missing (%)\",n=3, \" -- \")\n",
    "              tbl2 <- cbind(1,rn[q],\"Missing (%)\",n=3, NA, NA, NA)\n",
    "            }\n",
    "            tableaaaa <- rbind(tableaaaa,tbl1)\n",
    "            tablebbbb <- rbind(tablebbbb,tbl2)\n",
    "          }\n",
    "        } else {\n",
    "          t_n <- table(data[[v]])\n",
    "          ttotal <- sum(t_n)\n",
    "          nm <- row.names(t_n)\n",
    "          for (f in 1:length(nm)) {\n",
    "            del1 <- ifelse(length(nm)==2 & (nm[f]==\"No\" | nm[f]==\"no\" | nm[f]==0 | nm[f]==\"0\" | nm[f]==\"None\" | nm[f]==\"none\"),1,0)\n",
    "            tp <- t_n[f] / ttotal * 100\n",
    "            pct <- paste(format(round(t_n[f],decimals),nsmall=0,big.mark=\",\"),\" (\", format(round(tp,decimals),nsmall=1,big.mark=\",\"), \"%)\",sep=\"\")\n",
    "            tbl1 <- cbind(del1,rn[q],nm[f],n=f, pct)             ########### delete rows 0/1 !!!!!!!!!\n",
    "            tbl2 <- cbind(del1,rn[q],nm[f],n=f, t_n[f], tp, NA)  ########### delete rows 0/1 !!!!!!!!!\n",
    "            tableaaaa <- rbind(tableaaaa,tbl1)\n",
    "            tablebbbb <- rbind(tablebbbb,tbl2)\n",
    "          }\n",
    "          if (miss >= 2 & catmiss==F ) {\n",
    "            datams <- subset(data,is.na(data[[v]])==T)\n",
    "            if (nrow(datams)>0) {\n",
    "              data$cnt <- 1\n",
    "              datams$cnt <- 1\n",
    "              t_n <- table(data$cnt)\n",
    "              t_m <- sum(datams$cnt)\n",
    "              tp <- paste(format(t_m,big.mark=\",\"),\" (\",format(round((t_m/t_n)*100,decimals),nsmall=1,big.mark=\",\"),\"%)\",sep=\"\")\n",
    "              tbl1 <- cbind(0,rn[q],\"Missing (%)\",n=f, tp)\n",
    "              tbl2 <- cbind(0,rn[q],\"Missing (%)\",n=f, t_m, (t_m/t_n)*100, NA)\n",
    "            } else {\n",
    "              tbl1 <- cbind(1,rn[q],\"Missing (%)\",n=f, \" -- \")\n",
    "              tbl2 <- cbind(1,rn[q],\"Missing (%)\",n=f, NA, NA, NA)\n",
    "            }\n",
    "            tableaaaa <- rbind(tableaaaa,tbl1)\n",
    "            tablebbbb <- rbind(tablebbbb,tbl2)\n",
    "          }\n",
    "        }\n",
    "      } else {\n",
    "        if (messages==T) {\n",
    "          msg <- c(msg, paste(\"The variable\",v,\"doesn't exists in the dataset... avoiding\"))\n",
    "        }\n",
    "      }\n",
    "      q <- q + 1\n",
    "      utils::setTxtProgressBar(pb,ii)\n",
    "      ii <- ii + 1\n",
    "    }\n",
    "    if(formatted==TRUE) {\n",
    "      return(tableaaaa)\n",
    "    } else {\n",
    "      return(tablebbbb)\n",
    "    }\n",
    "    close(pb)\n",
    "  }\n",
    "\n",
    "  pvals <- function(x=x,y=y,rn=rn,data=data,categorize=categorize,maxcat=maxcat) {\n",
    "    ptab <- NULL\n",
    "    if (is.null(y)==FALSE) {\n",
    "      if (y %in% names(data)) {\n",
    "        if (is.null(x)==TRUE) { x <- names(data)}\n",
    "        if (is.null(rn)==TRUE | length(rn)<2) {rn <- x}\n",
    "        q <- 1\n",
    "        ptab <- cbind(V=\"Variables\",pval=\"pval\", n=\"n\")\n",
    "        for (v in x) {\n",
    "          if (v %in% names(data)) {\n",
    "            ct <- ifelse(is.numeric(data[[v]])==T & categorize==T & length(unique(data[[v]])) <= maxcat,1,0)\n",
    "            if (is.numeric(data[[y]])==T & categorize==T & length(unique(data[[y]])) <= maxcat) {\n",
    "              data[[y]] <- as.factor(data[[y]])\n",
    "            } else if (is.numeric(data[[y]])==T) {\n",
    "              if (messages==T) {\n",
    "                msg <- c(msg, paste(\"The variable\",y,\"is not a factor. Please convert to factor or change the 'categorize' flag to TRUE.\"))\n",
    "              }\n",
    "              pval <- \"Please rerun!!!\"\n",
    "            }\n",
    "            if (is.numeric(data[[v]])==TRUE & length(unique(data[[v]])) > 1 & ct == 0) {\n",
    "              ### first check for homoscedasticity\n",
    "              tryCatch({\n",
    "                if (stats::bartlett.test(data[[v]], data[[y]])[3] >= 0.05) {\n",
    "                  pval <- round(as.numeric(car::Anova(stats::lm(data[[v]] ~ data[[y]]))[1, 4]), 3)\n",
    "                } else {\n",
    "                  pval <- round(as.numeric(car::Anova(stats::lm(data[[v]] ~ data[[y]]), white.adjust = TRUE)[1, 3]), 3)\n",
    "                }\n",
    "              }, error = function(e) {\n",
    "                pval <- \"---\"\n",
    "              })\n",
    "            } else if (length(unique(data[[v]]))==1) {\n",
    "              pval <- NA\n",
    "            } else {\n",
    "              if (min(table(data[[v]],data[[y]])) > 5) {\n",
    "                pval <- round(as.numeric(stats::chisq.test(data[[v]],data[[y]])$p.val),3)\n",
    "              } else {\n",
    "                if(min(table(data[[v]],data[[y]]))==0) {\n",
    "                  #in cases where there are cells with zero, we use Fisher's exact test\n",
    "                  tryCatch(\n",
    "                    pval <- round(as.numeric(stats::fisher.test(data[[v]],data[[y]], workspace=1e9)$p.val),3),\n",
    "                    error = function(e) {msg <- c(msg,paste0(\"Unable to calcualte the Fisher test for variables \",v,\" and \",y))})\n",
    "                } else {\n",
    "                  pval <- round(as.numeric(stats::kruskal.test(data[[v]],data[[y]], workspace=1e9)$p.val),3)\n",
    "                }\n",
    "              }\n",
    "            }\n",
    "            ptab <- rbind(ptab,cbind(V=rn[q],pval=pval,n=2))\n",
    "          }\n",
    "          q <- q + 1\n",
    "        }\n",
    "      }\n",
    "    }\n",
    "    return(ptab)\n",
    "  }\n",
    "  ####################### Begin analysis\n",
    "  ##### if y is null then make a simple table\n",
    "  tabaaa1 <- getSimpleTable(x=x, rn=rn, data=data, miss=miss, catmiss=catmiss,formatted=formatted,categorize=categorize,maxcat=maxcat, delzero=delzero)\n",
    "  tabaaa1 <- tibble::as.tibble(tabaaa1)\n",
    "  ############################  CHANGE TO 5 !!!!!!!!!!!!!!\n",
    "  if(length(tabaaa1) > 5) {\n",
    "    names(tabaaa1) <- c(\"Del\",\"V1\",\"V2\",\"n\",\"Pop\",\"pop2\",\"pop3\")\n",
    "  } else {\n",
    "    names(tabaaa1) <- c(\"Del\",\"V1\",\"V2\",\"n\",\"Pop\")\n",
    "  }\n",
    "  ##### if y has two levels, then make a compound comparison\n",
    "  if (is.null(y)==FALSE){\n",
    "    if (y %in% names(data)) {\n",
    "      if (is.factor(data[[y]])==F) {\n",
    "        if (length(levels(factor(data[[y]]))) > 8) {\n",
    "          if (messages==T) {\n",
    "            print(\"The dependent variable has more than 8 levels, table too large!\")\n",
    "          }\n",
    "        } else if(min(table(data[[y]]))==0) {\n",
    "          print(\"The dependent variable has one or more levels with no individuals assigned!\")\n",
    "        } else {\n",
    "          data[[y]] <- factor(data[[y]])\n",
    "        }\n",
    "      }\n",
    "      if (length(levels(data[[y]])) >= 2) {\n",
    "        for (lv in levels(data[[y]])) {\n",
    "          dtsub <- subset(data, data[[y]]==lv)\n",
    "          tab <- getSimpleTable(x=x, rn=rn, data=dtsub, miss=miss, catmiss=catmiss, formatted=formatted,categorize=categorize,maxcat=maxcat, delzero=delzero)\n",
    "          tab <- data.frame(tab)\n",
    "          ############################  CHANGE TO 5 !!!!!!!!!!!!!!\n",
    "          if(length(tab) > 5) {\n",
    "            names(tab) <- c(\"Del\",\"V1\",\"V2\",\"n\",paste0(lv,\"_1\"),paste0(lv,\"_2\"),paste0(lv,\"_3\"))\n",
    "          } else {\n",
    "            names(tab) <- c(\"Del\",\"V1\",\"V2\",\"n\",lv)\n",
    "          }\n",
    "          ############################  CHANGE TO 5 !!!!!!!!!!!!!!\n",
    "          tab[1,5] <- lv\n",
    "          tabaaa1 <- suppressMessages(dplyr::left_join(tabaaa1, tab))\n",
    "        }\n",
    "        # what to do with dichotomous variables? We remove the \"Zero\" label...\n",
    "        # clean unnecesary rows\n",
    "        if (delzero == TRUE) {\n",
    "          tabaaa1 <- tabaaa1 %>%\n",
    "            dplyr::filter(Del==0)\n",
    "        }\n",
    "        ### calculate the p-value\n",
    "        ptab <- data.frame(pvals(x=x,y=y,rn=rn,data=data,categorize=categorize,maxcat=maxcat))\n",
    "        names(ptab) <- c(\"V1\",\"pval\",\"n\")\n",
    "        tabaaa1 <- suppressMessages(dplyr::left_join(tabaaa1, ptab))\n",
    "\n",
    "        tabaaa1 <- tabaaa1 %>% dplyr::filter(Pop != \" -- \") #%>%\n",
    "      }\n",
    "    }\n",
    "  }\n",
    "  tabaaa1 <- tabaaa1 %>% dplyr::select(-n) %>% dplyr::select(-Del)\n",
    "  ##### Join the tables...\n",
    "  Sys.setenv(JAVA_HOME=\"\")\n",
    "  if (excel==1) {\n",
    "    wb <- xlsx::createWorkbook()\n",
    "    sheet1 <- xlsx::createSheet(wb, sheetName=\"Table 1\")\n",
    "    xlsx::addDataFrame(tabaaa1,sheet1)\n",
    "    #### save and close the workbook\n",
    "    xlsx::saveWorkbook(wb, excel_file)\n",
    "    return(tabaaa1)\n",
    "  } else {\n",
    "    return(tabaaa1)\n",
    "  }\n",
    "}\n",
    "\n",
    "########################## END Table1 ###############\n",
    "\n",
    "############################################################################\n",
    "#####   TEST & TRAIN DATASET GENERATION                                 ####\n",
    "#####   Author: Tomas Karpati M.D.                                      ####\n",
    "#####   Creation date: 2016-08-17                                       ####\n",
    "############################################################################\n",
    "\n",
    "train_test <- function(data=NULL,train_name=NULL,test_name=NULL,prop=NULL,seed=123,tableone=FALSE)\n",
    "{\n",
    "  pval <- NULL\n",
    "  checkTrainTest <- function(train=NULL,test=NULL) {\n",
    "    train[[\"traintest_ind_\"]] <- 1\n",
    "    test[[\"traintest_ind_\"]] <- 2\n",
    "    df <- rbind(train, test)\n",
    "    tab <- Table1(data=df, y=\"traintest_ind_\",messages = F)\n",
    "    vars <- subset(tab, pval < 0.05)$V1\n",
    "    vars <- setdiff(vars,\"traintest_ind_\")\n",
    "    if (length(vars)==0) {\n",
    "      message(\"You got a perfectly balanced training and test datasets\")\n",
    "      message(\" \")\n",
    "    } else {\n",
    "      message(\"WARNING: The following variables are not balanced between the training and test datasets:\")\n",
    "      for (v in vars) { message(paste(\"*\",v)) }\n",
    "      message(\"You can try to change the seed value until you get a balanced partition.\")\n",
    "      message(\"Alternatively, you can ommit this warning and exclude those variables from your model\")\n",
    "      message(\" \")\n",
    "    }\n",
    "    return(tab)\n",
    "  }\n",
    "  nm <- 1\n",
    "  ttenv = as.environment(nm)\n",
    "  ## set the seed to make your partition reproductible\n",
    "  set.seed(seed)\n",
    "  smp_size <- floor(prop * nrow(data))\n",
    "  train_ind <- sample(seq_len(nrow(data)), size = smp_size)\n",
    "  assign(train_name, data[train_ind, ], envir=ttenv)\n",
    "  assign(test_name, data[-train_ind, ], envir=ttenv)\n",
    "  message(paste(\"Dataset partitioned into:\"))\n",
    "  message(paste(\" + Train dataset:\", train_name))\n",
    "  message(paste(\" + Test dataset:\", test_name))\n",
    "  if(tableone==TRUE) {\n",
    "    tab = checkTrainTest(get(train_name),get(test_name))\n",
    "    return(tab)\n",
    "  }\n",
    "}\n",
    "\n",
    "\n"
   ]
  },
  {
   "cell_type": "code",
   "execution_count": 5,
   "metadata": {},
   "outputs": [
    {
     "name": "stdout",
     "output_type": "stream",
     "text": [
      "[1] \"revenue\"\n"
     ]
    },
    {
     "name": "stderr",
     "output_type": "stream",
     "text": [
      "Warning message in x[floor(d)] + x[ceiling(d)]:\n",
      "\"NAs produced by integer overflow\"\n",
      "Warning message in x[floor(d)] + x[ceiling(d)]:\n",
      "\"NAs produced by integer overflow\"\n",
      "Warning message:\n",
      "\"Removed 4382 rows containing non-finite values (stat_smooth).\"\n"
     ]
    },
    {
     "name": "stdout",
     "output_type": "stream",
     "text": [
      "[1] \"popularity\"\n"
     ]
    },
    {
     "name": "stderr",
     "output_type": "stream",
     "text": [
      "Warning message:\n",
      "\"Removed 4382 rows containing non-finite values (stat_smooth).\"\n"
     ]
    },
    {
     "name": "stdout",
     "output_type": "stream",
     "text": [
      "[1] \"runtime\"\n"
     ]
    },
    {
     "name": "stderr",
     "output_type": "stream",
     "text": [
      "Warning message:\n",
      "\"Removed 4384 rows containing non-finite values (stat_smooth).\"\n"
     ]
    },
    {
     "name": "stdout",
     "output_type": "stream",
     "text": [
      "[1] \"budget\"\n"
     ]
    },
    {
     "name": "stderr",
     "output_type": "stream",
     "text": [
      "Warning message:\n",
      "\"Removed 4382 rows containing non-finite values (stat_smooth).\"\n"
     ]
    },
    {
     "name": "stdout",
     "output_type": "stream",
     "text": [
      "[1] \"seasonality\"\n"
     ]
    },
    {
     "name": "stderr",
     "output_type": "stream",
     "text": [
      "Warning message:\n",
      "\"Removed 4382 rows containing non-finite values (stat_smooth).\"\n"
     ]
    },
    {
     "name": "stdout",
     "output_type": "stream",
     "text": [
      "[1] \"actor0_prev_revenue\"\n"
     ]
    },
    {
     "name": "stderr",
     "output_type": "stream",
     "text": [
      "Warning message in x[floor(d)] + x[ceiling(d)]:\n",
      "\"NAs produced by integer overflow\"\n",
      "Warning message in x[floor(d)] + x[ceiling(d)]:\n",
      "\"NAs produced by integer overflow\"\n",
      "Warning message:\n",
      "\"Removed 5310 rows containing non-finite values (stat_smooth).\"\n"
     ]
    },
    {
     "name": "stdout",
     "output_type": "stream",
     "text": [
      "[1] \"actor1_prev_revenue\"\n"
     ]
    },
    {
     "name": "stderr",
     "output_type": "stream",
     "text": [
      "Warning message in x[floor(d)] + x[ceiling(d)]:\n",
      "\"NAs produced by integer overflow\"\n",
      "Warning message in x[floor(d)] + x[ceiling(d)]:\n",
      "\"NAs produced by integer overflow\"\n",
      "Warning message:\n",
      "\"Removed 5534 rows containing non-finite values (stat_smooth).\"\n"
     ]
    },
    {
     "name": "stdout",
     "output_type": "stream",
     "text": [
      "[1] \"actor2_prev_revenue\"\n"
     ]
    },
    {
     "name": "stderr",
     "output_type": "stream",
     "text": [
      "Warning message in x[floor(d)] + x[ceiling(d)]:\n",
      "\"NAs produced by integer overflow\"\n",
      "Warning message in x[floor(d)] + x[ceiling(d)]:\n",
      "\"NAs produced by integer overflow\"\n",
      "Warning message:\n",
      "\"Removed 5621 rows containing non-finite values (stat_smooth).\"\n"
     ]
    },
    {
     "name": "stdout",
     "output_type": "stream",
     "text": [
      "[1] \"original_language\"\n"
     ]
    },
    {
     "name": "stderr",
     "output_type": "stream",
     "text": [
      "Warning message:\n",
      "\"Removed 4382 rows containing non-finite values (stat_smooth).\"\n"
     ]
    },
    {
     "name": "stdout",
     "output_type": "stream",
     "text": [
      "[1] \"runtime_cat\"\n"
     ]
    },
    {
     "name": "stderr",
     "output_type": "stream",
     "text": [
      "Warning message:\n",
      "\"Removed 4382 rows containing non-finite values (stat_smooth).\"\n"
     ]
    },
    {
     "name": "stdout",
     "output_type": "stream",
     "text": [
      "[1] \"sw_lang_en\"\n"
     ]
    },
    {
     "name": "stderr",
     "output_type": "stream",
     "text": [
      "Warning message:\n",
      "\"Removed 4382 rows containing non-finite values (stat_smooth).\"\n"
     ]
    },
    {
     "name": "stdout",
     "output_type": "stream",
     "text": [
      "[1] \"sw_web_presence\"\n"
     ]
    },
    {
     "name": "stderr",
     "output_type": "stream",
     "text": [
      "Warning message:\n",
      "\"Removed 4382 rows containing non-finite values (stat_smooth).\"\n"
     ]
    },
    {
     "name": "stdout",
     "output_type": "stream",
     "text": [
      "[1] \"sw_has_poster\"\n"
     ]
    },
    {
     "name": "stderr",
     "output_type": "stream",
     "text": [
      "Warning message:\n",
      "\"Removed 4382 rows containing non-finite values (stat_smooth).\"\n"
     ]
    },
    {
     "name": "stdout",
     "output_type": "stream",
     "text": [
      "[1] \"sw_tagline\"\n"
     ]
    },
    {
     "name": "stderr",
     "output_type": "stream",
     "text": [
      "Warning message:\n",
      "\"Removed 4382 rows containing non-finite values (stat_smooth).\"\n"
     ]
    },
    {
     "name": "stdout",
     "output_type": "stream",
     "text": [
      "[1] \"high_release_month\"\n"
     ]
    },
    {
     "name": "stderr",
     "output_type": "stream",
     "text": [
      "Warning message:\n",
      "\"Removed 4382 rows containing non-finite values (stat_smooth).\"\n"
     ]
    },
    {
     "name": "stdout",
     "output_type": "stream",
     "text": [
      "[1] \"lang_US\"\n"
     ]
    },
    {
     "name": "stderr",
     "output_type": "stream",
     "text": [
      "Warning message:\n",
      "\"Removed 4382 rows containing non-finite values (stat_smooth).\"\n"
     ]
    },
    {
     "name": "stdout",
     "output_type": "stream",
     "text": [
      "[1] \"lang_FR\"\n"
     ]
    },
    {
     "name": "stderr",
     "output_type": "stream",
     "text": [
      "Warning message:\n",
      "\"Removed 4382 rows containing non-finite values (stat_smooth).\"\n"
     ]
    },
    {
     "name": "stdout",
     "output_type": "stream",
     "text": [
      "[1] \"lang_RU\"\n"
     ]
    },
    {
     "name": "stderr",
     "output_type": "stream",
     "text": [
      "Warning message:\n",
      "\"Removed 4382 rows containing non-finite values (stat_smooth).\"\n"
     ]
    },
    {
     "name": "stdout",
     "output_type": "stream",
     "text": [
      "[1] \"lang_ES\"\n"
     ]
    },
    {
     "name": "stderr",
     "output_type": "stream",
     "text": [
      "Warning message:\n",
      "\"Removed 4382 rows containing non-finite values (stat_smooth).\"\n"
     ]
    },
    {
     "name": "stdout",
     "output_type": "stream",
     "text": [
      "[1] \"lang_JA\"\n"
     ]
    },
    {
     "name": "stderr",
     "output_type": "stream",
     "text": [
      "Warning message:\n",
      "\"Removed 4382 rows containing non-finite values (stat_smooth).\"\n"
     ]
    },
    {
     "name": "stdout",
     "output_type": "stream",
     "text": [
      "[1] \"sw_female_actor0\"\n"
     ]
    },
    {
     "name": "stderr",
     "output_type": "stream",
     "text": [
      "Warning message:\n",
      "\"Removed 4382 rows containing non-finite values (stat_smooth).\"\n"
     ]
    },
    {
     "name": "stdout",
     "output_type": "stream",
     "text": [
      "[1] \"sw_female_actor1\"\n"
     ]
    },
    {
     "name": "stderr",
     "output_type": "stream",
     "text": [
      "Warning message:\n",
      "\"Removed 4382 rows containing non-finite values (stat_smooth).\"\n"
     ]
    },
    {
     "name": "stdout",
     "output_type": "stream",
     "text": [
      "[1] \"sw_female_actor2\"\n"
     ]
    },
    {
     "name": "stderr",
     "output_type": "stream",
     "text": [
      "Warning message:\n",
      "\"Removed 4382 rows containing non-finite values (stat_smooth).\"\n"
     ]
    },
    {
     "name": "stdout",
     "output_type": "stream",
     "text": [
      "[1] \"sw_male_actor0\"\n"
     ]
    },
    {
     "name": "stderr",
     "output_type": "stream",
     "text": [
      "Warning message:\n",
      "\"Removed 4382 rows containing non-finite values (stat_smooth).\"\n"
     ]
    },
    {
     "name": "stdout",
     "output_type": "stream",
     "text": [
      "[1] \"sw_male_actor1\"\n"
     ]
    },
    {
     "name": "stderr",
     "output_type": "stream",
     "text": [
      "Warning message:\n",
      "\"Removed 4382 rows containing non-finite values (stat_smooth).\"\n"
     ]
    },
    {
     "name": "stdout",
     "output_type": "stream",
     "text": [
      "[1] \"sw_male_actor2\"\n"
     ]
    },
    {
     "name": "stderr",
     "output_type": "stream",
     "text": [
      "Warning message:\n",
      "\"Removed 4382 rows containing non-finite values (stat_smooth).\"\n"
     ]
    },
    {
     "name": "stdout",
     "output_type": "stream",
     "text": [
      "[1] \"genre_adventure\"\n"
     ]
    },
    {
     "name": "stderr",
     "output_type": "stream",
     "text": [
      "Warning message:\n",
      "\"Removed 4382 rows containing non-finite values (stat_smooth).\"\n"
     ]
    },
    {
     "name": "stdout",
     "output_type": "stream",
     "text": [
      "[1] \"genre_fantasy\"\n"
     ]
    },
    {
     "name": "stderr",
     "output_type": "stream",
     "text": [
      "Warning message:\n",
      "\"Removed 4382 rows containing non-finite values (stat_smooth).\"\n"
     ]
    },
    {
     "name": "stdout",
     "output_type": "stream",
     "text": [
      "[1] \"genre_animation\"\n"
     ]
    },
    {
     "name": "stderr",
     "output_type": "stream",
     "text": [
      "Warning message:\n",
      "\"Removed 4382 rows containing non-finite values (stat_smooth).\"\n"
     ]
    },
    {
     "name": "stdout",
     "output_type": "stream",
     "text": [
      "[1] \"genre_drama\"\n"
     ]
    },
    {
     "name": "stderr",
     "output_type": "stream",
     "text": [
      "Warning message:\n",
      "\"Removed 4382 rows containing non-finite values (stat_smooth).\"\n"
     ]
    },
    {
     "name": "stdout",
     "output_type": "stream",
     "text": [
      "[1] \"genre_horror\"\n"
     ]
    },
    {
     "name": "stderr",
     "output_type": "stream",
     "text": [
      "Warning message:\n",
      "\"Removed 4382 rows containing non-finite values (stat_smooth).\"\n"
     ]
    },
    {
     "name": "stdout",
     "output_type": "stream",
     "text": [
      "[1] \"genre_action\"\n"
     ]
    },
    {
     "name": "stderr",
     "output_type": "stream",
     "text": [
      "Warning message:\n",
      "\"Removed 4382 rows containing non-finite values (stat_smooth).\"\n"
     ]
    },
    {
     "name": "stdout",
     "output_type": "stream",
     "text": [
      "[1] \"genre_comedy\"\n"
     ]
    },
    {
     "name": "stderr",
     "output_type": "stream",
     "text": [
      "Warning message:\n",
      "\"Removed 4382 rows containing non-finite values (stat_smooth).\"\n"
     ]
    },
    {
     "name": "stdout",
     "output_type": "stream",
     "text": [
      "[1] \"genre_history\"\n"
     ]
    },
    {
     "name": "stderr",
     "output_type": "stream",
     "text": [
      "Warning message:\n",
      "\"Removed 4382 rows containing non-finite values (stat_smooth).\"\n"
     ]
    },
    {
     "name": "stdout",
     "output_type": "stream",
     "text": [
      "[1] \"genre_western\"\n"
     ]
    },
    {
     "name": "stderr",
     "output_type": "stream",
     "text": [
      "Warning message:\n",
      "\"Removed 4382 rows containing non-finite values (stat_smooth).\"\n"
     ]
    },
    {
     "name": "stdout",
     "output_type": "stream",
     "text": [
      "[1] \"genre_thriller\"\n"
     ]
    },
    {
     "name": "stderr",
     "output_type": "stream",
     "text": [
      "Warning message:\n",
      "\"Removed 4382 rows containing non-finite values (stat_smooth).\"\n"
     ]
    },
    {
     "name": "stdout",
     "output_type": "stream",
     "text": [
      "[1] \"genre_crime\"\n"
     ]
    },
    {
     "name": "stderr",
     "output_type": "stream",
     "text": [
      "Warning message:\n",
      "\"Removed 4382 rows containing non-finite values (stat_smooth).\"\n"
     ]
    },
    {
     "name": "stdout",
     "output_type": "stream",
     "text": [
      "[1] \"genre_documentary\"\n"
     ]
    },
    {
     "name": "stderr",
     "output_type": "stream",
     "text": [
      "Warning message:\n",
      "\"Removed 4382 rows containing non-finite values (stat_smooth).\"\n"
     ]
    },
    {
     "name": "stdout",
     "output_type": "stream",
     "text": [
      "[1] \"genre_science_fiction\"\n"
     ]
    },
    {
     "name": "stderr",
     "output_type": "stream",
     "text": [
      "Warning message:\n",
      "\"Removed 4382 rows containing non-finite values (stat_smooth).\"\n"
     ]
    },
    {
     "name": "stdout",
     "output_type": "stream",
     "text": [
      "[1] \"genre_mystery\"\n"
     ]
    },
    {
     "name": "stderr",
     "output_type": "stream",
     "text": [
      "Warning message:\n",
      "\"Removed 4382 rows containing non-finite values (stat_smooth).\"\n"
     ]
    },
    {
     "name": "stdout",
     "output_type": "stream",
     "text": [
      "[1] \"genre_music\"\n"
     ]
    },
    {
     "name": "stderr",
     "output_type": "stream",
     "text": [
      "Warning message:\n",
      "\"Removed 4382 rows containing non-finite values (stat_smooth).\"\n"
     ]
    },
    {
     "name": "stdout",
     "output_type": "stream",
     "text": [
      "[1] \"genre_romance\"\n"
     ]
    },
    {
     "name": "stderr",
     "output_type": "stream",
     "text": [
      "Warning message:\n",
      "\"Removed 4382 rows containing non-finite values (stat_smooth).\"\n"
     ]
    },
    {
     "name": "stdout",
     "output_type": "stream",
     "text": [
      "[1] \"genre_family\"\n"
     ]
    },
    {
     "name": "stderr",
     "output_type": "stream",
     "text": [
      "Warning message:\n",
      "\"Removed 4382 rows containing non-finite values (stat_smooth).\"\n"
     ]
    },
    {
     "name": "stdout",
     "output_type": "stream",
     "text": [
      "[1] \"genre_war\"\n"
     ]
    },
    {
     "name": "stderr",
     "output_type": "stream",
     "text": [
      "Warning message:\n",
      "\"Removed 4382 rows containing non-finite values (stat_smooth).\"\n"
     ]
    },
    {
     "name": "stdout",
     "output_type": "stream",
     "text": [
      "[1] \"genre_foreign\"\n"
     ]
    },
    {
     "name": "stderr",
     "output_type": "stream",
     "text": [
      "Warning message:\n",
      "\"Removed 4382 rows containing non-finite values (stat_smooth).\"\n"
     ]
    },
    {
     "name": "stdout",
     "output_type": "stream",
     "text": [
      "[1] \"keyword_cnt\"\n"
     ]
    },
    {
     "name": "stderr",
     "output_type": "stream",
     "text": [
      "Warning message:\n",
      "\"Removed 4382 rows containing non-finite values (stat_smooth).\"\n"
     ]
    },
    {
     "name": "stdout",
     "output_type": "stream",
     "text": [
      "[1] \"sw_collection\"\n"
     ]
    },
    {
     "name": "stderr",
     "output_type": "stream",
     "text": [
      "Warning message:\n",
      "\"Removed 4382 rows containing non-finite values (stat_smooth).\"\n"
     ]
    },
    {
     "name": "stdout",
     "output_type": "stream",
     "text": [
      "[1] \"producers_cnt\"\n"
     ]
    },
    {
     "name": "stderr",
     "output_type": "stream",
     "text": [
      "Warning message:\n",
      "\"Removed 4531 rows containing non-finite values (stat_smooth).\"\n"
     ]
    },
    {
     "name": "stdout",
     "output_type": "stream",
     "text": [
      "[1] \"countries_cnt\"\n"
     ]
    },
    {
     "name": "stderr",
     "output_type": "stream",
     "text": [
      "Warning message:\n",
      "\"Removed 4382 rows containing non-finite values (stat_smooth).\"\n",
      "Warning message in simpleLoess(y, x, w, span, degree = degree, parametric = parametric, :\n",
      "\"pseudoinverse used at -0.04\"\n",
      "Warning message in simpleLoess(y, x, w, span, degree = degree, parametric = parametric, :\n",
      "\"neighborhood radius 1.04\"\n",
      "Warning message in simpleLoess(y, x, w, span, degree = degree, parametric = parametric, :\n",
      "\"reciprocal condition number  0\"\n",
      "Warning message in simpleLoess(y, x, w, span, degree = degree, parametric = parametric, :\n",
      "\"There are other near singularities as well. 1\"\n",
      "Warning message in predLoess(object$y, object$x, newx = if (is.null(newdata)) object$x else if (is.data.frame(newdata)) as.matrix(model.frame(delete.response(terms(object)), :\n",
      "\"pseudoinverse used at -0.04\"\n",
      "Warning message in predLoess(object$y, object$x, newx = if (is.null(newdata)) object$x else if (is.data.frame(newdata)) as.matrix(model.frame(delete.response(terms(object)), :\n",
      "\"neighborhood radius 1.04\"\n",
      "Warning message in predLoess(object$y, object$x, newx = if (is.null(newdata)) object$x else if (is.data.frame(newdata)) as.matrix(model.frame(delete.response(terms(object)), :\n",
      "\"reciprocal condition number  0\"\n",
      "Warning message in predLoess(object$y, object$x, newx = if (is.null(newdata)) object$x else if (is.data.frame(newdata)) as.matrix(model.frame(delete.response(terms(object)), :\n",
      "\"There are other near singularities as well. 1\"\n"
     ]
    },
    {
     "name": "stdout",
     "output_type": "stream",
     "text": [
      "[1] \"actor0_movies_cnt\"\n"
     ]
    },
    {
     "name": "stderr",
     "output_type": "stream",
     "text": [
      "Warning message:\n",
      "\"Removed 4382 rows containing non-finite values (stat_smooth).\"\n"
     ]
    },
    {
     "name": "stdout",
     "output_type": "stream",
     "text": [
      "[1] \"actor0_movies_5y_cnt\"\n"
     ]
    },
    {
     "name": "stderr",
     "output_type": "stream",
     "text": [
      "Warning message:\n",
      "\"Removed 4382 rows containing non-finite values (stat_smooth).\"\n"
     ]
    },
    {
     "name": "stdout",
     "output_type": "stream",
     "text": [
      "[1] \"actor1_movies_cnt\"\n"
     ]
    },
    {
     "name": "stderr",
     "output_type": "stream",
     "text": [
      "Warning message:\n",
      "\"Removed 4382 rows containing non-finite values (stat_smooth).\"\n"
     ]
    },
    {
     "name": "stdout",
     "output_type": "stream",
     "text": [
      "[1] \"actor1_movies_5y_cnt\"\n"
     ]
    },
    {
     "name": "stderr",
     "output_type": "stream",
     "text": [
      "Warning message:\n",
      "\"Removed 4382 rows containing non-finite values (stat_smooth).\"\n"
     ]
    },
    {
     "name": "stdout",
     "output_type": "stream",
     "text": [
      "[1] \"actor2_movies_cnt\"\n"
     ]
    },
    {
     "name": "stderr",
     "output_type": "stream",
     "text": [
      "Warning message:\n",
      "\"Removed 4382 rows containing non-finite values (stat_smooth).\"\n"
     ]
    },
    {
     "name": "stdout",
     "output_type": "stream",
     "text": [
      "[1] \"actor2_movies_5y_cnt\"\n"
     ]
    },
    {
     "name": "stderr",
     "output_type": "stream",
     "text": [
      "Warning message:\n",
      "\"Removed 4382 rows containing non-finite values (stat_smooth).\"\n"
     ]
    },
    {
     "name": "stdout",
     "output_type": "stream",
     "text": [
      "[1] \"director_movies_cnt\"\n"
     ]
    },
    {
     "name": "stderr",
     "output_type": "stream",
     "text": [
      "Warning message:\n",
      "\"Removed 4382 rows containing non-finite values (stat_smooth).\"\n"
     ]
    },
    {
     "name": "stdout",
     "output_type": "stream",
     "text": [
      "[1] \"director_movies_5y_cnt\"\n"
     ]
    },
    {
     "name": "stderr",
     "output_type": "stream",
     "text": [
      "Warning message:\n",
      "\"Removed 4382 rows containing non-finite values (stat_smooth).\"\n"
     ]
    },
    {
     "name": "stdout",
     "output_type": "stream",
     "text": [
      "[1] \"depart_Art\"\n"
     ]
    },
    {
     "name": "stderr",
     "output_type": "stream",
     "text": [
      "Warning message:\n",
      "\"Removed 4397 rows containing non-finite values (stat_smooth).\"\n"
     ]
    },
    {
     "name": "stdout",
     "output_type": "stream",
     "text": [
      "[1] \"depart_Camera\"\n"
     ]
    },
    {
     "name": "stderr",
     "output_type": "stream",
     "text": [
      "Warning message:\n",
      "\"Removed 4397 rows containing non-finite values (stat_smooth).\"\n",
      "Warning message in simpleLoess(y, x, w, span, degree = degree, parametric = parametric, :\n",
      "\"pseudoinverse used at -0.115\"\n",
      "Warning message in simpleLoess(y, x, w, span, degree = degree, parametric = parametric, :\n",
      "\"neighborhood radius 2.115\"\n",
      "Warning message in simpleLoess(y, x, w, span, degree = degree, parametric = parametric, :\n",
      "\"reciprocal condition number  1.2111e-014\"\n",
      "Warning message in simpleLoess(y, x, w, span, degree = degree, parametric = parametric, :\n",
      "\"There are other near singularities as well. 1\"\n",
      "Warning message in predLoess(object$y, object$x, newx = if (is.null(newdata)) object$x else if (is.data.frame(newdata)) as.matrix(model.frame(delete.response(terms(object)), :\n",
      "\"pseudoinverse used at -0.115\"\n",
      "Warning message in predLoess(object$y, object$x, newx = if (is.null(newdata)) object$x else if (is.data.frame(newdata)) as.matrix(model.frame(delete.response(terms(object)), :\n",
      "\"neighborhood radius 2.115\"\n",
      "Warning message in predLoess(object$y, object$x, newx = if (is.null(newdata)) object$x else if (is.data.frame(newdata)) as.matrix(model.frame(delete.response(terms(object)), :\n",
      "\"reciprocal condition number  1.2111e-014\"\n",
      "Warning message in predLoess(object$y, object$x, newx = if (is.null(newdata)) object$x else if (is.data.frame(newdata)) as.matrix(model.frame(delete.response(terms(object)), :\n",
      "\"There are other near singularities as well. 1\"\n"
     ]
    },
    {
     "name": "stdout",
     "output_type": "stream",
     "text": [
      "[1] \"depart_Crew\"\n"
     ]
    },
    {
     "name": "stderr",
     "output_type": "stream",
     "text": [
      "Warning message:\n",
      "\"Removed 4397 rows containing non-finite values (stat_smooth).\"\n",
      "Warning message in simpleLoess(y, x, w, span, degree = degree, parametric = parametric, :\n",
      "\"pseudoinverse used at -0.595\"\n",
      "Warning message in simpleLoess(y, x, w, span, degree = degree, parametric = parametric, :\n",
      "\"neighborhood radius 2.595\"\n",
      "Warning message in simpleLoess(y, x, w, span, degree = degree, parametric = parametric, :\n",
      "\"reciprocal condition number  8.8213e-015\"\n",
      "Warning message in simpleLoess(y, x, w, span, degree = degree, parametric = parametric, :\n",
      "\"There are other near singularities as well. 4\"\n",
      "Warning message in predLoess(object$y, object$x, newx = if (is.null(newdata)) object$x else if (is.data.frame(newdata)) as.matrix(model.frame(delete.response(terms(object)), :\n",
      "\"pseudoinverse used at -0.595\"\n",
      "Warning message in predLoess(object$y, object$x, newx = if (is.null(newdata)) object$x else if (is.data.frame(newdata)) as.matrix(model.frame(delete.response(terms(object)), :\n",
      "\"neighborhood radius 2.595\"\n",
      "Warning message in predLoess(object$y, object$x, newx = if (is.null(newdata)) object$x else if (is.data.frame(newdata)) as.matrix(model.frame(delete.response(terms(object)), :\n",
      "\"reciprocal condition number  8.8213e-015\"\n",
      "Warning message in predLoess(object$y, object$x, newx = if (is.null(newdata)) object$x else if (is.data.frame(newdata)) as.matrix(model.frame(delete.response(terms(object)), :\n",
      "\"There are other near singularities as well. 4\"\n"
     ]
    },
    {
     "name": "stdout",
     "output_type": "stream",
     "text": [
      "[1] \"depart_Custom_Mkup\"\n"
     ]
    },
    {
     "name": "stderr",
     "output_type": "stream",
     "text": [
      "Warning message:\n",
      "\"Removed 4397 rows containing non-finite values (stat_smooth).\"\n",
      "Warning message in simpleLoess(y, x, w, span, degree = degree, parametric = parametric, :\n",
      "\"pseudoinverse used at -0.165\"\n",
      "Warning message in simpleLoess(y, x, w, span, degree = degree, parametric = parametric, :\n",
      "\"neighborhood radius 2.165\"\n",
      "Warning message in simpleLoess(y, x, w, span, degree = degree, parametric = parametric, :\n",
      "\"reciprocal condition number  9.8819e-015\"\n",
      "Warning message in simpleLoess(y, x, w, span, degree = degree, parametric = parametric, :\n",
      "\"There are other near singularities as well. 4\"\n",
      "Warning message in predLoess(object$y, object$x, newx = if (is.null(newdata)) object$x else if (is.data.frame(newdata)) as.matrix(model.frame(delete.response(terms(object)), :\n",
      "\"pseudoinverse used at -0.165\"\n",
      "Warning message in predLoess(object$y, object$x, newx = if (is.null(newdata)) object$x else if (is.data.frame(newdata)) as.matrix(model.frame(delete.response(terms(object)), :\n",
      "\"neighborhood radius 2.165\"\n",
      "Warning message in predLoess(object$y, object$x, newx = if (is.null(newdata)) object$x else if (is.data.frame(newdata)) as.matrix(model.frame(delete.response(terms(object)), :\n",
      "\"reciprocal condition number  9.8819e-015\"\n",
      "Warning message in predLoess(object$y, object$x, newx = if (is.null(newdata)) object$x else if (is.data.frame(newdata)) as.matrix(model.frame(delete.response(terms(object)), :\n",
      "\"There are other near singularities as well. 4\"\n"
     ]
    },
    {
     "name": "stdout",
     "output_type": "stream",
     "text": [
      "[1] \"depart_Directing\"\n"
     ]
    },
    {
     "name": "stderr",
     "output_type": "stream",
     "text": [
      "Warning message:\n",
      "\"Removed 4397 rows containing non-finite values (stat_smooth).\"\n",
      "Warning message in simpleLoess(y, x, w, span, degree = degree, parametric = parametric, :\n",
      "\"pseudoinverse used at 0.855\"\n",
      "Warning message in simpleLoess(y, x, w, span, degree = degree, parametric = parametric, :\n",
      "\"neighborhood radius 1.145\"\n",
      "Warning message in simpleLoess(y, x, w, span, degree = degree, parametric = parametric, :\n",
      "\"reciprocal condition number  3.4382e-028\"\n",
      "Warning message in simpleLoess(y, x, w, span, degree = degree, parametric = parametric, :\n",
      "\"There are other near singularities as well. 1\"\n",
      "Warning message in predLoess(object$y, object$x, newx = if (is.null(newdata)) object$x else if (is.data.frame(newdata)) as.matrix(model.frame(delete.response(terms(object)), :\n",
      "\"pseudoinverse used at 0.855\"\n",
      "Warning message in predLoess(object$y, object$x, newx = if (is.null(newdata)) object$x else if (is.data.frame(newdata)) as.matrix(model.frame(delete.response(terms(object)), :\n",
      "\"neighborhood radius 1.145\"\n",
      "Warning message in predLoess(object$y, object$x, newx = if (is.null(newdata)) object$x else if (is.data.frame(newdata)) as.matrix(model.frame(delete.response(terms(object)), :\n",
      "\"reciprocal condition number  3.4382e-028\"\n",
      "Warning message in predLoess(object$y, object$x, newx = if (is.null(newdata)) object$x else if (is.data.frame(newdata)) as.matrix(model.frame(delete.response(terms(object)), :\n",
      "\"There are other near singularities as well. 1\"\n"
     ]
    },
    {
     "name": "stdout",
     "output_type": "stream",
     "text": [
      "[1] \"depart_Editing\"\n"
     ]
    },
    {
     "name": "stderr",
     "output_type": "stream",
     "text": [
      "Warning message:\n",
      "\"Removed 4397 rows containing non-finite values (stat_smooth).\"\n",
      "Warning message in simpleLoess(y, x, w, span, degree = degree, parametric = parametric, :\n",
      "\"pseudoinverse used at -0.07\"\n",
      "Warning message in simpleLoess(y, x, w, span, degree = degree, parametric = parametric, :\n",
      "\"neighborhood radius 2.07\"\n",
      "Warning message in simpleLoess(y, x, w, span, degree = degree, parametric = parametric, :\n",
      "\"reciprocal condition number  4.6794e-015\"\n",
      "Warning message in simpleLoess(y, x, w, span, degree = degree, parametric = parametric, :\n",
      "\"There are other near singularities as well. 1\"\n",
      "Warning message in predLoess(object$y, object$x, newx = if (is.null(newdata)) object$x else if (is.data.frame(newdata)) as.matrix(model.frame(delete.response(terms(object)), :\n",
      "\"pseudoinverse used at -0.07\"\n",
      "Warning message in predLoess(object$y, object$x, newx = if (is.null(newdata)) object$x else if (is.data.frame(newdata)) as.matrix(model.frame(delete.response(terms(object)), :\n",
      "\"neighborhood radius 2.07\"\n",
      "Warning message in predLoess(object$y, object$x, newx = if (is.null(newdata)) object$x else if (is.data.frame(newdata)) as.matrix(model.frame(delete.response(terms(object)), :\n",
      "\"reciprocal condition number  4.6794e-015\"\n",
      "Warning message in predLoess(object$y, object$x, newx = if (is.null(newdata)) object$x else if (is.data.frame(newdata)) as.matrix(model.frame(delete.response(terms(object)), :\n",
      "\"There are other near singularities as well. 1\"\n"
     ]
    },
    {
     "name": "stdout",
     "output_type": "stream",
     "text": [
      "[1] \"depart_Lighting\"\n"
     ]
    },
    {
     "name": "stderr",
     "output_type": "stream",
     "text": [
      "Warning message:\n",
      "\"Removed 4397 rows containing non-finite values (stat_smooth).\"\n",
      "Warning message in simpleLoess(y, x, w, span, degree = degree, parametric = parametric, :\n",
      "\"at  -0.06\"\n",
      "Warning message in simpleLoess(y, x, w, span, degree = degree, parametric = parametric, :\n",
      "\"radius  0.0036\"\n",
      "Warning message in simpleLoess(y, x, w, span, degree = degree, parametric = parametric, :\n",
      "\"all data on boundary of neighborhood. make span bigger\"\n",
      "Warning message in simpleLoess(y, x, w, span, degree = degree, parametric = parametric, :\n",
      "\"pseudoinverse used at -0.06\"\n",
      "Warning message in simpleLoess(y, x, w, span, degree = degree, parametric = parametric, :\n",
      "\"neighborhood radius 0.06\"\n",
      "Warning message in simpleLoess(y, x, w, span, degree = degree, parametric = parametric, :\n",
      "\"reciprocal condition number  1\"\n",
      "Warning message in simpleLoess(y, x, w, span, degree = degree, parametric = parametric, :\n",
      "\"zero-width neighborhood. make span bigger\"\n",
      "Warning message:\n",
      "\"Computation failed in `stat_smooth()`:\n",
      "NA/NaN/Inf in foreign function call (arg 5)\"\n"
     ]
    },
    {
     "name": "stdout",
     "output_type": "stream",
     "text": [
      "[1] \"depart_Production\"\n"
     ]
    },
    {
     "name": "stderr",
     "output_type": "stream",
     "text": [
      "Warning message:\n",
      "\"Removed 4397 rows containing non-finite values (stat_smooth).\"\n"
     ]
    },
    {
     "name": "stdout",
     "output_type": "stream",
     "text": [
      "[1] \"depart_Sound\"\n"
     ]
    },
    {
     "name": "stderr",
     "output_type": "stream",
     "text": [
      "Warning message:\n",
      "\"Removed 4397 rows containing non-finite values (stat_smooth).\"\n"
     ]
    },
    {
     "name": "stdout",
     "output_type": "stream",
     "text": [
      "[1] \"depart_Visual_Effects\"\n"
     ]
    },
    {
     "ename": "ERROR",
     "evalue": "Error in simpleLoess(y, x, w, span, degree = degree, parametric = FALSE, : NA/NaN/Inf in foreign function call (arg 1)\n",
     "output_type": "error",
     "traceback": [
      "Error in simpleLoess(y, x, w, span, degree = degree, parametric = FALSE, : NA/NaN/Inf in foreign function call (arg 1)\nTraceback:\n",
      "1. exploreData(data = data.frame(zm1), y = \"revenue\")",
      "2. getOutlierGraph(data[[x]])   # at line 407 of file <text>",
      "3. stats::scatter.smooth(df$x, col = df$cl)   # at line 146 of file <text>",
      "4. loess.smooth(x, y, span, degree, family, evaluation)",
      "5. simpleLoess(y, x, w, span, degree = degree, parametric = FALSE, \n .     drop.square = FALSE, normalize = FALSE, statistics = \"none\", \n .     surface = \"interpolate\", cell = control$cell, iterations = iterations, \n .     iterTrace = control$iterTrace, trace.hat = control$trace.hat)"
     ]
    }
   ],
   "source": [
    "exploreData(data=data.frame(zm1),y=\"revenue\")"
   ]
  },
  {
   "cell_type": "code",
   "execution_count": 15,
   "metadata": {},
   "outputs": [
    {
     "data": {
      "text/plain": [
       "\n",
       " Large Medium  Short \n",
       "  1769   3884   1722 "
      ]
     },
     "metadata": {},
     "output_type": "display_data"
    }
   ],
   "source": [
    "table(movies_ff_v$runtime_cat)"
   ]
  },
  {
   "cell_type": "code",
   "execution_count": 92,
   "metadata": {},
   "outputs": [
    {
     "data": {
      "image/png": "[encoded data removed]",
      "text/plain": [
       "plot without title"
      ]
     },
     "metadata": {
      "image/png": {
       "height": 300,
       "width": 300
      }
     },
     "output_type": "display_data"
    }
   ],
   "source": [
    "options(repr.plot.width = 5, repr.plot.height = 5)\n",
    "\n",
    "plot(log(movies_ff_v$revenue)~(movies_ff_v$keyword_cnt))\n"
   ]
  },
  {
   "cell_type": "code",
   "execution_count": 26,
   "metadata": {},
   "outputs": [
    {
     "data": {
      "text/plain": [
       "\n",
       " Large Medium  Short \n",
       "  1769   3884   1722 "
      ]
     },
     "metadata": {},
     "output_type": "display_data"
    },
    {
     "data": {
      "image/png": "[encoded data removed]",
      "text/plain": [
       "Plot with title \"Number of languages by movies\""
      ]
     },
     "metadata": {
      "image/png": {
       "height": 420,
       "width": 420
      }
     },
     "output_type": "display_data"
    }
   ],
   "source": [
    "table(movies_ff_v$runtime_cat)\n",
    "barplot(table(movies_ff_v$runtime_cat),main=\"Number of languages by movies\",xlab=\"# languages\",ylab=\"frequency\")"
   ]
  },
  {
   "cell_type": "code",
   "execution_count": 102,
   "metadata": {},
   "outputs": [
    {
     "data": {
      "text/plain": [
       "     Min.   1st Qu.    Median      Mean   3rd Qu.      Max. \n",
       "        0         0   8000000  22666657  29000000 380000000 "
      ]
     },
     "metadata": {},
     "output_type": "display_data"
    },
    {
     "data": {
      "image/png": "[encoded data removed]",
      "text/plain": [
       "plot without title"
      ]
     },
     "metadata": {
      "image/png": {
       "height": 300,
       "width": 300
      }
     },
     "output_type": "display_data"
    }
   ],
   "source": [
    "summary(movies_ff_v$budget)\n",
    "boxplot(movies_ff_v$budget)"
   ]
  },
  {
   "cell_type": "code",
   "execution_count": 29,
   "metadata": {},
   "outputs": [
    {
     "data": {
      "image/png": "[encoded data removed]",
      "text/plain": [
       "Plot with title \"popularity\""
      ]
     },
     "metadata": {
      "image/png": {
       "height": 180,
       "width": 180
      }
     },
     "output_type": "display_data"
    }
   ],
   "source": [
    "options(repr.plot.width = 3, repr.plot.height = 3)\n",
    "\n",
    "plot((movies_ff_v$revenue+1) ~ ((movies_ff_v$popularity)),main=\"popularity\", cex=0.7)\n"
   ]
  },
  {
   "cell_type": "code",
   "execution_count": 63,
   "metadata": {},
   "outputs": [
    {
     "data": {
      "image/png": "[encoded data removed]",
      "text/plain": [
       "Plot with title \"Histogram of movies_ff_v$revenue\""
      ]
     },
     "metadata": {
      "image/png": {
       "height": 180,
       "width": 300
      }
     },
     "output_type": "display_data"
    }
   ],
   "source": [
    "options(repr.plot.width = 5, repr.plot.height = 3)\n",
    "hist(movies_ff_v$revenue,breaks = 20)"
   ]
  },
  {
   "cell_type": "code",
   "execution_count": 94,
   "metadata": {},
   "outputs": [
    {
     "data": {
      "image/png": "[encoded data removed]",
      "text/plain": [
       "plot without title"
      ]
     },
     "metadata": {
      "image/png": {
       "height": 300,
       "width": 300
      }
     },
     "output_type": "display_data"
    }
   ],
   "source": [
    "plot(movies_ff_v$revenue~movies_ff_v$runtime)"
   ]
  },
  {
   "cell_type": "code",
   "execution_count": 34,
   "metadata": {},
   "outputs": [
    {
     "name": "stderr",
     "output_type": "stream",
     "text": [
      "Warning message in storage.mode(x) <- \"double\":\n",
      "\"NAs introduced by coercion\"\n"
     ]
    },
    {
     "ename": "ERROR",
     "evalue": "Error in rcorr(as.matrix(movies_ff_v[, zm2]), type = \"spearman\"): NA/NaN/Inf in foreign function call (arg 1)\n",
     "output_type": "error",
     "traceback": [
      "Error in rcorr(as.matrix(movies_ff_v[, zm2]), type = \"spearman\"): NA/NaN/Inf in foreign function call (arg 1)\nTraceback:\n",
      "1. rcorr(as.matrix(movies_ff_v[, zm2]), type = \"spearman\")"
     ]
    }
   ],
   "source": [
    "library(Hmisc)\n",
    "\n",
    "#movies_ff_v$revenue <- as.numeric(movies_ff_v$revenue)\n",
    "\n",
    "\n",
    "res2 <-  rcorr(as.matrix(movies_ff_v[,zm2]),type=\"spearman\")#%>%cor((movies_ff_v[,zm3]), use = \"complete.obs\")\n",
    "res2\n",
    "\n"
   ]
  },
  {
   "cell_type": "code",
   "execution_count": 35,
   "metadata": {},
   "outputs": [
    {
     "ename": "ERROR",
     "evalue": "Error in corrplot(res2$r, type = \"upper\", order = \"hclust\", p.mat = res2$P, : object 'res2' not found\n",
     "output_type": "error",
     "traceback": [
      "Error in corrplot(res2$r, type = \"upper\", order = \"hclust\", p.mat = res2$P, : object 'res2' not found\nTraceback:\n",
      "1. corrplot(res2$r, type = \"upper\", order = \"hclust\", p.mat = res2$P, \n .     sig.level = 0.01, insig = \"blank\")"
     ]
    }
   ],
   "source": [
    "library(corrplot)\n",
    "# Insignificant correlation are crossed\n",
    "corrplot(res2$r, type=\"upper\", order=\"hclust\", \n",
    "         p.mat = res2$P, sig.level = 0.01, insig = \"blank\")\n"
   ]
  },
  {
   "cell_type": "code",
   "execution_count": 9,
   "metadata": {},
   "outputs": [
    {
     "name": "stderr",
     "output_type": "stream",
     "text": [
      "Loading required package: lattice\n",
      "\n",
      "Loading required package: survival\n",
      "\n",
      "Loading required package: Formula\n",
      "\n",
      "\n",
      "Attaching package: 'Hmisc'\n",
      "\n",
      "\n",
      "The following objects are masked from 'package:dplyr':\n",
      "\n",
      "    src, summarize\n",
      "\n",
      "\n",
      "The following objects are masked from 'package:base':\n",
      "\n",
      "    format.pval, units\n",
      "\n",
      "\n",
      "Warning message in storage.mode(x) <- \"double\":\n",
      "\"NAs introduced by coercion\"\n"
     ]
    },
    {
     "ename": "ERROR",
     "evalue": "Error in rcorr(as.matrix(movies_ff_v)): NA/NaN/Inf in foreign function call (arg 1)\n",
     "output_type": "error",
     "traceback": [
      "Error in rcorr(as.matrix(movies_ff_v)): NA/NaN/Inf in foreign function call (arg 1)\nTraceback:\n",
      "1. rcorr(as.matrix(movies_ff_v))"
     ]
    }
   ],
   "source": [
    "options(repr.plot.width = 3, repr.plot.height = 3)\n",
    "library(\"Hmisc\")\n",
    "res2 <- rcorr(as.matrix(movies_ff_v))\n",
    "res2"
   ]
  },
  {
   "cell_type": "code",
   "execution_count": 11,
   "metadata": {},
   "outputs": [
    {
     "name": "stderr",
     "output_type": "stream",
     "text": [
      "corrplot 0.84 loaded\n",
      "\n"
     ]
    },
    {
     "ename": "ERROR",
     "evalue": "Error in corrplot(res2$r, type = \"upper\", order = \"hclust\", p.mat = res2$P, : object 'res2' not found\n",
     "output_type": "error",
     "traceback": [
      "Error in corrplot(res2$r, type = \"upper\", order = \"hclust\", p.mat = res2$P, : object 'res2' not found\nTraceback:\n",
      "1. corrplot(res2$r, type = \"upper\", order = \"hclust\", p.mat = res2$P, \n .     sig.level = 0.01, insig = \"blank\")"
     ]
    }
   ],
   "source": [
    "options(repr.plot.width = 10, repr.plot.height = 10)\n",
    "library(corrplot)\n",
    "\n",
    "corrplot(res2$r, type=\"upper\", order=\"hclust\", \n",
    "         p.mat = res2$P, sig.level = 0.01, insig = \"blank\")"
   ]
  },
  {
   "cell_type": "code",
   "execution_count": 30,
   "metadata": {},
   "outputs": [
    {
     "ename": "ERROR",
     "evalue": "Error in getMissingness(movies_ff_v): could not find function \"getMissingness\"\n",
     "output_type": "error",
     "traceback": [
      "Error in getMissingness(movies_ff_v): could not find function \"getMissingness\"\nTraceback:\n"
     ]
    }
   ],
   "source": [
    "getMissingness(movies_ff_v)"
   ]
  },
  {
   "cell_type": "code",
   "execution_count": null,
   "metadata": {},
   "outputs": [],
   "source": [
    "getOutliers <- function(x) {\n",
    "    bp <- graphics::boxplot(x,plot=FALSE)\n",
    "    return(bp$out)\n",
    "  }\n",
    "  getOutlierGraph <- function(x) {\n",
    "   \n",
    "    outl <- getOutliers(x)\n",
    "    df <- data.frame(x=x, cl=1)\n",
    "    if(length(outl)>0) {\n",
    "      df$cl[which(df$x %in% outl)] <- 2\n",
    "    }\n",
    "    pl <- stats::scatter.smooth(df$x,col=df$cl)\n",
    "    ma <- mean(x, na.rm=TRUE)\n",
    "    s <- stats::sd(x, na.rm=TRUE)\n",
    "    graphics::abline(h=ma-(2*s), col=\"red\", lty=2)\n",
    "    graphics::abline(h=ma+(2*s), col=\"red\", lty=2)\n",
    "\n",
    "    return(pl)\n",
    "  }"
   ]
  },
  {
   "cell_type": "code",
   "execution_count": 18,
   "metadata": {},
   "outputs": [],
   "source": [
    "outlierMatrix <- function(data,threshold=1.5) {  #for each column it calculate the min max median and IQR \n",
    "    vn <- names(data)\n",
    "    outdata <- data.frame(row1=1:nrow(data))\n",
    "    for(v in vn) {\n",
    "        if(is.numeric(data[[v]])) {\n",
    "            med <-median(data[[v]],na.rm=T)\n",
    "            outlow <- quantile(data[[v]],probs = 0.25,na.rm = T) # calculating the Q1\n",
    "            outhigh <- quantile(data[[v]],probs = 0.75, na.rm = T) # calculating the Q3\n",
    "            irq_level <- (outhigh - outlow) * threshold # calculating the IQR  Q3-Q1\n",
    "            outlow <- outlow - irq_level\n",
    "            outhigh <- outhigh +  irq_level\n",
    "            mv <- ifelse(data[[v]] < outlow | data[[v]] > outhigh, 1, 0)\n",
    "            outdata[v] <- mv\n",
    "        } else {\n",
    "            mv <- rep(0,nrow(data))\n",
    "        }\n",
    "    }\n",
    "    outdata$row1 <- NULL\n",
    "    return(outdata)\n",
    "}"
   ]
  },
  {
   "cell_type": "code",
   "execution_count": 19,
   "metadata": {},
   "outputs": [
    {
     "data": {
      "text/html": [
       "<table>\n",
       "<caption>A data.frame: 7375 × 82</caption>\n",
       "<thead>\n",
       "\t<tr><th scope=col>movie_id</th><th scope=col>budget</th><th scope=col>popularity</th><th scope=col>runtime</th><th scope=col>revenue</th><th scope=col>sw_lang_en</th><th scope=col>sw_web_presence</th><th scope=col>sw_has_poster</th><th scope=col>sw_tagline</th><th scope=col>keyword_cnt</th><th scope=col>...</th><th scope=col>depart_Camera_female</th><th scope=col>depart_Crew_female</th><th scope=col>depart_Custom_Mkup_female</th><th scope=col>depart_Directing_female</th><th scope=col>depart_Editing_female</th><th scope=col>depart_Lighting_female</th><th scope=col>depart_Production_female</th><th scope=col>depart_Sound_female</th><th scope=col>depart_Visual_Effects_female</th><th scope=col>depart_Writing_female</th></tr>\n",
       "\t<tr><th scope=col>&lt;dbl&gt;</th><th scope=col>&lt;dbl&gt;</th><th scope=col>&lt;dbl&gt;</th><th scope=col>&lt;dbl&gt;</th><th scope=col>&lt;dbl&gt;</th><th scope=col>&lt;dbl&gt;</th><th scope=col>&lt;dbl&gt;</th><th scope=col>&lt;dbl&gt;</th><th scope=col>&lt;dbl&gt;</th><th scope=col>&lt;dbl&gt;</th><th scope=col>...</th><th scope=col>&lt;dbl&gt;</th><th scope=col>&lt;dbl&gt;</th><th scope=col>&lt;dbl&gt;</th><th scope=col>&lt;dbl&gt;</th><th scope=col>&lt;dbl&gt;</th><th scope=col>&lt;dbl&gt;</th><th scope=col>&lt;dbl&gt;</th><th scope=col>&lt;dbl&gt;</th><th scope=col>&lt;dbl&gt;</th><th scope=col>&lt;dbl&gt;</th></tr>\n",
       "</thead>\n",
       "<tbody>\n",
       "\t<tr><td>0</td><td>0</td><td>0</td><td>0</td><td>0</td><td>0</td><td>0</td><td>0</td><td>0</td><td>0</td><td>...</td><td>0</td><td>0</td><td>0</td><td>0</td><td>0</td><td>0</td><td>0</td><td>0</td><td>0</td><td>0</td></tr>\n",
       "\t<tr><td>0</td><td>0</td><td>0</td><td>0</td><td>0</td><td>0</td><td>0</td><td>0</td><td>0</td><td>0</td><td>...</td><td>0</td><td>0</td><td>0</td><td>0</td><td>0</td><td>0</td><td>0</td><td>0</td><td>0</td><td>1</td></tr>\n",
       "\t<tr><td>0</td><td>0</td><td>1</td><td>0</td><td>0</td><td>0</td><td>0</td><td>0</td><td>0</td><td>0</td><td>...</td><td>0</td><td>1</td><td>0</td><td>0</td><td>0</td><td>0</td><td>0</td><td>0</td><td>0</td><td>0</td></tr>\n",
       "\t<tr><td>0</td><td>0</td><td>0</td><td>0</td><td>0</td><td>1</td><td>0</td><td>0</td><td>1</td><td>0</td><td>...</td><td>0</td><td>0</td><td>0</td><td>0</td><td>0</td><td>0</td><td>0</td><td>0</td><td>0</td><td>0</td></tr>\n",
       "\t<tr><td>0</td><td>0</td><td>0</td><td>0</td><td>0</td><td>1</td><td>0</td><td>0</td><td>1</td><td>0</td><td>...</td><td>0</td><td>0</td><td>0</td><td>0</td><td>0</td><td>0</td><td>0</td><td>0</td><td>0</td><td>0</td></tr>\n",
       "\t<tr><td>0</td><td>0</td><td>0</td><td>0</td><td>0</td><td>0</td><td>0</td><td>0</td><td>1</td><td>0</td><td>...</td><td>0</td><td>0</td><td>0</td><td>0</td><td>0</td><td>0</td><td>0</td><td>0</td><td>0</td><td>0</td></tr>\n",
       "\t<tr><td>0</td><td>0</td><td>0</td><td>0</td><td>0</td><td>0</td><td>0</td><td>0</td><td>0</td><td>0</td><td>...</td><td>0</td><td>0</td><td>0</td><td>1</td><td>0</td><td>0</td><td>0</td><td>0</td><td>0</td><td>0</td></tr>\n",
       "\t<tr><td>0</td><td>0</td><td>0</td><td>0</td><td>0</td><td>0</td><td>0</td><td>0</td><td>0</td><td>0</td><td>...</td><td>0</td><td>0</td><td>0</td><td>1</td><td>0</td><td>0</td><td>0</td><td>0</td><td>0</td><td>0</td></tr>\n",
       "\t<tr><td>0</td><td>0</td><td>0</td><td>0</td><td>0</td><td>0</td><td>0</td><td>0</td><td>0</td><td>0</td><td>...</td><td>0</td><td>0</td><td>0</td><td>0</td><td>0</td><td>0</td><td>0</td><td>0</td><td>0</td><td>0</td></tr>\n",
       "\t<tr><td>0</td><td>0</td><td>0</td><td>0</td><td>0</td><td>0</td><td>0</td><td>0</td><td>0</td><td>0</td><td>...</td><td>1</td><td>0</td><td>0</td><td>0</td><td>0</td><td>0</td><td>0</td><td>0</td><td>0</td><td>0</td></tr>\n",
       "\t<tr><td>0</td><td>0</td><td>0</td><td>0</td><td>0</td><td>0</td><td>0</td><td>0</td><td>0</td><td>0</td><td>...</td><td>0</td><td>0</td><td>0</td><td>1</td><td>1</td><td>0</td><td>0</td><td>0</td><td>0</td><td>0</td></tr>\n",
       "\t<tr><td>0</td><td>0</td><td>0</td><td>0</td><td>0</td><td>0</td><td>0</td><td>0</td><td>0</td><td>0</td><td>...</td><td>0</td><td>0</td><td>0</td><td>0</td><td>0</td><td>0</td><td>0</td><td>0</td><td>0</td><td>0</td></tr>\n",
       "\t<tr><td>0</td><td>0</td><td>0</td><td>0</td><td>1</td><td>0</td><td>0</td><td>0</td><td>0</td><td>1</td><td>...</td><td>0</td><td>1</td><td>1</td><td>1</td><td>0</td><td>0</td><td>0</td><td>0</td><td>0</td><td>0</td></tr>\n",
       "\t<tr><td>0</td><td>0</td><td>0</td><td>0</td><td>0</td><td>0</td><td>0</td><td>0</td><td>0</td><td>0</td><td>...</td><td>0</td><td>0</td><td>0</td><td>0</td><td>0</td><td>0</td><td>0</td><td>0</td><td>0</td><td>0</td></tr>\n",
       "\t<tr><td>0</td><td>1</td><td>0</td><td>0</td><td>1</td><td>0</td><td>0</td><td>0</td><td>0</td><td>0</td><td>...</td><td>0</td><td>1</td><td>0</td><td>1</td><td>0</td><td>0</td><td>0</td><td>0</td><td>0</td><td>0</td></tr>\n",
       "\t<tr><td>0</td><td>0</td><td>0</td><td>0</td><td>0</td><td>1</td><td>0</td><td>0</td><td>0</td><td>0</td><td>...</td><td>0</td><td>0</td><td>0</td><td>0</td><td>0</td><td>0</td><td>0</td><td>0</td><td>0</td><td>0</td></tr>\n",
       "\t<tr><td>0</td><td>0</td><td>0</td><td>0</td><td>0</td><td>0</td><td>0</td><td>0</td><td>0</td><td>0</td><td>...</td><td>0</td><td>0</td><td>1</td><td>1</td><td>0</td><td>0</td><td>0</td><td>0</td><td>0</td><td>0</td></tr>\n",
       "\t<tr><td>0</td><td>0</td><td>0</td><td>0</td><td>0</td><td>0</td><td>0</td><td>0</td><td>0</td><td>0</td><td>...</td><td>0</td><td>0</td><td>0</td><td>0</td><td>0</td><td>0</td><td>0</td><td>0</td><td>0</td><td>0</td></tr>\n",
       "\t<tr><td>0</td><td>0</td><td>0</td><td>0</td><td>0</td><td>0</td><td>0</td><td>0</td><td>0</td><td>0</td><td>...</td><td>0</td><td>0</td><td>0</td><td>0</td><td>0</td><td>0</td><td>0</td><td>0</td><td>0</td><td>0</td></tr>\n",
       "\t<tr><td>0</td><td>0</td><td>0</td><td>0</td><td>0</td><td>0</td><td>0</td><td>0</td><td>0</td><td>0</td><td>...</td><td>0</td><td>0</td><td>0</td><td>0</td><td>0</td><td>0</td><td>0</td><td>0</td><td>0</td><td>0</td></tr>\n",
       "\t<tr><td>0</td><td>1</td><td>0</td><td>0</td><td>0</td><td>0</td><td>0</td><td>0</td><td>0</td><td>0</td><td>...</td><td>0</td><td>0</td><td>0</td><td>1</td><td>0</td><td>0</td><td>0</td><td>0</td><td>0</td><td>0</td></tr>\n",
       "\t<tr><td>0</td><td>0</td><td>0</td><td>0</td><td>0</td><td>0</td><td>0</td><td>0</td><td>0</td><td>0</td><td>...</td><td>0</td><td>0</td><td>0</td><td>0</td><td>0</td><td>0</td><td>0</td><td>0</td><td>0</td><td>1</td></tr>\n",
       "\t<tr><td>0</td><td>0</td><td>0</td><td>0</td><td>0</td><td>0</td><td>0</td><td>0</td><td>0</td><td>0</td><td>...</td><td>0</td><td>0</td><td>0</td><td>0</td><td>0</td><td>0</td><td>0</td><td>0</td><td>0</td><td>0</td></tr>\n",
       "\t<tr><td>0</td><td>0</td><td>0</td><td>0</td><td>0</td><td>0</td><td>0</td><td>0</td><td>0</td><td>0</td><td>...</td><td>0</td><td>0</td><td>0</td><td>0</td><td>0</td><td>0</td><td>0</td><td>1</td><td>0</td><td>0</td></tr>\n",
       "\t<tr><td>0</td><td>0</td><td>0</td><td>0</td><td>0</td><td>0</td><td>0</td><td>0</td><td>0</td><td>0</td><td>...</td><td>0</td><td>0</td><td>0</td><td>0</td><td>0</td><td>0</td><td>0</td><td>1</td><td>0</td><td>0</td></tr>\n",
       "\t<tr><td>0</td><td>0</td><td>0</td><td>0</td><td>0</td><td>0</td><td>0</td><td>0</td><td>0</td><td>0</td><td>...</td><td>0</td><td>0</td><td>0</td><td>0</td><td>1</td><td>0</td><td>0</td><td>0</td><td>0</td><td>0</td></tr>\n",
       "\t<tr><td>0</td><td>0</td><td>0</td><td>0</td><td>0</td><td>0</td><td>0</td><td>0</td><td>0</td><td>0</td><td>...</td><td>0</td><td>0</td><td>0</td><td>1</td><td>1</td><td>0</td><td>0</td><td>0</td><td>0</td><td>0</td></tr>\n",
       "\t<tr><td>0</td><td>0</td><td>0</td><td>0</td><td>0</td><td>0</td><td>0</td><td>0</td><td>0</td><td>0</td><td>...</td><td>0</td><td>0</td><td>0</td><td>0</td><td>0</td><td>0</td><td>0</td><td>0</td><td>0</td><td>0</td></tr>\n",
       "\t<tr><td>0</td><td>0</td><td>0</td><td>0</td><td>0</td><td>0</td><td>0</td><td>0</td><td>0</td><td>0</td><td>...</td><td>0</td><td>0</td><td>0</td><td>0</td><td>0</td><td>0</td><td>0</td><td>0</td><td>0</td><td>0</td></tr>\n",
       "\t<tr><td>0</td><td>0</td><td>0</td><td>0</td><td>0</td><td>0</td><td>0</td><td>0</td><td>0</td><td>0</td><td>...</td><td>0</td><td>0</td><td>0</td><td>0</td><td>0</td><td>0</td><td>0</td><td>0</td><td>0</td><td>0</td></tr>\n",
       "\t<tr><td>...</td><td>...</td><td>...</td><td>...</td><td>...</td><td>...</td><td>...</td><td>...</td><td>...</td><td>...</td><td></td><td>...</td><td>...</td><td>...</td><td>...</td><td>...</td><td>...</td><td>...</td><td>...</td><td>...</td><td>...</td></tr>\n",
       "\t<tr><td>0</td><td>0</td><td>0</td><td>0</td><td>NA</td><td>0</td><td>0</td><td>0</td><td>1</td><td>0</td><td>...</td><td>0</td><td>0</td><td>0</td><td>0</td><td>0</td><td>0</td><td>0</td><td>0</td><td>0</td><td>0</td></tr>\n",
       "\t<tr><td>0</td><td>0</td><td>0</td><td>0</td><td>NA</td><td>0</td><td>0</td><td>0</td><td>0</td><td>0</td><td>...</td><td>0</td><td>0</td><td>0</td><td>0</td><td>0</td><td>0</td><td>0</td><td>0</td><td>0</td><td>0</td></tr>\n",
       "\t<tr><td>0</td><td>0</td><td>0</td><td>0</td><td>NA</td><td>0</td><td>0</td><td>0</td><td>1</td><td>0</td><td>...</td><td>0</td><td>0</td><td>0</td><td>0</td><td>0</td><td>0</td><td>0</td><td>0</td><td>0</td><td>0</td></tr>\n",
       "\t<tr><td>0</td><td>0</td><td>0</td><td>0</td><td>NA</td><td>0</td><td>0</td><td>0</td><td>0</td><td>0</td><td>...</td><td>0</td><td>0</td><td>0</td><td>0</td><td>1</td><td>0</td><td>0</td><td>0</td><td>0</td><td>0</td></tr>\n",
       "\t<tr><td>0</td><td>1</td><td>0</td><td>0</td><td>NA</td><td>0</td><td>0</td><td>0</td><td>0</td><td>0</td><td>...</td><td>0</td><td>0</td><td>0</td><td>0</td><td>1</td><td>0</td><td>0</td><td>1</td><td>0</td><td>0</td></tr>\n",
       "\t<tr><td>0</td><td>0</td><td>0</td><td>0</td><td>NA</td><td>0</td><td>0</td><td>0</td><td>0</td><td>1</td><td>...</td><td>0</td><td>0</td><td>0</td><td>1</td><td>0</td><td>0</td><td>0</td><td>0</td><td>0</td><td>0</td></tr>\n",
       "\t<tr><td>0</td><td>0</td><td>0</td><td>0</td><td>NA</td><td>0</td><td>0</td><td>0</td><td>0</td><td>0</td><td>...</td><td>0</td><td>0</td><td>0</td><td>1</td><td>0</td><td>0</td><td>0</td><td>1</td><td>0</td><td>1</td></tr>\n",
       "\t<tr><td>0</td><td>0</td><td>0</td><td>0</td><td>NA</td><td>1</td><td>0</td><td>0</td><td>1</td><td>0</td><td>...</td><td>0</td><td>0</td><td>0</td><td>0</td><td>0</td><td>0</td><td>0</td><td>0</td><td>0</td><td>0</td></tr>\n",
       "\t<tr><td>0</td><td>0</td><td>0</td><td>0</td><td>NA</td><td>0</td><td>0</td><td>0</td><td>0</td><td>0</td><td>...</td><td>0</td><td>0</td><td>0</td><td>0</td><td>0</td><td>0</td><td>0</td><td>0</td><td>0</td><td>0</td></tr>\n",
       "\t<tr><td>0</td><td>0</td><td>1</td><td>0</td><td>NA</td><td>0</td><td>0</td><td>0</td><td>0</td><td>0</td><td>...</td><td>0</td><td>1</td><td>1</td><td>1</td><td>0</td><td>0</td><td>0</td><td>0</td><td>0</td><td>0</td></tr>\n",
       "\t<tr><td>0</td><td>0</td><td>0</td><td>0</td><td>NA</td><td>0</td><td>0</td><td>0</td><td>0</td><td>0</td><td>...</td><td>0</td><td>0</td><td>0</td><td>0</td><td>0</td><td>0</td><td>0</td><td>0</td><td>0</td><td>0</td></tr>\n",
       "\t<tr><td>0</td><td>0</td><td>0</td><td>0</td><td>NA</td><td>0</td><td>0</td><td>0</td><td>0</td><td>0</td><td>...</td><td>0</td><td>1</td><td>0</td><td>0</td><td>1</td><td>0</td><td>0</td><td>0</td><td>0</td><td>0</td></tr>\n",
       "\t<tr><td>0</td><td>0</td><td>0</td><td>0</td><td>NA</td><td>0</td><td>0</td><td>0</td><td>1</td><td>0</td><td>...</td><td>0</td><td>0</td><td>0</td><td>0</td><td>0</td><td>0</td><td>0</td><td>0</td><td>0</td><td>0</td></tr>\n",
       "\t<tr><td>0</td><td>0</td><td>0</td><td>1</td><td>NA</td><td>0</td><td>0</td><td>0</td><td>0</td><td>0</td><td>...</td><td>0</td><td>0</td><td>0</td><td>1</td><td>1</td><td>0</td><td>0</td><td>0</td><td>0</td><td>0</td></tr>\n",
       "\t<tr><td>0</td><td>0</td><td>0</td><td>0</td><td>NA</td><td>0</td><td>0</td><td>0</td><td>1</td><td>0</td><td>...</td><td>0</td><td>0</td><td>0</td><td>0</td><td>0</td><td>0</td><td>0</td><td>0</td><td>0</td><td>0</td></tr>\n",
       "\t<tr><td>0</td><td>0</td><td>0</td><td>0</td><td>NA</td><td>0</td><td>0</td><td>0</td><td>0</td><td>0</td><td>...</td><td>0</td><td>0</td><td>0</td><td>0</td><td>0</td><td>0</td><td>0</td><td>0</td><td>0</td><td>0</td></tr>\n",
       "\t<tr><td>0</td><td>0</td><td>0</td><td>0</td><td>NA</td><td>0</td><td>0</td><td>0</td><td>0</td><td>0</td><td>...</td><td>0</td><td>0</td><td>0</td><td>0</td><td>0</td><td>0</td><td>0</td><td>0</td><td>0</td><td>0</td></tr>\n",
       "\t<tr><td>0</td><td>0</td><td>0</td><td>0</td><td>NA</td><td>0</td><td>0</td><td>0</td><td>0</td><td>1</td><td>...</td><td>0</td><td>0</td><td>0</td><td>0</td><td>0</td><td>0</td><td>0</td><td>0</td><td>0</td><td>0</td></tr>\n",
       "\t<tr><td>0</td><td>0</td><td>0</td><td>0</td><td>NA</td><td>0</td><td>0</td><td>0</td><td>0</td><td>0</td><td>...</td><td>0</td><td>0</td><td>0</td><td>0</td><td>0</td><td>0</td><td>0</td><td>0</td><td>0</td><td>0</td></tr>\n",
       "\t<tr><td>0</td><td>0</td><td>0</td><td>0</td><td>NA</td><td>0</td><td>0</td><td>0</td><td>0</td><td>0</td><td>...</td><td>0</td><td>0</td><td>0</td><td>0</td><td>0</td><td>0</td><td>0</td><td>0</td><td>0</td><td>0</td></tr>\n",
       "\t<tr><td>0</td><td>0</td><td>0</td><td>0</td><td>NA</td><td>0</td><td>0</td><td>0</td><td>1</td><td>0</td><td>...</td><td>0</td><td>0</td><td>0</td><td>0</td><td>0</td><td>0</td><td>0</td><td>0</td><td>0</td><td>0</td></tr>\n",
       "\t<tr><td>0</td><td>0</td><td>0</td><td>0</td><td>NA</td><td>0</td><td>0</td><td>0</td><td>0</td><td>0</td><td>...</td><td>0</td><td>0</td><td>0</td><td>0</td><td>0</td><td>0</td><td>0</td><td>0</td><td>0</td><td>0</td></tr>\n",
       "\t<tr><td>0</td><td>0</td><td>0</td><td>0</td><td>NA</td><td>0</td><td>0</td><td>0</td><td>0</td><td>0</td><td>...</td><td>0</td><td>0</td><td>0</td><td>0</td><td>0</td><td>0</td><td>0</td><td>0</td><td>0</td><td>1</td></tr>\n",
       "\t<tr><td>0</td><td>0</td><td>0</td><td>0</td><td>NA</td><td>0</td><td>0</td><td>0</td><td>0</td><td>0</td><td>...</td><td>0</td><td>0</td><td>0</td><td>0</td><td>0</td><td>0</td><td>0</td><td>0</td><td>0</td><td>1</td></tr>\n",
       "\t<tr><td>0</td><td>1</td><td>1</td><td>0</td><td>NA</td><td>0</td><td>0</td><td>0</td><td>0</td><td>0</td><td>...</td><td>1</td><td>0</td><td>0</td><td>0</td><td>0</td><td>0</td><td>0</td><td>0</td><td>0</td><td>1</td></tr>\n",
       "\t<tr><td>0</td><td>0</td><td>0</td><td>0</td><td>NA</td><td>0</td><td>0</td><td>0</td><td>0</td><td>0</td><td>...</td><td>0</td><td>0</td><td>0</td><td>0</td><td>0</td><td>0</td><td>0</td><td>0</td><td>0</td><td>0</td></tr>\n",
       "\t<tr><td>0</td><td>0</td><td>0</td><td>0</td><td>NA</td><td>0</td><td>0</td><td>0</td><td>0</td><td>0</td><td>...</td><td>0</td><td>0</td><td>0</td><td>1</td><td>1</td><td>0</td><td>0</td><td>0</td><td>0</td><td>0</td></tr>\n",
       "\t<tr><td>0</td><td>0</td><td>0</td><td>0</td><td>NA</td><td>0</td><td>0</td><td>0</td><td>0</td><td>0</td><td>...</td><td>0</td><td>0</td><td>0</td><td>0</td><td>0</td><td>0</td><td>0</td><td>0</td><td>0</td><td>0</td></tr>\n",
       "\t<tr><td>0</td><td>0</td><td>0</td><td>0</td><td>NA</td><td>0</td><td>0</td><td>0</td><td>0</td><td>0</td><td>...</td><td>0</td><td>0</td><td>0</td><td>0</td><td>0</td><td>0</td><td>0</td><td>0</td><td>0</td><td>0</td></tr>\n",
       "\t<tr><td>0</td><td>0</td><td>0</td><td>0</td><td>NA</td><td>1</td><td>0</td><td>0</td><td>0</td><td>0</td><td>...</td><td>0</td><td>0</td><td>0</td><td>1</td><td>0</td><td>0</td><td>0</td><td>0</td><td>0</td><td>0</td></tr>\n",
       "</tbody>\n",
       "</table>\n"
      ],
      "text/latex": [
       "A data.frame: 7375 × 82\n",
       "\\begin{tabular}{lllllllllllllllllllll}\n",
       " movie\\_id & budget & popularity & runtime & revenue & sw\\_lang\\_en & sw\\_web\\_presence & sw\\_has\\_poster & sw\\_tagline & keyword\\_cnt & ... & depart\\_Camera\\_female & depart\\_Crew\\_female & depart\\_Custom\\_Mkup\\_female & depart\\_Directing\\_female & depart\\_Editing\\_female & depart\\_Lighting\\_female & depart\\_Production\\_female & depart\\_Sound\\_female & depart\\_Visual\\_Effects\\_female & depart\\_Writing\\_female\\\\\n",
       " <dbl> & <dbl> & <dbl> & <dbl> & <dbl> & <dbl> & <dbl> & <dbl> & <dbl> & <dbl> & ... & <dbl> & <dbl> & <dbl> & <dbl> & <dbl> & <dbl> & <dbl> & <dbl> & <dbl> & <dbl>\\\\\n",
       "\\hline\n",
       "\t 0 & 0 & 0 & 0 & 0 & 0 & 0 & 0 & 0 & 0 & ... & 0 & 0 & 0 & 0 & 0 & 0 & 0 & 0 & 0 & 0\\\\\n",
       "\t 0 & 0 & 0 & 0 & 0 & 0 & 0 & 0 & 0 & 0 & ... & 0 & 0 & 0 & 0 & 0 & 0 & 0 & 0 & 0 & 1\\\\\n",
       "\t 0 & 0 & 1 & 0 & 0 & 0 & 0 & 0 & 0 & 0 & ... & 0 & 1 & 0 & 0 & 0 & 0 & 0 & 0 & 0 & 0\\\\\n",
       "\t 0 & 0 & 0 & 0 & 0 & 1 & 0 & 0 & 1 & 0 & ... & 0 & 0 & 0 & 0 & 0 & 0 & 0 & 0 & 0 & 0\\\\\n",
       "\t 0 & 0 & 0 & 0 & 0 & 1 & 0 & 0 & 1 & 0 & ... & 0 & 0 & 0 & 0 & 0 & 0 & 0 & 0 & 0 & 0\\\\\n",
       "\t 0 & 0 & 0 & 0 & 0 & 0 & 0 & 0 & 1 & 0 & ... & 0 & 0 & 0 & 0 & 0 & 0 & 0 & 0 & 0 & 0\\\\\n",
       "\t 0 & 0 & 0 & 0 & 0 & 0 & 0 & 0 & 0 & 0 & ... & 0 & 0 & 0 & 1 & 0 & 0 & 0 & 0 & 0 & 0\\\\\n",
       "\t 0 & 0 & 0 & 0 & 0 & 0 & 0 & 0 & 0 & 0 & ... & 0 & 0 & 0 & 1 & 0 & 0 & 0 & 0 & 0 & 0\\\\\n",
       "\t 0 & 0 & 0 & 0 & 0 & 0 & 0 & 0 & 0 & 0 & ... & 0 & 0 & 0 & 0 & 0 & 0 & 0 & 0 & 0 & 0\\\\\n",
       "\t 0 & 0 & 0 & 0 & 0 & 0 & 0 & 0 & 0 & 0 & ... & 1 & 0 & 0 & 0 & 0 & 0 & 0 & 0 & 0 & 0\\\\\n",
       "\t 0 & 0 & 0 & 0 & 0 & 0 & 0 & 0 & 0 & 0 & ... & 0 & 0 & 0 & 1 & 1 & 0 & 0 & 0 & 0 & 0\\\\\n",
       "\t 0 & 0 & 0 & 0 & 0 & 0 & 0 & 0 & 0 & 0 & ... & 0 & 0 & 0 & 0 & 0 & 0 & 0 & 0 & 0 & 0\\\\\n",
       "\t 0 & 0 & 0 & 0 & 1 & 0 & 0 & 0 & 0 & 1 & ... & 0 & 1 & 1 & 1 & 0 & 0 & 0 & 0 & 0 & 0\\\\\n",
       "\t 0 & 0 & 0 & 0 & 0 & 0 & 0 & 0 & 0 & 0 & ... & 0 & 0 & 0 & 0 & 0 & 0 & 0 & 0 & 0 & 0\\\\\n",
       "\t 0 & 1 & 0 & 0 & 1 & 0 & 0 & 0 & 0 & 0 & ... & 0 & 1 & 0 & 1 & 0 & 0 & 0 & 0 & 0 & 0\\\\\n",
       "\t 0 & 0 & 0 & 0 & 0 & 1 & 0 & 0 & 0 & 0 & ... & 0 & 0 & 0 & 0 & 0 & 0 & 0 & 0 & 0 & 0\\\\\n",
       "\t 0 & 0 & 0 & 0 & 0 & 0 & 0 & 0 & 0 & 0 & ... & 0 & 0 & 1 & 1 & 0 & 0 & 0 & 0 & 0 & 0\\\\\n",
       "\t 0 & 0 & 0 & 0 & 0 & 0 & 0 & 0 & 0 & 0 & ... & 0 & 0 & 0 & 0 & 0 & 0 & 0 & 0 & 0 & 0\\\\\n",
       "\t 0 & 0 & 0 & 0 & 0 & 0 & 0 & 0 & 0 & 0 & ... & 0 & 0 & 0 & 0 & 0 & 0 & 0 & 0 & 0 & 0\\\\\n",
       "\t 0 & 0 & 0 & 0 & 0 & 0 & 0 & 0 & 0 & 0 & ... & 0 & 0 & 0 & 0 & 0 & 0 & 0 & 0 & 0 & 0\\\\\n",
       "\t 0 & 1 & 0 & 0 & 0 & 0 & 0 & 0 & 0 & 0 & ... & 0 & 0 & 0 & 1 & 0 & 0 & 0 & 0 & 0 & 0\\\\\n",
       "\t 0 & 0 & 0 & 0 & 0 & 0 & 0 & 0 & 0 & 0 & ... & 0 & 0 & 0 & 0 & 0 & 0 & 0 & 0 & 0 & 1\\\\\n",
       "\t 0 & 0 & 0 & 0 & 0 & 0 & 0 & 0 & 0 & 0 & ... & 0 & 0 & 0 & 0 & 0 & 0 & 0 & 0 & 0 & 0\\\\\n",
       "\t 0 & 0 & 0 & 0 & 0 & 0 & 0 & 0 & 0 & 0 & ... & 0 & 0 & 0 & 0 & 0 & 0 & 0 & 1 & 0 & 0\\\\\n",
       "\t 0 & 0 & 0 & 0 & 0 & 0 & 0 & 0 & 0 & 0 & ... & 0 & 0 & 0 & 0 & 0 & 0 & 0 & 1 & 0 & 0\\\\\n",
       "\t 0 & 0 & 0 & 0 & 0 & 0 & 0 & 0 & 0 & 0 & ... & 0 & 0 & 0 & 0 & 1 & 0 & 0 & 0 & 0 & 0\\\\\n",
       "\t 0 & 0 & 0 & 0 & 0 & 0 & 0 & 0 & 0 & 0 & ... & 0 & 0 & 0 & 1 & 1 & 0 & 0 & 0 & 0 & 0\\\\\n",
       "\t 0 & 0 & 0 & 0 & 0 & 0 & 0 & 0 & 0 & 0 & ... & 0 & 0 & 0 & 0 & 0 & 0 & 0 & 0 & 0 & 0\\\\\n",
       "\t 0 & 0 & 0 & 0 & 0 & 0 & 0 & 0 & 0 & 0 & ... & 0 & 0 & 0 & 0 & 0 & 0 & 0 & 0 & 0 & 0\\\\\n",
       "\t 0 & 0 & 0 & 0 & 0 & 0 & 0 & 0 & 0 & 0 & ... & 0 & 0 & 0 & 0 & 0 & 0 & 0 & 0 & 0 & 0\\\\\n",
       "\t ... & ... & ... & ... & ... & ... & ... & ... & ... & ... &  & ... & ... & ... & ... & ... & ... & ... & ... & ... & ...\\\\\n",
       "\t 0 & 0 & 0 & 0 & NA & 0 & 0 & 0 & 1 & 0 & ... & 0 & 0 & 0 & 0 & 0 & 0 & 0 & 0 & 0 & 0\\\\\n",
       "\t 0 & 0 & 0 & 0 & NA & 0 & 0 & 0 & 0 & 0 & ... & 0 & 0 & 0 & 0 & 0 & 0 & 0 & 0 & 0 & 0\\\\\n",
       "\t 0 & 0 & 0 & 0 & NA & 0 & 0 & 0 & 1 & 0 & ... & 0 & 0 & 0 & 0 & 0 & 0 & 0 & 0 & 0 & 0\\\\\n",
       "\t 0 & 0 & 0 & 0 & NA & 0 & 0 & 0 & 0 & 0 & ... & 0 & 0 & 0 & 0 & 1 & 0 & 0 & 0 & 0 & 0\\\\\n",
       "\t 0 & 1 & 0 & 0 & NA & 0 & 0 & 0 & 0 & 0 & ... & 0 & 0 & 0 & 0 & 1 & 0 & 0 & 1 & 0 & 0\\\\\n",
       "\t 0 & 0 & 0 & 0 & NA & 0 & 0 & 0 & 0 & 1 & ... & 0 & 0 & 0 & 1 & 0 & 0 & 0 & 0 & 0 & 0\\\\\n",
       "\t 0 & 0 & 0 & 0 & NA & 0 & 0 & 0 & 0 & 0 & ... & 0 & 0 & 0 & 1 & 0 & 0 & 0 & 1 & 0 & 1\\\\\n",
       "\t 0 & 0 & 0 & 0 & NA & 1 & 0 & 0 & 1 & 0 & ... & 0 & 0 & 0 & 0 & 0 & 0 & 0 & 0 & 0 & 0\\\\\n",
       "\t 0 & 0 & 0 & 0 & NA & 0 & 0 & 0 & 0 & 0 & ... & 0 & 0 & 0 & 0 & 0 & 0 & 0 & 0 & 0 & 0\\\\\n",
       "\t 0 & 0 & 1 & 0 & NA & 0 & 0 & 0 & 0 & 0 & ... & 0 & 1 & 1 & 1 & 0 & 0 & 0 & 0 & 0 & 0\\\\\n",
       "\t 0 & 0 & 0 & 0 & NA & 0 & 0 & 0 & 0 & 0 & ... & 0 & 0 & 0 & 0 & 0 & 0 & 0 & 0 & 0 & 0\\\\\n",
       "\t 0 & 0 & 0 & 0 & NA & 0 & 0 & 0 & 0 & 0 & ... & 0 & 1 & 0 & 0 & 1 & 0 & 0 & 0 & 0 & 0\\\\\n",
       "\t 0 & 0 & 0 & 0 & NA & 0 & 0 & 0 & 1 & 0 & ... & 0 & 0 & 0 & 0 & 0 & 0 & 0 & 0 & 0 & 0\\\\\n",
       "\t 0 & 0 & 0 & 1 & NA & 0 & 0 & 0 & 0 & 0 & ... & 0 & 0 & 0 & 1 & 1 & 0 & 0 & 0 & 0 & 0\\\\\n",
       "\t 0 & 0 & 0 & 0 & NA & 0 & 0 & 0 & 1 & 0 & ... & 0 & 0 & 0 & 0 & 0 & 0 & 0 & 0 & 0 & 0\\\\\n",
       "\t 0 & 0 & 0 & 0 & NA & 0 & 0 & 0 & 0 & 0 & ... & 0 & 0 & 0 & 0 & 0 & 0 & 0 & 0 & 0 & 0\\\\\n",
       "\t 0 & 0 & 0 & 0 & NA & 0 & 0 & 0 & 0 & 0 & ... & 0 & 0 & 0 & 0 & 0 & 0 & 0 & 0 & 0 & 0\\\\\n",
       "\t 0 & 0 & 0 & 0 & NA & 0 & 0 & 0 & 0 & 1 & ... & 0 & 0 & 0 & 0 & 0 & 0 & 0 & 0 & 0 & 0\\\\\n",
       "\t 0 & 0 & 0 & 0 & NA & 0 & 0 & 0 & 0 & 0 & ... & 0 & 0 & 0 & 0 & 0 & 0 & 0 & 0 & 0 & 0\\\\\n",
       "\t 0 & 0 & 0 & 0 & NA & 0 & 0 & 0 & 0 & 0 & ... & 0 & 0 & 0 & 0 & 0 & 0 & 0 & 0 & 0 & 0\\\\\n",
       "\t 0 & 0 & 0 & 0 & NA & 0 & 0 & 0 & 1 & 0 & ... & 0 & 0 & 0 & 0 & 0 & 0 & 0 & 0 & 0 & 0\\\\\n",
       "\t 0 & 0 & 0 & 0 & NA & 0 & 0 & 0 & 0 & 0 & ... & 0 & 0 & 0 & 0 & 0 & 0 & 0 & 0 & 0 & 0\\\\\n",
       "\t 0 & 0 & 0 & 0 & NA & 0 & 0 & 0 & 0 & 0 & ... & 0 & 0 & 0 & 0 & 0 & 0 & 0 & 0 & 0 & 1\\\\\n",
       "\t 0 & 0 & 0 & 0 & NA & 0 & 0 & 0 & 0 & 0 & ... & 0 & 0 & 0 & 0 & 0 & 0 & 0 & 0 & 0 & 1\\\\\n",
       "\t 0 & 1 & 1 & 0 & NA & 0 & 0 & 0 & 0 & 0 & ... & 1 & 0 & 0 & 0 & 0 & 0 & 0 & 0 & 0 & 1\\\\\n",
       "\t 0 & 0 & 0 & 0 & NA & 0 & 0 & 0 & 0 & 0 & ... & 0 & 0 & 0 & 0 & 0 & 0 & 0 & 0 & 0 & 0\\\\\n",
       "\t 0 & 0 & 0 & 0 & NA & 0 & 0 & 0 & 0 & 0 & ... & 0 & 0 & 0 & 1 & 1 & 0 & 0 & 0 & 0 & 0\\\\\n",
       "\t 0 & 0 & 0 & 0 & NA & 0 & 0 & 0 & 0 & 0 & ... & 0 & 0 & 0 & 0 & 0 & 0 & 0 & 0 & 0 & 0\\\\\n",
       "\t 0 & 0 & 0 & 0 & NA & 0 & 0 & 0 & 0 & 0 & ... & 0 & 0 & 0 & 0 & 0 & 0 & 0 & 0 & 0 & 0\\\\\n",
       "\t 0 & 0 & 0 & 0 & NA & 1 & 0 & 0 & 0 & 0 & ... & 0 & 0 & 0 & 1 & 0 & 0 & 0 & 0 & 0 & 0\\\\\n",
       "\\end{tabular}\n"
      ],
      "text/markdown": [
       "\n",
       "A data.frame: 7375 × 82\n",
       "\n",
       "| movie_id &lt;dbl&gt; | budget &lt;dbl&gt; | popularity &lt;dbl&gt; | runtime &lt;dbl&gt; | revenue &lt;dbl&gt; | sw_lang_en &lt;dbl&gt; | sw_web_presence &lt;dbl&gt; | sw_has_poster &lt;dbl&gt; | sw_tagline &lt;dbl&gt; | keyword_cnt &lt;dbl&gt; | ... ... | depart_Camera_female &lt;dbl&gt; | depart_Crew_female &lt;dbl&gt; | depart_Custom_Mkup_female &lt;dbl&gt; | depart_Directing_female &lt;dbl&gt; | depart_Editing_female &lt;dbl&gt; | depart_Lighting_female &lt;dbl&gt; | depart_Production_female &lt;dbl&gt; | depart_Sound_female &lt;dbl&gt; | depart_Visual_Effects_female &lt;dbl&gt; | depart_Writing_female &lt;dbl&gt; |\n",
       "|---|---|---|---|---|---|---|---|---|---|---|---|---|---|---|---|---|---|---|---|---|\n",
       "| 0 | 0 | 0 | 0 | 0 | 0 | 0 | 0 | 0 | 0 | ... | 0 | 0 | 0 | 0 | 0 | 0 | 0 | 0 | 0 | 0 |\n",
       "| 0 | 0 | 0 | 0 | 0 | 0 | 0 | 0 | 0 | 0 | ... | 0 | 0 | 0 | 0 | 0 | 0 | 0 | 0 | 0 | 1 |\n",
       "| 0 | 0 | 1 | 0 | 0 | 0 | 0 | 0 | 0 | 0 | ... | 0 | 1 | 0 | 0 | 0 | 0 | 0 | 0 | 0 | 0 |\n",
       "| 0 | 0 | 0 | 0 | 0 | 1 | 0 | 0 | 1 | 0 | ... | 0 | 0 | 0 | 0 | 0 | 0 | 0 | 0 | 0 | 0 |\n",
       "| 0 | 0 | 0 | 0 | 0 | 1 | 0 | 0 | 1 | 0 | ... | 0 | 0 | 0 | 0 | 0 | 0 | 0 | 0 | 0 | 0 |\n",
       "| 0 | 0 | 0 | 0 | 0 | 0 | 0 | 0 | 1 | 0 | ... | 0 | 0 | 0 | 0 | 0 | 0 | 0 | 0 | 0 | 0 |\n",
       "| 0 | 0 | 0 | 0 | 0 | 0 | 0 | 0 | 0 | 0 | ... | 0 | 0 | 0 | 1 | 0 | 0 | 0 | 0 | 0 | 0 |\n",
       "| 0 | 0 | 0 | 0 | 0 | 0 | 0 | 0 | 0 | 0 | ... | 0 | 0 | 0 | 1 | 0 | 0 | 0 | 0 | 0 | 0 |\n",
       "| 0 | 0 | 0 | 0 | 0 | 0 | 0 | 0 | 0 | 0 | ... | 0 | 0 | 0 | 0 | 0 | 0 | 0 | 0 | 0 | 0 |\n",
       "| 0 | 0 | 0 | 0 | 0 | 0 | 0 | 0 | 0 | 0 | ... | 1 | 0 | 0 | 0 | 0 | 0 | 0 | 0 | 0 | 0 |\n",
       "| 0 | 0 | 0 | 0 | 0 | 0 | 0 | 0 | 0 | 0 | ... | 0 | 0 | 0 | 1 | 1 | 0 | 0 | 0 | 0 | 0 |\n",
       "| 0 | 0 | 0 | 0 | 0 | 0 | 0 | 0 | 0 | 0 | ... | 0 | 0 | 0 | 0 | 0 | 0 | 0 | 0 | 0 | 0 |\n",
       "| 0 | 0 | 0 | 0 | 1 | 0 | 0 | 0 | 0 | 1 | ... | 0 | 1 | 1 | 1 | 0 | 0 | 0 | 0 | 0 | 0 |\n",
       "| 0 | 0 | 0 | 0 | 0 | 0 | 0 | 0 | 0 | 0 | ... | 0 | 0 | 0 | 0 | 0 | 0 | 0 | 0 | 0 | 0 |\n",
       "| 0 | 1 | 0 | 0 | 1 | 0 | 0 | 0 | 0 | 0 | ... | 0 | 1 | 0 | 1 | 0 | 0 | 0 | 0 | 0 | 0 |\n",
       "| 0 | 0 | 0 | 0 | 0 | 1 | 0 | 0 | 0 | 0 | ... | 0 | 0 | 0 | 0 | 0 | 0 | 0 | 0 | 0 | 0 |\n",
       "| 0 | 0 | 0 | 0 | 0 | 0 | 0 | 0 | 0 | 0 | ... | 0 | 0 | 1 | 1 | 0 | 0 | 0 | 0 | 0 | 0 |\n",
       "| 0 | 0 | 0 | 0 | 0 | 0 | 0 | 0 | 0 | 0 | ... | 0 | 0 | 0 | 0 | 0 | 0 | 0 | 0 | 0 | 0 |\n",
       "| 0 | 0 | 0 | 0 | 0 | 0 | 0 | 0 | 0 | 0 | ... | 0 | 0 | 0 | 0 | 0 | 0 | 0 | 0 | 0 | 0 |\n",
       "| 0 | 0 | 0 | 0 | 0 | 0 | 0 | 0 | 0 | 0 | ... | 0 | 0 | 0 | 0 | 0 | 0 | 0 | 0 | 0 | 0 |\n",
       "| 0 | 1 | 0 | 0 | 0 | 0 | 0 | 0 | 0 | 0 | ... | 0 | 0 | 0 | 1 | 0 | 0 | 0 | 0 | 0 | 0 |\n",
       "| 0 | 0 | 0 | 0 | 0 | 0 | 0 | 0 | 0 | 0 | ... | 0 | 0 | 0 | 0 | 0 | 0 | 0 | 0 | 0 | 1 |\n",
       "| 0 | 0 | 0 | 0 | 0 | 0 | 0 | 0 | 0 | 0 | ... | 0 | 0 | 0 | 0 | 0 | 0 | 0 | 0 | 0 | 0 |\n",
       "| 0 | 0 | 0 | 0 | 0 | 0 | 0 | 0 | 0 | 0 | ... | 0 | 0 | 0 | 0 | 0 | 0 | 0 | 1 | 0 | 0 |\n",
       "| 0 | 0 | 0 | 0 | 0 | 0 | 0 | 0 | 0 | 0 | ... | 0 | 0 | 0 | 0 | 0 | 0 | 0 | 1 | 0 | 0 |\n",
       "| 0 | 0 | 0 | 0 | 0 | 0 | 0 | 0 | 0 | 0 | ... | 0 | 0 | 0 | 0 | 1 | 0 | 0 | 0 | 0 | 0 |\n",
       "| 0 | 0 | 0 | 0 | 0 | 0 | 0 | 0 | 0 | 0 | ... | 0 | 0 | 0 | 1 | 1 | 0 | 0 | 0 | 0 | 0 |\n",
       "| 0 | 0 | 0 | 0 | 0 | 0 | 0 | 0 | 0 | 0 | ... | 0 | 0 | 0 | 0 | 0 | 0 | 0 | 0 | 0 | 0 |\n",
       "| 0 | 0 | 0 | 0 | 0 | 0 | 0 | 0 | 0 | 0 | ... | 0 | 0 | 0 | 0 | 0 | 0 | 0 | 0 | 0 | 0 |\n",
       "| 0 | 0 | 0 | 0 | 0 | 0 | 0 | 0 | 0 | 0 | ... | 0 | 0 | 0 | 0 | 0 | 0 | 0 | 0 | 0 | 0 |\n",
       "| ... | ... | ... | ... | ... | ... | ... | ... | ... | ... | <!----> | ... | ... | ... | ... | ... | ... | ... | ... | ... | ... |\n",
       "| 0 | 0 | 0 | 0 | NA | 0 | 0 | 0 | 1 | 0 | ... | 0 | 0 | 0 | 0 | 0 | 0 | 0 | 0 | 0 | 0 |\n",
       "| 0 | 0 | 0 | 0 | NA | 0 | 0 | 0 | 0 | 0 | ... | 0 | 0 | 0 | 0 | 0 | 0 | 0 | 0 | 0 | 0 |\n",
       "| 0 | 0 | 0 | 0 | NA | 0 | 0 | 0 | 1 | 0 | ... | 0 | 0 | 0 | 0 | 0 | 0 | 0 | 0 | 0 | 0 |\n",
       "| 0 | 0 | 0 | 0 | NA | 0 | 0 | 0 | 0 | 0 | ... | 0 | 0 | 0 | 0 | 1 | 0 | 0 | 0 | 0 | 0 |\n",
       "| 0 | 1 | 0 | 0 | NA | 0 | 0 | 0 | 0 | 0 | ... | 0 | 0 | 0 | 0 | 1 | 0 | 0 | 1 | 0 | 0 |\n",
       "| 0 | 0 | 0 | 0 | NA | 0 | 0 | 0 | 0 | 1 | ... | 0 | 0 | 0 | 1 | 0 | 0 | 0 | 0 | 0 | 0 |\n",
       "| 0 | 0 | 0 | 0 | NA | 0 | 0 | 0 | 0 | 0 | ... | 0 | 0 | 0 | 1 | 0 | 0 | 0 | 1 | 0 | 1 |\n",
       "| 0 | 0 | 0 | 0 | NA | 1 | 0 | 0 | 1 | 0 | ... | 0 | 0 | 0 | 0 | 0 | 0 | 0 | 0 | 0 | 0 |\n",
       "| 0 | 0 | 0 | 0 | NA | 0 | 0 | 0 | 0 | 0 | ... | 0 | 0 | 0 | 0 | 0 | 0 | 0 | 0 | 0 | 0 |\n",
       "| 0 | 0 | 1 | 0 | NA | 0 | 0 | 0 | 0 | 0 | ... | 0 | 1 | 1 | 1 | 0 | 0 | 0 | 0 | 0 | 0 |\n",
       "| 0 | 0 | 0 | 0 | NA | 0 | 0 | 0 | 0 | 0 | ... | 0 | 0 | 0 | 0 | 0 | 0 | 0 | 0 | 0 | 0 |\n",
       "| 0 | 0 | 0 | 0 | NA | 0 | 0 | 0 | 0 | 0 | ... | 0 | 1 | 0 | 0 | 1 | 0 | 0 | 0 | 0 | 0 |\n",
       "| 0 | 0 | 0 | 0 | NA | 0 | 0 | 0 | 1 | 0 | ... | 0 | 0 | 0 | 0 | 0 | 0 | 0 | 0 | 0 | 0 |\n",
       "| 0 | 0 | 0 | 1 | NA | 0 | 0 | 0 | 0 | 0 | ... | 0 | 0 | 0 | 1 | 1 | 0 | 0 | 0 | 0 | 0 |\n",
       "| 0 | 0 | 0 | 0 | NA | 0 | 0 | 0 | 1 | 0 | ... | 0 | 0 | 0 | 0 | 0 | 0 | 0 | 0 | 0 | 0 |\n",
       "| 0 | 0 | 0 | 0 | NA | 0 | 0 | 0 | 0 | 0 | ... | 0 | 0 | 0 | 0 | 0 | 0 | 0 | 0 | 0 | 0 |\n",
       "| 0 | 0 | 0 | 0 | NA | 0 | 0 | 0 | 0 | 0 | ... | 0 | 0 | 0 | 0 | 0 | 0 | 0 | 0 | 0 | 0 |\n",
       "| 0 | 0 | 0 | 0 | NA | 0 | 0 | 0 | 0 | 1 | ... | 0 | 0 | 0 | 0 | 0 | 0 | 0 | 0 | 0 | 0 |\n",
       "| 0 | 0 | 0 | 0 | NA | 0 | 0 | 0 | 0 | 0 | ... | 0 | 0 | 0 | 0 | 0 | 0 | 0 | 0 | 0 | 0 |\n",
       "| 0 | 0 | 0 | 0 | NA | 0 | 0 | 0 | 0 | 0 | ... | 0 | 0 | 0 | 0 | 0 | 0 | 0 | 0 | 0 | 0 |\n",
       "| 0 | 0 | 0 | 0 | NA | 0 | 0 | 0 | 1 | 0 | ... | 0 | 0 | 0 | 0 | 0 | 0 | 0 | 0 | 0 | 0 |\n",
       "| 0 | 0 | 0 | 0 | NA | 0 | 0 | 0 | 0 | 0 | ... | 0 | 0 | 0 | 0 | 0 | 0 | 0 | 0 | 0 | 0 |\n",
       "| 0 | 0 | 0 | 0 | NA | 0 | 0 | 0 | 0 | 0 | ... | 0 | 0 | 0 | 0 | 0 | 0 | 0 | 0 | 0 | 1 |\n",
       "| 0 | 0 | 0 | 0 | NA | 0 | 0 | 0 | 0 | 0 | ... | 0 | 0 | 0 | 0 | 0 | 0 | 0 | 0 | 0 | 1 |\n",
       "| 0 | 1 | 1 | 0 | NA | 0 | 0 | 0 | 0 | 0 | ... | 1 | 0 | 0 | 0 | 0 | 0 | 0 | 0 | 0 | 1 |\n",
       "| 0 | 0 | 0 | 0 | NA | 0 | 0 | 0 | 0 | 0 | ... | 0 | 0 | 0 | 0 | 0 | 0 | 0 | 0 | 0 | 0 |\n",
       "| 0 | 0 | 0 | 0 | NA | 0 | 0 | 0 | 0 | 0 | ... | 0 | 0 | 0 | 1 | 1 | 0 | 0 | 0 | 0 | 0 |\n",
       "| 0 | 0 | 0 | 0 | NA | 0 | 0 | 0 | 0 | 0 | ... | 0 | 0 | 0 | 0 | 0 | 0 | 0 | 0 | 0 | 0 |\n",
       "| 0 | 0 | 0 | 0 | NA | 0 | 0 | 0 | 0 | 0 | ... | 0 | 0 | 0 | 0 | 0 | 0 | 0 | 0 | 0 | 0 |\n",
       "| 0 | 0 | 0 | 0 | NA | 1 | 0 | 0 | 0 | 0 | ... | 0 | 0 | 0 | 1 | 0 | 0 | 0 | 0 | 0 | 0 |\n",
       "\n"
      ],
      "text/plain": [
       "     movie_id budget popularity runtime revenue sw_lang_en sw_web_presence\n",
       "1    0        0      0          0       0       0          0              \n",
       "2    0        0      0          0       0       0          0              \n",
       "3    0        0      1          0       0       0          0              \n",
       "4    0        0      0          0       0       1          0              \n",
       "5    0        0      0          0       0       1          0              \n",
       "6    0        0      0          0       0       0          0              \n",
       "7    0        0      0          0       0       0          0              \n",
       "8    0        0      0          0       0       0          0              \n",
       "9    0        0      0          0       0       0          0              \n",
       "10   0        0      0          0       0       0          0              \n",
       "11   0        0      0          0       0       0          0              \n",
       "12   0        0      0          0       0       0          0              \n",
       "13   0        0      0          0       1       0          0              \n",
       "14   0        0      0          0       0       0          0              \n",
       "15   0        1      0          0       1       0          0              \n",
       "16   0        0      0          0       0       1          0              \n",
       "17   0        0      0          0       0       0          0              \n",
       "18   0        0      0          0       0       0          0              \n",
       "19   0        0      0          0       0       0          0              \n",
       "20   0        0      0          0       0       0          0              \n",
       "21   0        1      0          0       0       0          0              \n",
       "22   0        0      0          0       0       0          0              \n",
       "23   0        0      0          0       0       0          0              \n",
       "24   0        0      0          0       0       0          0              \n",
       "25   0        0      0          0       0       0          0              \n",
       "26   0        0      0          0       0       0          0              \n",
       "27   0        0      0          0       0       0          0              \n",
       "28   0        0      0          0       0       0          0              \n",
       "29   0        0      0          0       0       0          0              \n",
       "30   0        0      0          0       0       0          0              \n",
       "...  ...      ...    ...        ...     ...     ...        ...            \n",
       "7346 0        0      0          0       NA      0          0              \n",
       "7347 0        0      0          0       NA      0          0              \n",
       "7348 0        0      0          0       NA      0          0              \n",
       "7349 0        0      0          0       NA      0          0              \n",
       "7350 0        1      0          0       NA      0          0              \n",
       "7351 0        0      0          0       NA      0          0              \n",
       "7352 0        0      0          0       NA      0          0              \n",
       "7353 0        0      0          0       NA      1          0              \n",
       "7354 0        0      0          0       NA      0          0              \n",
       "7355 0        0      1          0       NA      0          0              \n",
       "7356 0        0      0          0       NA      0          0              \n",
       "7357 0        0      0          0       NA      0          0              \n",
       "7358 0        0      0          0       NA      0          0              \n",
       "7359 0        0      0          1       NA      0          0              \n",
       "7360 0        0      0          0       NA      0          0              \n",
       "7361 0        0      0          0       NA      0          0              \n",
       "7362 0        0      0          0       NA      0          0              \n",
       "7363 0        0      0          0       NA      0          0              \n",
       "7364 0        0      0          0       NA      0          0              \n",
       "7365 0        0      0          0       NA      0          0              \n",
       "7366 0        0      0          0       NA      0          0              \n",
       "7367 0        0      0          0       NA      0          0              \n",
       "7368 0        0      0          0       NA      0          0              \n",
       "7369 0        0      0          0       NA      0          0              \n",
       "7370 0        1      1          0       NA      0          0              \n",
       "7371 0        0      0          0       NA      0          0              \n",
       "7372 0        0      0          0       NA      0          0              \n",
       "7373 0        0      0          0       NA      0          0              \n",
       "7374 0        0      0          0       NA      0          0              \n",
       "7375 0        0      0          0       NA      1          0              \n",
       "     sw_has_poster sw_tagline keyword_cnt ... depart_Camera_female\n",
       "1    0             0          0           ... 0                   \n",
       "2    0             0          0           ... 0                   \n",
       "3    0             0          0           ... 0                   \n",
       "4    0             1          0           ... 0                   \n",
       "5    0             1          0           ... 0                   \n",
       "6    0             1          0           ... 0                   \n",
       "7    0             0          0           ... 0                   \n",
       "8    0             0          0           ... 0                   \n",
       "9    0             0          0           ... 0                   \n",
       "10   0             0          0           ... 1                   \n",
       "11   0             0          0           ... 0                   \n",
       "12   0             0          0           ... 0                   \n",
       "13   0             0          1           ... 0                   \n",
       "14   0             0          0           ... 0                   \n",
       "15   0             0          0           ... 0                   \n",
       "16   0             0          0           ... 0                   \n",
       "17   0             0          0           ... 0                   \n",
       "18   0             0          0           ... 0                   \n",
       "19   0             0          0           ... 0                   \n",
       "20   0             0          0           ... 0                   \n",
       "21   0             0          0           ... 0                   \n",
       "22   0             0          0           ... 0                   \n",
       "23   0             0          0           ... 0                   \n",
       "24   0             0          0           ... 0                   \n",
       "25   0             0          0           ... 0                   \n",
       "26   0             0          0           ... 0                   \n",
       "27   0             0          0           ... 0                   \n",
       "28   0             0          0           ... 0                   \n",
       "29   0             0          0           ... 0                   \n",
       "30   0             0          0           ... 0                   \n",
       "...  ...           ...        ...             ...                 \n",
       "7346 0             1          0           ... 0                   \n",
       "7347 0             0          0           ... 0                   \n",
       "7348 0             1          0           ... 0                   \n",
       "7349 0             0          0           ... 0                   \n",
       "7350 0             0          0           ... 0                   \n",
       "7351 0             0          1           ... 0                   \n",
       "7352 0             0          0           ... 0                   \n",
       "7353 0             1          0           ... 0                   \n",
       "7354 0             0          0           ... 0                   \n",
       "7355 0             0          0           ... 0                   \n",
       "7356 0             0          0           ... 0                   \n",
       "7357 0             0          0           ... 0                   \n",
       "7358 0             1          0           ... 0                   \n",
       "7359 0             0          0           ... 0                   \n",
       "7360 0             1          0           ... 0                   \n",
       "7361 0             0          0           ... 0                   \n",
       "7362 0             0          0           ... 0                   \n",
       "7363 0             0          1           ... 0                   \n",
       "7364 0             0          0           ... 0                   \n",
       "7365 0             0          0           ... 0                   \n",
       "7366 0             1          0           ... 0                   \n",
       "7367 0             0          0           ... 0                   \n",
       "7368 0             0          0           ... 0                   \n",
       "7369 0             0          0           ... 0                   \n",
       "7370 0             0          0           ... 1                   \n",
       "7371 0             0          0           ... 0                   \n",
       "7372 0             0          0           ... 0                   \n",
       "7373 0             0          0           ... 0                   \n",
       "7374 0             0          0           ... 0                   \n",
       "7375 0             0          0           ... 0                   \n",
       "     depart_Crew_female depart_Custom_Mkup_female depart_Directing_female\n",
       "1    0                  0                         0                      \n",
       "2    0                  0                         0                      \n",
       "3    1                  0                         0                      \n",
       "4    0                  0                         0                      \n",
       "5    0                  0                         0                      \n",
       "6    0                  0                         0                      \n",
       "7    0                  0                         1                      \n",
       "8    0                  0                         1                      \n",
       "9    0                  0                         0                      \n",
       "10   0                  0                         0                      \n",
       "11   0                  0                         1                      \n",
       "12   0                  0                         0                      \n",
       "13   1                  1                         1                      \n",
       "14   0                  0                         0                      \n",
       "15   1                  0                         1                      \n",
       "16   0                  0                         0                      \n",
       "17   0                  1                         1                      \n",
       "18   0                  0                         0                      \n",
       "19   0                  0                         0                      \n",
       "20   0                  0                         0                      \n",
       "21   0                  0                         1                      \n",
       "22   0                  0                         0                      \n",
       "23   0                  0                         0                      \n",
       "24   0                  0                         0                      \n",
       "25   0                  0                         0                      \n",
       "26   0                  0                         0                      \n",
       "27   0                  0                         1                      \n",
       "28   0                  0                         0                      \n",
       "29   0                  0                         0                      \n",
       "30   0                  0                         0                      \n",
       "...  ...                ...                       ...                    \n",
       "7346 0                  0                         0                      \n",
       "7347 0                  0                         0                      \n",
       "7348 0                  0                         0                      \n",
       "7349 0                  0                         0                      \n",
       "7350 0                  0                         0                      \n",
       "7351 0                  0                         1                      \n",
       "7352 0                  0                         1                      \n",
       "7353 0                  0                         0                      \n",
       "7354 0                  0                         0                      \n",
       "7355 1                  1                         1                      \n",
       "7356 0                  0                         0                      \n",
       "7357 1                  0                         0                      \n",
       "7358 0                  0                         0                      \n",
       "7359 0                  0                         1                      \n",
       "7360 0                  0                         0                      \n",
       "7361 0                  0                         0                      \n",
       "7362 0                  0                         0                      \n",
       "7363 0                  0                         0                      \n",
       "7364 0                  0                         0                      \n",
       "7365 0                  0                         0                      \n",
       "7366 0                  0                         0                      \n",
       "7367 0                  0                         0                      \n",
       "7368 0                  0                         0                      \n",
       "7369 0                  0                         0                      \n",
       "7370 0                  0                         0                      \n",
       "7371 0                  0                         0                      \n",
       "7372 0                  0                         1                      \n",
       "7373 0                  0                         0                      \n",
       "7374 0                  0                         0                      \n",
       "7375 0                  0                         1                      \n",
       "     depart_Editing_female depart_Lighting_female depart_Production_female\n",
       "1    0                     0                      0                       \n",
       "2    0                     0                      0                       \n",
       "3    0                     0                      0                       \n",
       "4    0                     0                      0                       \n",
       "5    0                     0                      0                       \n",
       "6    0                     0                      0                       \n",
       "7    0                     0                      0                       \n",
       "8    0                     0                      0                       \n",
       "9    0                     0                      0                       \n",
       "10   0                     0                      0                       \n",
       "11   1                     0                      0                       \n",
       "12   0                     0                      0                       \n",
       "13   0                     0                      0                       \n",
       "14   0                     0                      0                       \n",
       "15   0                     0                      0                       \n",
       "16   0                     0                      0                       \n",
       "17   0                     0                      0                       \n",
       "18   0                     0                      0                       \n",
       "19   0                     0                      0                       \n",
       "20   0                     0                      0                       \n",
       "21   0                     0                      0                       \n",
       "22   0                     0                      0                       \n",
       "23   0                     0                      0                       \n",
       "24   0                     0                      0                       \n",
       "25   0                     0                      0                       \n",
       "26   1                     0                      0                       \n",
       "27   1                     0                      0                       \n",
       "28   0                     0                      0                       \n",
       "29   0                     0                      0                       \n",
       "30   0                     0                      0                       \n",
       "...  ...                   ...                    ...                     \n",
       "7346 0                     0                      0                       \n",
       "7347 0                     0                      0                       \n",
       "7348 0                     0                      0                       \n",
       "7349 1                     0                      0                       \n",
       "7350 1                     0                      0                       \n",
       "7351 0                     0                      0                       \n",
       "7352 0                     0                      0                       \n",
       "7353 0                     0                      0                       \n",
       "7354 0                     0                      0                       \n",
       "7355 0                     0                      0                       \n",
       "7356 0                     0                      0                       \n",
       "7357 1                     0                      0                       \n",
       "7358 0                     0                      0                       \n",
       "7359 1                     0                      0                       \n",
       "7360 0                     0                      0                       \n",
       "7361 0                     0                      0                       \n",
       "7362 0                     0                      0                       \n",
       "7363 0                     0                      0                       \n",
       "7364 0                     0                      0                       \n",
       "7365 0                     0                      0                       \n",
       "7366 0                     0                      0                       \n",
       "7367 0                     0                      0                       \n",
       "7368 0                     0                      0                       \n",
       "7369 0                     0                      0                       \n",
       "7370 0                     0                      0                       \n",
       "7371 0                     0                      0                       \n",
       "7372 1                     0                      0                       \n",
       "7373 0                     0                      0                       \n",
       "7374 0                     0                      0                       \n",
       "7375 0                     0                      0                       \n",
       "     depart_Sound_female depart_Visual_Effects_female depart_Writing_female\n",
       "1    0                   0                            0                    \n",
       "2    0                   0                            1                    \n",
       "3    0                   0                            0                    \n",
       "4    0                   0                            0                    \n",
       "5    0                   0                            0                    \n",
       "6    0                   0                            0                    \n",
       "7    0                   0                            0                    \n",
       "8    0                   0                            0                    \n",
       "9    0                   0                            0                    \n",
       "10   0                   0                            0                    \n",
       "11   0                   0                            0                    \n",
       "12   0                   0                            0                    \n",
       "13   0                   0                            0                    \n",
       "14   0                   0                            0                    \n",
       "15   0                   0                            0                    \n",
       "16   0                   0                            0                    \n",
       "17   0                   0                            0                    \n",
       "18   0                   0                            0                    \n",
       "19   0                   0                            0                    \n",
       "20   0                   0                            0                    \n",
       "21   0                   0                            0                    \n",
       "22   0                   0                            1                    \n",
       "23   0                   0                            0                    \n",
       "24   1                   0                            0                    \n",
       "25   1                   0                            0                    \n",
       "26   0                   0                            0                    \n",
       "27   0                   0                            0                    \n",
       "28   0                   0                            0                    \n",
       "29   0                   0                            0                    \n",
       "30   0                   0                            0                    \n",
       "...  ...                 ...                          ...                  \n",
       "7346 0                   0                            0                    \n",
       "7347 0                   0                            0                    \n",
       "7348 0                   0                            0                    \n",
       "7349 0                   0                            0                    \n",
       "7350 1                   0                            0                    \n",
       "7351 0                   0                            0                    \n",
       "7352 1                   0                            1                    \n",
       "7353 0                   0                            0                    \n",
       "7354 0                   0                            0                    \n",
       "7355 0                   0                            0                    \n",
       "7356 0                   0                            0                    \n",
       "7357 0                   0                            0                    \n",
       "7358 0                   0                            0                    \n",
       "7359 0                   0                            0                    \n",
       "7360 0                   0                            0                    \n",
       "7361 0                   0                            0                    \n",
       "7362 0                   0                            0                    \n",
       "7363 0                   0                            0                    \n",
       "7364 0                   0                            0                    \n",
       "7365 0                   0                            0                    \n",
       "7366 0                   0                            0                    \n",
       "7367 0                   0                            0                    \n",
       "7368 0                   0                            1                    \n",
       "7369 0                   0                            1                    \n",
       "7370 0                   0                            1                    \n",
       "7371 0                   0                            0                    \n",
       "7372 0                   0                            0                    \n",
       "7373 0                   0                            0                    \n",
       "7374 0                   0                            0                    \n",
       "7375 0                   0                            0                    "
      ]
     },
     "metadata": {},
     "output_type": "display_data"
    }
   ],
   "source": [
    "outlierMatrix(movies_ff_v,threshold=1.5)"
   ]
  },
  {
   "cell_type": "code",
   "execution_count": null,
   "metadata": {},
   "outputs": [],
   "source": [
    "getOutliers(movies_ff_v$runtime)\n",
    "getOutlierGraph(movies_ff_v$runtime)"
   ]
  },
  {
   "cell_type": "code",
   "execution_count": null,
   "metadata": {},
   "outputs": [],
   "source": [
    "#options(repr.plot.width = 8, repr.plot.height = 8)\n",
    "#mat <- cbind(revenue = movies_ff_v$revenue, \n",
    "              #budget = movies_ff_v$budget,\n",
    "           #seasonality= movies_ff_v$seasonality)\n",
    "#boxplot(mat, main = \"boxplot.matrix(revenue + budget+seasonality)\", notch = TRUE, col = 1:3)"
   ]
  },
  {
   "cell_type": "code",
   "execution_count": null,
   "metadata": {},
   "outputs": [],
   "source": [
    "options(repr.plot.width = 4, repr.plot.height = 4)\n",
    "b<-boxplot(movies_ff_v$popularity~)\n",
    "b$out\n",
    "min(b$out)\n",
    "ggplot(data=movies_ff_v) +\n",
    "    geom_point(aes(x=movie_id, y=popularity))+\n",
    "    geom_hline(yintercept = 25,color=\"red\")# values above 25 are defined as the outliers"
   ]
  },
  {
   "cell_type": "code",
   "execution_count": 20,
   "metadata": {},
   "outputs": [],
   "source": [
    "missingMatrix <- function(data) {\n",
    "    vn <- names(data)\n",
    "    missdata <- data.frame(row1=1:nrow(data))\n",
    "    for(v in vn) {\n",
    "        mv <- ifelse(is.na(data[[v]]),1,0)\n",
    "        missdata[v] <- mv\n",
    "    }\n",
    "    missdata$row1 <- NULL\n",
    "    return(missdata)\n",
    "}\n",
    "\n",
    "minmax <- function(x) {  #minmax if we have data of 1000 number we chnage it into 1 and 0 but keep the distribiution it change the borders and the alogritm works better\n",
    "    return(((x-min(x,na.rm=T))/(max(x,na.rm=T)-min(x,na.rm=T))))\n",
    "}\n",
    "\n",
    "getMissingness <- function (data, getRows = FALSE) {\n",
    "    require(dplyr)\n",
    "    l <- nrow(data)\n",
    "    vn <- names(data)\n",
    "    nadf <- data\n",
    "    cnt <- NULL\n",
    "    miss <- function(x) return(sum(is.na(x)))\n",
    "    for (n in vn) {\n",
    "        nadf[[n]] <- ifelse(is.na(nadf[[n]]) == T, 1, 0)\n",
    "        cnt <- rbind(cnt, data.frame(n, sum(nadf[[n]])))\n",
    "    }\n",
    "    names(cnt) <- c(\"var\", \"na.count\")\n",
    "    cnt$rate <- round((cnt$na.count/nrow(nadf)) * 100, 1)\n",
    "    nadf$na.cnt <- 0\n",
    "    nadf$na.cnt <- rowSums(nadf)\n",
    "    cnt <- cnt %>% dplyr::arrange(desc(na.count)) %>% dplyr::filter(na.count > \n",
    "        0)\n",
    "    totmiss <- nadf %>% dplyr::filter(na.cnt == 0) %>% dplyr::tally()\n",
    "    idx <- NULL\n",
    "    msg <- (paste(\"This dataset has \", as.character(totmiss), \n",
    "        \" (\", as.character(round(totmiss/nrow(data) * 100, 1)), \n",
    "        \"%)\", \" complete rows. Original data has \", nrow(data), \n",
    "        \" rows.\", sep = \"\"))\n",
    "    if (getRows == TRUE & totmiss != 0) {\n",
    "        nadf$rn <- seq_len(nrow(data))\n",
    "        idx <- nadf %>% dplyr::filter(na.cnt == 0) %>% dplyr::select(rn)\n",
    "    }\n",
    "    print(list(head(cnt, n = 10), msg))\n",
    "    return(list(missingness = cnt, message = msg, rows = idx$rn))\n",
    "}"
   ]
  },
  {
   "cell_type": "code",
   "execution_count": 9,
   "metadata": {},
   "outputs": [
    {
     "data": {
      "text/html": [
       "<table>\n",
       "<caption>A data.frame: 6 × 85</caption>\n",
       "<thead>\n",
       "\t<tr><th></th><th scope=col>movie_id</th><th scope=col>budget</th><th scope=col>original_language</th><th scope=col>popularity</th><th scope=col>release_date</th><th scope=col>runtime</th><th scope=col>runtime_cat</th><th scope=col>revenue</th><th scope=col>sw_lang_en</th><th scope=col>sw_web_presence</th><th scope=col>...</th><th scope=col>depart_Camera_female</th><th scope=col>depart_Crew_female</th><th scope=col>depart_Custom_Mkup_female</th><th scope=col>depart_Directing_female</th><th scope=col>depart_Editing_female</th><th scope=col>depart_Lighting_female</th><th scope=col>depart_Production_female</th><th scope=col>depart_Sound_female</th><th scope=col>depart_Visual_Effects_female</th><th scope=col>depart_Writing_female</th></tr>\n",
       "\t<tr><th></th><th scope=col>&lt;dbl&gt;</th><th scope=col>&lt;dbl&gt;</th><th scope=col>&lt;dbl&gt;</th><th scope=col>&lt;dbl&gt;</th><th scope=col>&lt;dbl&gt;</th><th scope=col>&lt;dbl&gt;</th><th scope=col>&lt;dbl&gt;</th><th scope=col>&lt;dbl&gt;</th><th scope=col>&lt;dbl&gt;</th><th scope=col>&lt;dbl&gt;</th><th scope=col>...</th><th scope=col>&lt;dbl&gt;</th><th scope=col>&lt;dbl&gt;</th><th scope=col>&lt;dbl&gt;</th><th scope=col>&lt;dbl&gt;</th><th scope=col>&lt;dbl&gt;</th><th scope=col>&lt;dbl&gt;</th><th scope=col>&lt;dbl&gt;</th><th scope=col>&lt;dbl&gt;</th><th scope=col>&lt;dbl&gt;</th><th scope=col>&lt;dbl&gt;</th></tr>\n",
       "</thead>\n",
       "<tbody>\n",
       "\t<tr><th scope=row>1</th><td>0</td><td>0</td><td>0</td><td>0</td><td>0</td><td>0</td><td>0</td><td>0</td><td>0</td><td>0</td><td>...</td><td>0</td><td>0</td><td>0</td><td>0</td><td>0</td><td>0</td><td>0</td><td>0</td><td>0</td><td>0</td></tr>\n",
       "\t<tr><th scope=row>2</th><td>0</td><td>0</td><td>0</td><td>0</td><td>0</td><td>0</td><td>0</td><td>0</td><td>0</td><td>0</td><td>...</td><td>0</td><td>0</td><td>0</td><td>0</td><td>0</td><td>0</td><td>0</td><td>0</td><td>0</td><td>0</td></tr>\n",
       "\t<tr><th scope=row>3</th><td>0</td><td>0</td><td>0</td><td>0</td><td>0</td><td>0</td><td>0</td><td>0</td><td>0</td><td>0</td><td>...</td><td>0</td><td>0</td><td>0</td><td>0</td><td>0</td><td>0</td><td>0</td><td>0</td><td>0</td><td>0</td></tr>\n",
       "\t<tr><th scope=row>4</th><td>0</td><td>0</td><td>0</td><td>0</td><td>0</td><td>0</td><td>0</td><td>0</td><td>0</td><td>0</td><td>...</td><td>0</td><td>0</td><td>0</td><td>0</td><td>0</td><td>0</td><td>0</td><td>0</td><td>0</td><td>0</td></tr>\n",
       "\t<tr><th scope=row>5</th><td>0</td><td>0</td><td>0</td><td>0</td><td>0</td><td>0</td><td>0</td><td>0</td><td>0</td><td>0</td><td>...</td><td>0</td><td>0</td><td>0</td><td>0</td><td>0</td><td>0</td><td>0</td><td>0</td><td>0</td><td>0</td></tr>\n",
       "\t<tr><th scope=row>6</th><td>0</td><td>0</td><td>0</td><td>0</td><td>0</td><td>0</td><td>0</td><td>0</td><td>0</td><td>0</td><td>...</td><td>0</td><td>0</td><td>0</td><td>0</td><td>0</td><td>0</td><td>0</td><td>0</td><td>0</td><td>0</td></tr>\n",
       "</tbody>\n",
       "</table>\n"
      ],
      "text/latex": [
       "A data.frame: 6 × 85\n",
       "\\begin{tabular}{r|lllllllllllllllllllll}\n",
       "  & movie\\_id & budget & original\\_language & popularity & release\\_date & runtime & runtime\\_cat & revenue & sw\\_lang\\_en & sw\\_web\\_presence & ... & depart\\_Camera\\_female & depart\\_Crew\\_female & depart\\_Custom\\_Mkup\\_female & depart\\_Directing\\_female & depart\\_Editing\\_female & depart\\_Lighting\\_female & depart\\_Production\\_female & depart\\_Sound\\_female & depart\\_Visual\\_Effects\\_female & depart\\_Writing\\_female\\\\\n",
       "  & <dbl> & <dbl> & <dbl> & <dbl> & <dbl> & <dbl> & <dbl> & <dbl> & <dbl> & <dbl> & ... & <dbl> & <dbl> & <dbl> & <dbl> & <dbl> & <dbl> & <dbl> & <dbl> & <dbl> & <dbl>\\\\\n",
       "\\hline\n",
       "\t1 & 0 & 0 & 0 & 0 & 0 & 0 & 0 & 0 & 0 & 0 & ... & 0 & 0 & 0 & 0 & 0 & 0 & 0 & 0 & 0 & 0\\\\\n",
       "\t2 & 0 & 0 & 0 & 0 & 0 & 0 & 0 & 0 & 0 & 0 & ... & 0 & 0 & 0 & 0 & 0 & 0 & 0 & 0 & 0 & 0\\\\\n",
       "\t3 & 0 & 0 & 0 & 0 & 0 & 0 & 0 & 0 & 0 & 0 & ... & 0 & 0 & 0 & 0 & 0 & 0 & 0 & 0 & 0 & 0\\\\\n",
       "\t4 & 0 & 0 & 0 & 0 & 0 & 0 & 0 & 0 & 0 & 0 & ... & 0 & 0 & 0 & 0 & 0 & 0 & 0 & 0 & 0 & 0\\\\\n",
       "\t5 & 0 & 0 & 0 & 0 & 0 & 0 & 0 & 0 & 0 & 0 & ... & 0 & 0 & 0 & 0 & 0 & 0 & 0 & 0 & 0 & 0\\\\\n",
       "\t6 & 0 & 0 & 0 & 0 & 0 & 0 & 0 & 0 & 0 & 0 & ... & 0 & 0 & 0 & 0 & 0 & 0 & 0 & 0 & 0 & 0\\\\\n",
       "\\end{tabular}\n"
      ],
      "text/markdown": [
       "\n",
       "A data.frame: 6 × 85\n",
       "\n",
       "| <!--/--> | movie_id &lt;dbl&gt; | budget &lt;dbl&gt; | original_language &lt;dbl&gt; | popularity &lt;dbl&gt; | release_date &lt;dbl&gt; | runtime &lt;dbl&gt; | runtime_cat &lt;dbl&gt; | revenue &lt;dbl&gt; | sw_lang_en &lt;dbl&gt; | sw_web_presence &lt;dbl&gt; | ... ... | depart_Camera_female &lt;dbl&gt; | depart_Crew_female &lt;dbl&gt; | depart_Custom_Mkup_female &lt;dbl&gt; | depart_Directing_female &lt;dbl&gt; | depart_Editing_female &lt;dbl&gt; | depart_Lighting_female &lt;dbl&gt; | depart_Production_female &lt;dbl&gt; | depart_Sound_female &lt;dbl&gt; | depart_Visual_Effects_female &lt;dbl&gt; | depart_Writing_female &lt;dbl&gt; |\n",
       "|---|---|---|---|---|---|---|---|---|---|---|---|---|---|---|---|---|---|---|---|---|---|\n",
       "| 1 | 0 | 0 | 0 | 0 | 0 | 0 | 0 | 0 | 0 | 0 | ... | 0 | 0 | 0 | 0 | 0 | 0 | 0 | 0 | 0 | 0 |\n",
       "| 2 | 0 | 0 | 0 | 0 | 0 | 0 | 0 | 0 | 0 | 0 | ... | 0 | 0 | 0 | 0 | 0 | 0 | 0 | 0 | 0 | 0 |\n",
       "| 3 | 0 | 0 | 0 | 0 | 0 | 0 | 0 | 0 | 0 | 0 | ... | 0 | 0 | 0 | 0 | 0 | 0 | 0 | 0 | 0 | 0 |\n",
       "| 4 | 0 | 0 | 0 | 0 | 0 | 0 | 0 | 0 | 0 | 0 | ... | 0 | 0 | 0 | 0 | 0 | 0 | 0 | 0 | 0 | 0 |\n",
       "| 5 | 0 | 0 | 0 | 0 | 0 | 0 | 0 | 0 | 0 | 0 | ... | 0 | 0 | 0 | 0 | 0 | 0 | 0 | 0 | 0 | 0 |\n",
       "| 6 | 0 | 0 | 0 | 0 | 0 | 0 | 0 | 0 | 0 | 0 | ... | 0 | 0 | 0 | 0 | 0 | 0 | 0 | 0 | 0 | 0 |\n",
       "\n"
      ],
      "text/plain": [
       "  movie_id budget original_language popularity release_date runtime runtime_cat\n",
       "1 0        0      0                 0          0            0       0          \n",
       "2 0        0      0                 0          0            0       0          \n",
       "3 0        0      0                 0          0            0       0          \n",
       "4 0        0      0                 0          0            0       0          \n",
       "5 0        0      0                 0          0            0       0          \n",
       "6 0        0      0                 0          0            0       0          \n",
       "  revenue sw_lang_en sw_web_presence ... depart_Camera_female\n",
       "1 0       0          0               ... 0                   \n",
       "2 0       0          0               ... 0                   \n",
       "3 0       0          0               ... 0                   \n",
       "4 0       0          0               ... 0                   \n",
       "5 0       0          0               ... 0                   \n",
       "6 0       0          0               ... 0                   \n",
       "  depart_Crew_female depart_Custom_Mkup_female depart_Directing_female\n",
       "1 0                  0                         0                      \n",
       "2 0                  0                         0                      \n",
       "3 0                  0                         0                      \n",
       "4 0                  0                         0                      \n",
       "5 0                  0                         0                      \n",
       "6 0                  0                         0                      \n",
       "  depart_Editing_female depart_Lighting_female depart_Production_female\n",
       "1 0                     0                      0                       \n",
       "2 0                     0                      0                       \n",
       "3 0                     0                      0                       \n",
       "4 0                     0                      0                       \n",
       "5 0                     0                      0                       \n",
       "6 0                     0                      0                       \n",
       "  depart_Sound_female depart_Visual_Effects_female depart_Writing_female\n",
       "1 0                   0                            0                    \n",
       "2 0                   0                            0                    \n",
       "3 0                   0                            0                    \n",
       "4 0                   0                            0                    \n",
       "5 0                   0                            0                    \n",
       "6 0                   0                            0                    "
      ]
     },
     "metadata": {},
     "output_type": "display_data"
    }
   ],
   "source": [
    "head(missingMatrix(movies_ff_v))"
   ]
  },
  {
   "cell_type": "code",
   "execution_count": 17,
   "metadata": {},
   "outputs": [
    {
     "data": {
      "image/png": "[encoded data removed]",
      "text/plain": [
       "plot without title"
      ]
     },
     "metadata": {
      "image/png": {
       "height": 1200,
       "width": 1200
      }
     },
     "output_type": "display_data"
    }
   ],
   "source": [
    "options(repr.plot.width = 20, repr.plot.height = 20) # the black boxes are missing values\n",
    "vis_miss(movies_ff_v) # the vis_miss crate the heatmap"
   ]
  },
  {
   "cell_type": "code",
   "execution_count": 14,
   "metadata": {},
   "outputs": [
    {
     "name": "stderr",
     "output_type": "stream",
     "text": [
      "Loading required package: ggExtra\n",
      "\n",
      "Warning message in library(package, lib.loc = lib.loc, character.only = TRUE, logical.return = TRUE, :\n",
      "\"there is no package called 'ggExtra'\"\n",
      "Installing package into 'C:/Users/meir/Documents/R/win-library/3.6'\n",
      "(as 'lib' is unspecified)\n",
      "\n",
      "also installing the dependencies 'colourpicker', 'shinyjs'\n",
      "\n",
      "\n"
     ]
    },
    {
     "name": "stdout",
     "output_type": "stream",
     "text": [
      "\n",
      "  There is a binary version available but the source version is later:\n",
      "        binary source needs_compilation\n",
      "shinyjs    1.0    1.1             FALSE\n",
      "\n",
      "package 'colourpicker' successfully unpacked and MD5 sums checked\n",
      "package 'ggExtra' successfully unpacked and MD5 sums checked\n",
      "\n",
      "The downloaded binary packages are in\n",
      "\tC:\\Users\\meir\\AppData\\Local\\Temp\\RtmpGO9fNF\\downloaded_packages\n"
     ]
    },
    {
     "name": "stderr",
     "output_type": "stream",
     "text": [
      "installing the source package 'shinyjs'\n",
      "\n",
      "\n",
      "Loading required package: ggExtra\n",
      "\n",
      "Warning message:\n",
      "\"package 'ggExtra' was built under R version 3.6.2\"\n",
      "Loading required package: naniar\n",
      "\n",
      "Warning message in library(package, lib.loc = lib.loc, character.only = TRUE, logical.return = TRUE, :\n",
      "\"there is no package called 'naniar'\"\n",
      "Installing package into 'C:/Users/meir/Documents/R/win-library/3.6'\n",
      "(as 'lib' is unspecified)\n",
      "\n",
      "also installing the dependencies 'visdat', 'UpSetR'\n",
      "\n",
      "\n"
     ]
    },
    {
     "name": "stdout",
     "output_type": "stream",
     "text": [
      "package 'visdat' successfully unpacked and MD5 sums checked\n",
      "package 'UpSetR' successfully unpacked and MD5 sums checked\n",
      "package 'naniar' successfully unpacked and MD5 sums checked\n",
      "\n",
      "The downloaded binary packages are in\n",
      "\tC:\\Users\\meir\\AppData\\Local\\Temp\\RtmpGO9fNF\\downloaded_packages\n"
     ]
    },
    {
     "name": "stderr",
     "output_type": "stream",
     "text": [
      "Loading required package: naniar\n",
      "\n",
      "Warning message:\n",
      "\"package 'naniar' was built under R version 3.6.2\"\n",
      "Loading required package: mvoutlier\n",
      "\n",
      "Loading required package: sgeostat\n",
      "\n",
      "Registered S3 method overwritten by 'GGally':\n",
      "  method from   \n",
      "  +.gg   ggplot2\n",
      "\n",
      "sROC 0.1-2 loaded\n",
      "\n",
      "Loading required package: MissMech\n",
      "\n",
      "Warning message in library(package, lib.loc = lib.loc, character.only = TRUE, logical.return = TRUE, :\n",
      "\"there is no package called 'MissMech'\"\n",
      "Installing package into 'C:/Users/meir/Documents/R/win-library/3.6'\n",
      "(as 'lib' is unspecified)\n",
      "\n"
     ]
    },
    {
     "name": "stdout",
     "output_type": "stream",
     "text": [
      "package 'MissMech' successfully unpacked and MD5 sums checked\n",
      "\n",
      "The downloaded binary packages are in\n",
      "\tC:\\Users\\meir\\AppData\\Local\\Temp\\RtmpGO9fNF\\downloaded_packages\n"
     ]
    },
    {
     "name": "stderr",
     "output_type": "stream",
     "text": [
      "Loading required package: MissMech\n",
      "\n",
      "Loading required package: mice\n",
      "\n",
      "Loading required package: lattice\n",
      "\n",
      "Registered S3 methods overwritten by 'lme4':\n",
      "  method                          from\n",
      "  cooks.distance.influence.merMod car \n",
      "  influence.merMod                car \n",
      "  dfbeta.influence.merMod         car \n",
      "  dfbetas.influence.merMod        car \n",
      "\n",
      "\n",
      "Attaching package: 'mice'\n",
      "\n",
      "\n",
      "The following objects are masked from 'package:base':\n",
      "\n",
      "    cbind, rbind\n",
      "\n",
      "\n",
      "Loading required package: MatchIt\n",
      "\n"
     ]
    }
   ],
   "source": [
    "if(!require(ggExtra)) {install.packages(\"ggExtra\");require(ggExtra)}\n",
    "if(!require(naniar)) {install.packages(\"naniar\");require(naniar)}\n",
    "if(!require(mvoutlier)) {install.packages(\"mvoutlier\");require(mvoutlier)}\n",
    "if(!require(MissMech)) {install.packages(\"MissMech\");require(MissMech)}\n",
    "if(!require(mice)) {install.packages(\"mice\");require(mice)}\n",
    "if(!require(MatchIt)) {install.packages(\"MatchIt\");require(MatchIt)}"
   ]
  },
  {
   "cell_type": "code",
   "execution_count": null,
   "metadata": {},
   "outputs": [],
   "source": []
  }
 ],
 "metadata": {
  "kernelspec": {
   "display_name": "R",
   "language": "R",
   "name": "ir"
  },
  "language_info": {
   "codemirror_mode": "r",
   "file_extension": ".r",
   "mimetype": "text/x-r-source",
   "name": "R",
   "pygments_lexer": "r",
   "version": "3.6.1"
  }
 },
 "nbformat": 4,
 "nbformat_minor": 2
}
