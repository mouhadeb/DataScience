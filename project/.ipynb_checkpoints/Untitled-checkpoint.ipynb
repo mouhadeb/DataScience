{
 "cells": [
  {
   "cell_type": "code",
   "execution_count": 1,
   "metadata": {},
   "outputs": [
    {
     "ename": "ERROR",
     "evalue": "Error in lookup.xport(file): unable to open file: 'No such file or directory'\n",
     "output_type": "error",
     "traceback": [
      "Error in lookup.xport(file): unable to open file: 'No such file or directory'\nTraceback:\n",
      "1. read.xport((\"C:/Users/meir/Documents/DataScience/data/DEMO_J.XPT\"))",
      "2. lookup.xport(file)"
     ]
    }
   ],
   "source": [
    "library(foreign)\n",
    "mydata <- read.xport((\"C:/Users/meir/Documents/DataScience/data/DEMO_J.XPT\"))\n",
    "write.csv(mydata, file = \"C:/Users/meir/Documents/DataScience/data/DEMO_J.csv\", row.names = FALSE)"
   ]
  },
  {
   "cell_type": "code",
   "execution_count": 7,
   "metadata": {},
   "outputs": [
    {
     "data": {
      "text/html": [
       "<table>\n",
       "<caption>A data.frame: 6 × 46</caption>\n",
       "<thead>\n",
       "\t<tr><th></th><th scope=col>SEQN</th><th scope=col>SDDSRVYR</th><th scope=col>RIDSTATR</th><th scope=col>RIAGENDR</th><th scope=col>RIDAGEYR</th><th scope=col>RIDAGEMN</th><th scope=col>RIDRETH1</th><th scope=col>RIDRETH3</th><th scope=col>RIDEXMON</th><th scope=col>RIDEXAGM</th><th scope=col>...</th><th scope=col>DMDHREDZ</th><th scope=col>DMDHRMAZ</th><th scope=col>DMDHSEDZ</th><th scope=col>WTINT2YR</th><th scope=col>WTMEC2YR</th><th scope=col>SDMVPSU</th><th scope=col>SDMVSTRA</th><th scope=col>INDHHIN2</th><th scope=col>INDFMIN2</th><th scope=col>INDFMPIR</th></tr>\n",
       "\t<tr><th></th><th scope=col>&lt;dbl&gt;</th><th scope=col>&lt;dbl&gt;</th><th scope=col>&lt;dbl&gt;</th><th scope=col>&lt;dbl&gt;</th><th scope=col>&lt;dbl&gt;</th><th scope=col>&lt;dbl&gt;</th><th scope=col>&lt;dbl&gt;</th><th scope=col>&lt;dbl&gt;</th><th scope=col>&lt;dbl&gt;</th><th scope=col>&lt;dbl&gt;</th><th scope=col>...</th><th scope=col>&lt;dbl&gt;</th><th scope=col>&lt;dbl&gt;</th><th scope=col>&lt;dbl&gt;</th><th scope=col>&lt;dbl&gt;</th><th scope=col>&lt;dbl&gt;</th><th scope=col>&lt;dbl&gt;</th><th scope=col>&lt;dbl&gt;</th><th scope=col>&lt;dbl&gt;</th><th scope=col>&lt;dbl&gt;</th><th scope=col>&lt;dbl&gt;</th></tr>\n",
       "</thead>\n",
       "<tbody>\n",
       "\t<tr><th scope=row>1</th><td>93703</td><td>10</td><td>2</td><td>2</td><td> 2</td><td>NA</td><td>5</td><td>6</td><td>2</td><td> 27</td><td>...</td><td>3</td><td>1</td><td> 3</td><td> 9246.492</td><td> 8539.731</td><td>2</td><td>145</td><td>15</td><td>15</td><td>5.00</td></tr>\n",
       "\t<tr><th scope=row>2</th><td>93704</td><td>10</td><td>2</td><td>1</td><td> 2</td><td>NA</td><td>3</td><td>3</td><td>1</td><td> 33</td><td>...</td><td>3</td><td>1</td><td> 2</td><td>37338.768</td><td>42566.615</td><td>1</td><td>143</td><td>15</td><td>15</td><td>5.00</td></tr>\n",
       "\t<tr><th scope=row>3</th><td>93705</td><td>10</td><td>2</td><td>2</td><td>66</td><td>NA</td><td>4</td><td>4</td><td>2</td><td> NA</td><td>...</td><td>1</td><td>2</td><td>NA</td><td> 8614.571</td><td> 8338.420</td><td>2</td><td>145</td><td> 3</td><td> 3</td><td>0.82</td></tr>\n",
       "\t<tr><th scope=row>4</th><td>93706</td><td>10</td><td>2</td><td>1</td><td>18</td><td>NA</td><td>5</td><td>6</td><td>2</td><td>222</td><td>...</td><td>3</td><td>1</td><td> 2</td><td> 8548.633</td><td> 8723.440</td><td>2</td><td>134</td><td>NA</td><td>NA</td><td>  NA</td></tr>\n",
       "\t<tr><th scope=row>5</th><td>93707</td><td>10</td><td>2</td><td>1</td><td>13</td><td>NA</td><td>5</td><td>7</td><td>2</td><td>158</td><td>...</td><td>2</td><td>1</td><td> 3</td><td> 6769.345</td><td> 7064.610</td><td>1</td><td>138</td><td>10</td><td>10</td><td>1.88</td></tr>\n",
       "\t<tr><th scope=row>6</th><td>93708</td><td>10</td><td>2</td><td>2</td><td>66</td><td>NA</td><td>5</td><td>6</td><td>2</td><td> NA</td><td>...</td><td>1</td><td>1</td><td> 1</td><td>13329.451</td><td>14372.489</td><td>2</td><td>138</td><td> 6</td><td> 6</td><td>1.63</td></tr>\n",
       "</tbody>\n",
       "</table>\n"
      ],
      "text/latex": [
       "A data.frame: 6 × 46\n",
       "\\begin{tabular}{r|lllllllllllllllllllll}\n",
       "  & SEQN & SDDSRVYR & RIDSTATR & RIAGENDR & RIDAGEYR & RIDAGEMN & RIDRETH1 & RIDRETH3 & RIDEXMON & RIDEXAGM & ... & DMDHREDZ & DMDHRMAZ & DMDHSEDZ & WTINT2YR & WTMEC2YR & SDMVPSU & SDMVSTRA & INDHHIN2 & INDFMIN2 & INDFMPIR\\\\\n",
       "  & <dbl> & <dbl> & <dbl> & <dbl> & <dbl> & <dbl> & <dbl> & <dbl> & <dbl> & <dbl> & ... & <dbl> & <dbl> & <dbl> & <dbl> & <dbl> & <dbl> & <dbl> & <dbl> & <dbl> & <dbl>\\\\\n",
       "\\hline\n",
       "\t1 & 93703 & 10 & 2 & 2 &  2 & NA & 5 & 6 & 2 &  27 & ... & 3 & 1 &  3 &  9246.492 &  8539.731 & 2 & 145 & 15 & 15 & 5.00\\\\\n",
       "\t2 & 93704 & 10 & 2 & 1 &  2 & NA & 3 & 3 & 1 &  33 & ... & 3 & 1 &  2 & 37338.768 & 42566.615 & 1 & 143 & 15 & 15 & 5.00\\\\\n",
       "\t3 & 93705 & 10 & 2 & 2 & 66 & NA & 4 & 4 & 2 &  NA & ... & 1 & 2 & NA &  8614.571 &  8338.420 & 2 & 145 &  3 &  3 & 0.82\\\\\n",
       "\t4 & 93706 & 10 & 2 & 1 & 18 & NA & 5 & 6 & 2 & 222 & ... & 3 & 1 &  2 &  8548.633 &  8723.440 & 2 & 134 & NA & NA &   NA\\\\\n",
       "\t5 & 93707 & 10 & 2 & 1 & 13 & NA & 5 & 7 & 2 & 158 & ... & 2 & 1 &  3 &  6769.345 &  7064.610 & 1 & 138 & 10 & 10 & 1.88\\\\\n",
       "\t6 & 93708 & 10 & 2 & 2 & 66 & NA & 5 & 6 & 2 &  NA & ... & 1 & 1 &  1 & 13329.451 & 14372.489 & 2 & 138 &  6 &  6 & 1.63\\\\\n",
       "\\end{tabular}\n"
      ],
      "text/markdown": [
       "\n",
       "A data.frame: 6 × 46\n",
       "\n",
       "| <!--/--> | SEQN &lt;dbl&gt; | SDDSRVYR &lt;dbl&gt; | RIDSTATR &lt;dbl&gt; | RIAGENDR &lt;dbl&gt; | RIDAGEYR &lt;dbl&gt; | RIDAGEMN &lt;dbl&gt; | RIDRETH1 &lt;dbl&gt; | RIDRETH3 &lt;dbl&gt; | RIDEXMON &lt;dbl&gt; | RIDEXAGM &lt;dbl&gt; | ... ... | DMDHREDZ &lt;dbl&gt; | DMDHRMAZ &lt;dbl&gt; | DMDHSEDZ &lt;dbl&gt; | WTINT2YR &lt;dbl&gt; | WTMEC2YR &lt;dbl&gt; | SDMVPSU &lt;dbl&gt; | SDMVSTRA &lt;dbl&gt; | INDHHIN2 &lt;dbl&gt; | INDFMIN2 &lt;dbl&gt; | INDFMPIR &lt;dbl&gt; |\n",
       "|---|---|---|---|---|---|---|---|---|---|---|---|---|---|---|---|---|---|---|---|---|---|\n",
       "| 1 | 93703 | 10 | 2 | 2 |  2 | NA | 5 | 6 | 2 |  27 | ... | 3 | 1 |  3 |  9246.492 |  8539.731 | 2 | 145 | 15 | 15 | 5.00 |\n",
       "| 2 | 93704 | 10 | 2 | 1 |  2 | NA | 3 | 3 | 1 |  33 | ... | 3 | 1 |  2 | 37338.768 | 42566.615 | 1 | 143 | 15 | 15 | 5.00 |\n",
       "| 3 | 93705 | 10 | 2 | 2 | 66 | NA | 4 | 4 | 2 |  NA | ... | 1 | 2 | NA |  8614.571 |  8338.420 | 2 | 145 |  3 |  3 | 0.82 |\n",
       "| 4 | 93706 | 10 | 2 | 1 | 18 | NA | 5 | 6 | 2 | 222 | ... | 3 | 1 |  2 |  8548.633 |  8723.440 | 2 | 134 | NA | NA |   NA |\n",
       "| 5 | 93707 | 10 | 2 | 1 | 13 | NA | 5 | 7 | 2 | 158 | ... | 2 | 1 |  3 |  6769.345 |  7064.610 | 1 | 138 | 10 | 10 | 1.88 |\n",
       "| 6 | 93708 | 10 | 2 | 2 | 66 | NA | 5 | 6 | 2 |  NA | ... | 1 | 1 |  1 | 13329.451 | 14372.489 | 2 | 138 |  6 |  6 | 1.63 |\n",
       "\n"
      ],
      "text/plain": [
       "  SEQN  SDDSRVYR RIDSTATR RIAGENDR RIDAGEYR RIDAGEMN RIDRETH1 RIDRETH3 RIDEXMON\n",
       "1 93703 10       2        2         2       NA       5        6        2       \n",
       "2 93704 10       2        1         2       NA       3        3        1       \n",
       "3 93705 10       2        2        66       NA       4        4        2       \n",
       "4 93706 10       2        1        18       NA       5        6        2       \n",
       "5 93707 10       2        1        13       NA       5        7        2       \n",
       "6 93708 10       2        2        66       NA       5        6        2       \n",
       "  RIDEXAGM ... DMDHREDZ DMDHRMAZ DMDHSEDZ WTINT2YR  WTMEC2YR  SDMVPSU SDMVSTRA\n",
       "1  27      ... 3        1         3        9246.492  8539.731 2       145     \n",
       "2  33      ... 3        1         2       37338.768 42566.615 1       143     \n",
       "3  NA      ... 1        2        NA        8614.571  8338.420 2       145     \n",
       "4 222      ... 3        1         2        8548.633  8723.440 2       134     \n",
       "5 158      ... 2        1         3        6769.345  7064.610 1       138     \n",
       "6  NA      ... 1        1         1       13329.451 14372.489 2       138     \n",
       "  INDHHIN2 INDFMIN2 INDFMPIR\n",
       "1 15       15       5.00    \n",
       "2 15       15       5.00    \n",
       "3  3        3       0.82    \n",
       "4 NA       NA         NA    \n",
       "5 10       10       1.88    \n",
       "6  6        6       1.63    "
      ]
     },
     "metadata": {},
     "output_type": "display_data"
    }
   ],
   "source": [
    "head(mydata)"
   ]
  },
  {
   "cell_type": "code",
   "execution_count": null,
   "metadata": {},
   "outputs": [],
   "source": []
  }
 ],
 "metadata": {
  "kernelspec": {
   "display_name": "R",
   "language": "R",
   "name": "ir"
  },
  "language_info": {
   "codemirror_mode": "r",
   "file_extension": ".r",
   "mimetype": "text/x-r-source",
   "name": "R",
   "pygments_lexer": "r",
   "version": "3.6.1"
  }
 },
 "nbformat": 4,
 "nbformat_minor": 2
}
