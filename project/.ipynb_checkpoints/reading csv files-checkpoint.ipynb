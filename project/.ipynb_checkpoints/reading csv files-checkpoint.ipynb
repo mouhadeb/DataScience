{
 "cells": [
  {
   "cell_type": "code",
   "execution_count": null,
   "metadata": {},
   "outputs": [],
   "source": [
    "library(foreign)\n",
    "mydata <- read.xport((\"C:/Users/meir/Documents/DataScience/data/filename.xpt\"))\n",
    "write.csv(mydata, file = \"C:/Users/meir/Documents/DataScience/data/filename.csv\", row.names = FALSE)"
   ]
  }
 ],
 "metadata": {
  "kernelspec": {
   "display_name": "R",
   "language": "R",
   "name": "ir"
  },
  "language_info": {
   "codemirror_mode": "r",
   "file_extension": ".r",
   "mimetype": "text/x-r-source",
   "name": "R",
   "pygments_lexer": "r",
   "version": "3.6.1"
  }
 },
 "nbformat": 4,
 "nbformat_minor": 2
}
